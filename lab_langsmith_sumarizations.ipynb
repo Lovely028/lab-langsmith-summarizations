{
  "cells": [
    {
      "cell_type": "markdown",
      "id": "52bb9c6d-7a1c-480a-93c9-acf847773163",
      "metadata": {
        "id": "52bb9c6d-7a1c-480a-93c9-acf847773163"
      },
      "source": [
        "# Lab | Summarization evaluation using LangSmith\n",
        "Let's revisit your capstone project 2? Well, sort of. Pick diffierent sets of data and re-run this notebook. Maybe parts of the dataset you used in your last project week. The point is for you to understand all steps involve and the many different ways one can and should evaluate LLM applications using LangSmith.\n",
        "\n",
        "What did you learn? - Let's discuss that in class"
      ]
    },
    {
      "cell_type": "markdown",
      "id": "00830bb4-eb0f-4439-9ceb-c5956d28a8a9",
      "metadata": {
        "id": "00830bb4-eb0f-4439-9ceb-c5956d28a8a9"
      },
      "source": [
        "## LangSmith - LangChain evaluation"
      ]
    },
    {
      "cell_type": "code",
      "execution_count": 2,
      "id": "6db4887a-a214-49bc-9bb6-0ae59c1092ec",
      "metadata": {
        "id": "6db4887a-a214-49bc-9bb6-0ae59c1092ec",
        "tags": []
      },
      "outputs": [],
      "source": [
        "from google.colab import userdata\n",
        "\n",
        "OPENAI_API_KEY  = userdata.get('OPENAI_API_KEY')\n",
        "LANGCHAIN_API_KEY = userdata.get(\"LANGCHAIN_API_KEY\")\n",
        "HUGGINGFACEHUB_API_TOKEN = userdata.get(\"HF_TOKEN\")"
      ]
    },
    {
      "cell_type": "code",
      "execution_count": 4,
      "id": "5f4adff9-1169-4173-a72b-c983dcb6160d",
      "metadata": {
        "id": "5f4adff9-1169-4173-a72b-c983dcb6160d",
        "tags": []
      },
      "outputs": [],
      "source": [
        "import os\n",
        "\n",
        "os.environ[\"LANGCHAIN_TRACING_V2\"] = \"true\"\n",
        "os.environ[\"LANGCHAIN_ENDPOINT\"]=\"https://api.smith.langchain.com\"\n",
        "os.environ[\"LANGCHAIN_PROJECT\"]=\"langsmith_max-test\""
      ]
    },
    {
      "cell_type": "code",
      "execution_count": 5,
      "id": "0189af0e-8145-407b-a32d-2f21ac0ca5ff",
      "metadata": {
        "id": "0189af0e-8145-407b-a32d-2f21ac0ca5ff",
        "tags": []
      },
      "outputs": [],
      "source": [
        "#Importing Client from Langsmith\n",
        "from langsmith import Client\n",
        "client = Client(api_key=LANGCHAIN_API_KEY)"
      ]
    },
    {
      "cell_type": "markdown",
      "id": "4e7c4be2-fdae-42cf-b1b2-9aef89081ad2",
      "metadata": {
        "id": "4e7c4be2-fdae-42cf-b1b2-9aef89081ad2"
      },
      "source": [
        "### Create Dataset\n"
      ]
    },
    {
      "cell_type": "code",
      "execution_count": 10,
      "id": "dbc219ae-1760-4f3d-92e6-aaeb6fb7ee9f",
      "metadata": {
        "colab": {
          "base_uri": "https://localhost:8080/",
          "height": 241,
          "referenced_widgets": [
            "e8b3fd29e52047c2ba301d61d4b4b86a",
            "80d7b069b9304445ba9494ea385206df",
            "e0a95404c6024971a7a6de2dfa566c5d",
            "be0a7e8c230c4875b28e81b3fcdc3172",
            "24b3d87253f14188badfbcfeeb170df4",
            "7d5982f69bc74fcba80f2bd238311381",
            "89db25646c1e4201b87d664684575150",
            "70ed5c57218f438a91276b7c4e465b08",
            "7d6d831c811f4a628f9bbbf3da21d422",
            "1eacaab640cd4e7c800c75cd6f053560",
            "8dc2d44e25a84af8a6ef5f93f7405276",
            "ed65c39c96d94c8b8d0b237422d5b105",
            "2c1a188614f74be6b82ed3c01d6483ae",
            "10c8d45361754a1aaf9e0e2088284759",
            "5d97403d1b9a45a9bf66ad8f28b277b8",
            "eb82122bdc4a4849bf9d2ffa20650384",
            "2a0dccd97a7946f68c309a36d02a7f0d",
            "31d205d546364167a46e820ea83b8564",
            "dc227bca5b394bbf900ae4c41fa97b73",
            "a4fa5d137da44dc8bc38fbdf25c8c98c",
            "d1244215d9e4492faf2d9e552b162cca",
            "6493b2ab5d0c41a991d9fccddc229c3c",
            "25bf6c2a62864932845444cc9dcfa888",
            "f36e1fda2c3d4453b7b4951e5179cef0",
            "83ad30f97c3f4a3298a3839d3dde25bf",
            "39f73c2830eb4303826dce3abbe1790a",
            "5d7b25761f0d4fad97901fba22aa0d19",
            "d8dc5054f0a84bc2902cb16cf5efc6a1",
            "3ebafc0083264574867a829a21c6e2f6",
            "8333affe32fc4e7b808c2be9948ee82c",
            "21bc7da9fb4c4e3490b42274a49e6ec9",
            "a83667858cfa4d93b08a631ea650b245",
            "df1a86ab211b418ea6e1698ba0e69ea5",
            "10e1c92d8e154f4b8bfb2dd9cf7857d0",
            "5dde5c91a4334a6e93a8456ae220e9a4",
            "2fd30be796064ade86ccf6586c767565",
            "9ce2317c6a22435c99fdf5bd1c1bddde",
            "e10cf3167567411bab53fb9535b3690e",
            "28c16a0ecdca46058234448ec4e26f9c",
            "8069e9b7790842feb713fa350ec22ebc",
            "580b198754144cbe8dfeaa7edbb8cddb",
            "c22b089cce0b4708957582ef969294df",
            "a0df65b8631842d0bd3fce730901335a",
            "91975ba2b9314a2884e5e2a73d417396",
            "6c303419cb0e4836ab6c96db43696553",
            "c7b0bd4f7f6c4dc38aa320c52a2a71ee",
            "606edc371103416dac422397b46aadb7",
            "d3791a0795d4488caca8175e71871857",
            "c5273e15b0c943dbb336363a97169323",
            "41e38acc402c45d2a1332f0e78c1a5ca",
            "0151467417024354ac98ef310b588d65",
            "f0f81c9ece9546b79a7008c1d63b913e",
            "38cdb537ebb348c3bbab39d617521715",
            "a61d388bdf504764bd18bb313035df00",
            "1cad8d76430347bf869ed84b0de83ed3",
            "b6a6ea378d7949b9a73988c71adab49c",
            "a84df03cbab74182b105310bc3cede94",
            "0e1154be244a427fa2e2e7d572c3be78",
            "77e7837d9c8840f5bddf184ed140466b",
            "5d1b1a75721f42d59335736ea003add0",
            "ad0e7fa700e746ec8156629a758742bd",
            "cdf3c86c6f1b49fa9b4e50008c035d52",
            "827f0ff23c46427381c344fc23f70c5d",
            "2e033cb7715b4a0a8b8a9de6c1db816a",
            "aa75d55e0a694e46a923bca1873aaf02",
            "a4e85728d081441784079199569b79b1",
            "771c776f8c0d4d7b91169120855db389",
            "b2c19513fbf54ea1bba5b1a8d3570f38",
            "713eab24bfcb4543a9b6da2c37b523d7",
            "4fa076a89bc1494b82a5e5635ad46baa",
            "e5c2d1aceeea42dd90fabc13bbe99774",
            "f575e7e5504b40a79359b0cee799957c",
            "e4c8069337a54efea5da150a263f731f",
            "c7458e6ed92c42d6afe246eb2427d55d",
            "b31cd47f771b43b99545cda3e2059420",
            "cd9dc5d07e644c909d3646c5bd1d5da0",
            "e800b90ffe4d4ff19ddfcc69b8da1aa5"
          ]
        },
        "id": "dbc219ae-1760-4f3d-92e6-aaeb6fb7ee9f",
        "outputId": "b59ac509-d142-4808-e625-16528fd40bde",
        "tags": []
      },
      "outputs": [
        {
          "output_type": "display_data",
          "data": {
            "text/plain": [
              "README.md: 0.00B [00:00, ?B/s]"
            ],
            "application/vnd.jupyter.widget-view+json": {
              "version_major": 2,
              "version_minor": 0,
              "model_id": "e8b3fd29e52047c2ba301d61d4b4b86a"
            }
          },
          "metadata": {}
        },
        {
          "output_type": "display_data",
          "data": {
            "text/plain": [
              "data/train-00000-of-00001.parquet:   0%|          | 0.00/91.8M [00:00<?, ?B/s]"
            ],
            "application/vnd.jupyter.widget-view+json": {
              "version_major": 2,
              "version_minor": 0,
              "model_id": "ed65c39c96d94c8b8d0b237422d5b105"
            }
          },
          "metadata": {}
        },
        {
          "output_type": "display_data",
          "data": {
            "text/plain": [
              "data/test-00000-of-00001.parquet:   0%|          | 0.00/15.8M [00:00<?, ?B/s]"
            ],
            "application/vnd.jupyter.widget-view+json": {
              "version_major": 2,
              "version_minor": 0,
              "model_id": "25bf6c2a62864932845444cc9dcfa888"
            }
          },
          "metadata": {}
        },
        {
          "output_type": "display_data",
          "data": {
            "text/plain": [
              "data/ca_test-00000-of-00001.parquet:   0%|          | 0.00/6.12M [00:00<?, ?B/s]"
            ],
            "application/vnd.jupyter.widget-view+json": {
              "version_major": 2,
              "version_minor": 0,
              "model_id": "10e1c92d8e154f4b8bfb2dd9cf7857d0"
            }
          },
          "metadata": {}
        },
        {
          "output_type": "display_data",
          "data": {
            "text/plain": [
              "Generating train split:   0%|          | 0/18949 [00:00<?, ? examples/s]"
            ],
            "application/vnd.jupyter.widget-view+json": {
              "version_major": 2,
              "version_minor": 0,
              "model_id": "6c303419cb0e4836ab6c96db43696553"
            }
          },
          "metadata": {}
        },
        {
          "output_type": "display_data",
          "data": {
            "text/plain": [
              "Generating test split:   0%|          | 0/3269 [00:00<?, ? examples/s]"
            ],
            "application/vnd.jupyter.widget-view+json": {
              "version_major": 2,
              "version_minor": 0,
              "model_id": "b6a6ea378d7949b9a73988c71adab49c"
            }
          },
          "metadata": {}
        },
        {
          "output_type": "display_data",
          "data": {
            "text/plain": [
              "Generating ca_test split:   0%|          | 0/1237 [00:00<?, ? examples/s]"
            ],
            "application/vnd.jupyter.widget-view+json": {
              "version_major": 2,
              "version_minor": 0,
              "model_id": "771c776f8c0d4d7b91169120855db389"
            }
          },
          "metadata": {}
        }
      ],
      "source": [
        "from datasets import load_dataset\n",
        "cnn_dataset = load_dataset(\n",
        "    \"billsum\", split='train'\n",
        ")"
      ]
    },
    {
      "cell_type": "code",
      "execution_count": 17,
      "id": "7684f9ef-f665-42c1-ac89-f2726f7ae0da",
      "metadata": {
        "id": "7684f9ef-f665-42c1-ac89-f2726f7ae0da",
        "tags": []
      },
      "outputs": [],
      "source": [
        "def add_prefix(example):\n",
        "    return {\n",
        "        **example,\n",
        "        \"text\": f\"Summarize this news:\\n{example['text']}\"\n",
        "    }\n",
        "\n",
        "#cnn_dataset = cnn_dataset.map(add_prefix)"
      ]
    },
    {
      "cell_type": "code",
      "execution_count": 14,
      "id": "3b54b146-e870-4721-a0ae-03401d52d8ac",
      "metadata": {
        "tags": [],
        "colab": {
          "base_uri": "https://localhost:8080/"
        },
        "id": "3b54b146-e870-4721-a0ae-03401d52d8ac",
        "outputId": "cec8f1dd-1a34-4e83-efb5-56caea0ed2a7"
      },
      "outputs": [
        {
          "output_type": "execute_result",
          "data": {
            "text/plain": [
              "Dataset({\n",
              "    features: ['text', 'summary', 'title'],\n",
              "    num_rows: 18949\n",
              "})"
            ]
          },
          "metadata": {},
          "execution_count": 14
        }
      ],
      "source": [
        "cnn_dataset"
      ]
    },
    {
      "cell_type": "code",
      "execution_count": 15,
      "id": "4925ad37-55f3-44b1-9c46-3adcc8c58942",
      "metadata": {
        "tags": [],
        "colab": {
          "base_uri": "https://localhost:8080/"
        },
        "id": "4925ad37-55f3-44b1-9c46-3adcc8c58942",
        "outputId": "93944439-a751-451a-c53d-83d66d73eeef"
      },
      "outputs": [
        {
          "output_type": "execute_result",
          "data": {
            "text/plain": [
              "{'text': \"SECTION 1. LIABILITY OF BUSINESS ENTITIES PROVIDING USE OF FACILITIES \\n              TO NONPROFIT ORGANIZATIONS.\\n\\n    (a) Definitions.--In this section:\\n            (1) Business entity.--The term ``business entity'' means a \\n        firm, corporation, association, partnership, consortium, joint \\n        venture, or other form of enterprise.\\n            (2) Facility.--The term ``facility'' means any real \\n        property, including any building, improvement, or appurtenance.\\n            (3) Gross negligence.--The term ``gross negligence'' means \\n        voluntary and conscious conduct by a person with knowledge (at \\n        the time of the conduct) that the conduct is likely to be \\n        harmful to the health or well-being of another person.\\n            (4) Intentional misconduct.--The term ``intentional \\n        misconduct'' means conduct by a person with knowledge (at the \\n        time of the conduct) that the conduct is harmful to the health \\n        or well-being of another person.\\n            (5) Nonprofit organization.--The term ``nonprofit \\n        organization'' means--\\n                    (A) any organization described in section 501(c)(3) \\n                of the Internal Revenue Code of 1986 and exempt from \\n                tax under section 501(a) of such Code; or\\n                    (B) any not-for-profit organization organized and \\n                conducted for public benefit and operated primarily for \\n                charitable, civic, educational, religious, welfare, or \\n                health purposes.\\n            (6) State.--The term ``State'' means each of the several \\n        States, the District of Columbia, the Commonwealth of Puerto \\n        Rico, the Virgin Islands, Guam, American Samoa, the Northern \\n        Mariana Islands, any other territory or possession of the \\n        United States, or any political subdivision of any such State, \\n        territory, or possession.\\n    (b) Limitation on Liability.--\\n            (1) In general.--Subject to subsection (c), a business \\n        entity shall not be subject to civil liability relating to any \\n        injury or death occurring at a facility of the business entity \\n        in connection with a use of such facility by a nonprofit \\n        organization if--\\n                    (A) the use occurs outside of the scope of business \\n                of the business entity;\\n                    (B) such injury or death occurs during a period \\n                that such facility is used by the nonprofit \\n                organization; and\\n                    (C) the business entity authorized the use of such \\n                facility by the nonprofit organization.\\n            (2) Application.--This subsection shall apply--\\n                    (A) with respect to civil liability under Federal \\n                and State law; and\\n                    (B) regardless of whether a nonprofit organization \\n                pays for the use of a facility.\\n    (c) Exception for Liability.--Subsection (b) shall not apply to an \\ninjury or death that results from an act or omission of a business \\nentity that constitutes gross negligence or intentional misconduct, \\nincluding any misconduct that--\\n            (1) constitutes a crime of violence (as that term is \\n        defined in section 16 of title 18, United States Code) or act \\n        of international terrorism (as that term is defined in section \\n        2331 of title 18) for which the defendant has been convicted in \\n        any court;\\n            (2) constitutes a hate crime (as that term is used in the \\n        Hate Crime Statistics Act (28 U.S.C. 534 note));\\n            (3) involves a sexual offense, as defined by applicable \\n        State law, for which the defendant has been convicted in any \\n        court; or\\n            (4) involves misconduct for which the defendant has been \\n        found to have violated a Federal or State civil rights law.\\n    (d) Superseding Provision.--\\n            (1) In general.--Subject to paragraph (2) and subsection \\n        (e), this Act preempts the laws of any State to the extent that \\n        such laws are inconsistent with this Act, except that this Act \\n        shall not preempt any State law that provides additional \\n        protection from liability for a business entity for an injury \\n        or death with respect to which conditions under subparagraphs \\n        (A) through (C) of subsection (b)(1) apply.\\n            (2) Limitation.--Nothing in this Act shall be construed to \\n        supersede any Federal or State health or safety law.\\n    (e) Election of State Regarding Nonapplicability.--This Act shall \\nnot apply to any civil action in a State court against a business \\nentity in which all parties are citizens of the State if such State \\nenacts a statute--\\n            (1) citing the authority of this subsection;\\n            (2) declaring the election of such State that this Act \\n        shall not apply to such civil action in the State; and\\n            (3) containing no other provision.\",\n",
              " 'summary': \"Shields a business entity from civil liability relating to any injury or death occurring at a facility of that entity in connection with a use of such facility by a nonprofit organization if: (1) the use occurs outside the scope of business of the business entity; (2) such injury or death occurs during a period that such facility is used by such organization; and (3) the business entity authorized the use of such facility by the organization. \\nMakes this Act inapplicable to an injury or death that results from an act or omission of a business entity that constitutes gross negligence or intentional misconduct, including misconduct that: (1) constitutes a hate crime or a crime of violence or act of international terrorism for which the defendant has been convicted in any court; or (2) involves a sexual offense for which the defendant has been convicted in any court or misconduct for which the defendant has been found to have violated a Federal or State civil rights law. \\nPreempts State laws to the extent that such laws are inconsistent with this Act, except State law that provides additional protection from liability.  Specifies that this Act shall not be construed to supersede any Federal or State health or safety law. \\nMakes this Act inapplicable to any civil action in a State court against a business entity in which all parties are citizens of the State if such State, citing this Act's authority and containing no other provision, enacts a statute declaring the State's election that this Act shall not apply to such action in the State.\",\n",
              " 'title': 'A bill to limit the civil liability of business entities providing use of facilities to nonprofit organizations.'}"
            ]
          },
          "metadata": {},
          "execution_count": 15
        }
      ],
      "source": [
        "cnn_dataset[0]"
      ]
    },
    {
      "cell_type": "code",
      "execution_count": 18,
      "id": "3fc26871-68d9-4ab1-a9c9-b6caf241d636",
      "metadata": {
        "colab": {
          "base_uri": "https://localhost:8080/",
          "height": 118,
          "referenced_widgets": [
            "d45ec2e795ce48429c698a44e7ddaeae",
            "1ffbae46f7a944509383cbec24c62db4",
            "909b1127bbd34b228d3d945f450042ec",
            "4e8ac7ceb0204d2bbf6f681467165019",
            "812b3a720cbe4bea9afd3e6779043f17",
            "eda911085bfb4ed18a40f4b671103c10",
            "4b0cdcb3896e4a009afa14163f592f8f",
            "af22ad9242bc492892d68f7f811d8c65",
            "f9293b7218db4b9297aee9b5d5b4ce45",
            "7939cce14e0f4ba39fea429f163f2c3c",
            "33ad87a531d043409ff7872711aac94d"
          ]
        },
        "id": "3fc26871-68d9-4ab1-a9c9-b6caf241d636",
        "outputId": "c77cc2b8-158d-40ee-b47e-989ab54e4458",
        "tags": []
      },
      "outputs": [
        {
          "output_type": "display_data",
          "data": {
            "text/plain": [
              "Map:   0%|          | 0/10 [00:00<?, ? examples/s]"
            ],
            "application/vnd.jupyter.widget-view+json": {
              "version_major": 2,
              "version_minor": 0,
              "model_id": "d45ec2e795ce48429c698a44e7ddaeae"
            }
          },
          "metadata": {}
        },
        {
          "output_type": "execute_result",
          "data": {
            "text/plain": [
              "Dataset({\n",
              "    features: ['text', 'summary', 'title'],\n",
              "    num_rows: 10\n",
              "})"
            ]
          },
          "metadata": {},
          "execution_count": 18
        }
      ],
      "source": [
        "#Get just a few news to test\n",
        "MAX_NEWS=10\n",
        "sample_cnn = cnn_dataset.select(range(MAX_NEWS)).map(add_prefix)\n",
        "\n",
        "sample_cnn"
      ]
    },
    {
      "cell_type": "markdown",
      "id": "bc0ef576-ea25-446d-a99b-354678a274ba",
      "metadata": {
        "id": "bc0ef576-ea25-446d-a99b-354678a274ba"
      },
      "source": [
        "The dataset contains three columns: article, highlights, and id. To use LangSmith, we need to create a dataset in LangSmith format.\n",
        "\n",
        "LangSmith expects a prompt and a result. To achieve this, we will transform the article into a prompt by adding the prefix: \"Summarize this news.\" As a result, we will use the content of highlights, which represents the summaries created by humans."
      ]
    },
    {
      "cell_type": "code",
      "execution_count": 19,
      "id": "4e3cea3a-fde5-4e52-90f9-d1db4fd30bc2",
      "metadata": {
        "colab": {
          "base_uri": "https://localhost:8080/"
        },
        "id": "4e3cea3a-fde5-4e52-90f9-d1db4fd30bc2",
        "outputId": "cade0319-5ae6-4e20-ccc1-39ae7bfd8439",
        "tags": []
      },
      "outputs": [
        {
          "output_type": "stream",
          "name": "stdout",
          "text": [
            "{'text': \"Summarize this news:\\nSECTION 1. LIABILITY OF BUSINESS ENTITIES PROVIDING USE OF FACILITIES \\n              TO NONPROFIT ORGANIZATIONS.\\n\\n    (a) Definitions.--In this section:\\n            (1) Business entity.--The term ``business entity'' means a \\n        firm, corporation, association, partnership, consortium, joint \\n        venture, or other form of enterprise.\\n            (2) Facility.--The term ``facility'' means any real \\n        property, including any building, improvement, or appurtenance.\\n            (3) Gross negligence.--The term ``gross negligence'' means \\n        voluntary and conscious conduct by a person with knowledge (at \\n        the time of the conduct) that the conduct is likely to be \\n        harmful to the health or well-being of another person.\\n            (4) Intentional misconduct.--The term ``intentional \\n        misconduct'' means conduct by a person with knowledge (at the \\n        time of the conduct) that the conduct is harmful to the health \\n        or well-being of another person.\\n            (5) Nonprofit organization.--The term ``nonprofit \\n        organization'' means--\\n                    (A) any organization described in section 501(c)(3) \\n                of the Internal Revenue Code of 1986 and exempt from \\n                tax under section 501(a) of such Code; or\\n                    (B) any not-for-profit organization organized and \\n                conducted for public benefit and operated primarily for \\n                charitable, civic, educational, religious, welfare, or \\n                health purposes.\\n            (6) State.--The term ``State'' means each of the several \\n        States, the District of Columbia, the Commonwealth of Puerto \\n        Rico, the Virgin Islands, Guam, American Samoa, the Northern \\n        Mariana Islands, any other territory or possession of the \\n        United States, or any political subdivision of any such State, \\n        territory, or possession.\\n    (b) Limitation on Liability.--\\n            (1) In general.--Subject to subsection (c), a business \\n        entity shall not be subject to civil liability relating to any \\n        injury or death occurring at a facility of the business entity \\n        in connection with a use of such facility by a nonprofit \\n        organization if--\\n                    (A) the use occurs outside of the scope of business \\n                of the business entity;\\n                    (B) such injury or death occurs during a period \\n                that such facility is used by the nonprofit \\n                organization; and\\n                    (C) the business entity authorized the use of such \\n                facility by the nonprofit organization.\\n            (2) Application.--This subsection shall apply--\\n                    (A) with respect to civil liability under Federal \\n                and State law; and\\n                    (B) regardless of whether a nonprofit organization \\n                pays for the use of a facility.\\n    (c) Exception for Liability.--Subsection (b) shall not apply to an \\ninjury or death that results from an act or omission of a business \\nentity that constitutes gross negligence or intentional misconduct, \\nincluding any misconduct that--\\n            (1) constitutes a crime of violence (as that term is \\n        defined in section 16 of title 18, United States Code) or act \\n        of international terrorism (as that term is defined in section \\n        2331 of title 18) for which the defendant has been convicted in \\n        any court;\\n            (2) constitutes a hate crime (as that term is used in the \\n        Hate Crime Statistics Act (28 U.S.C. 534 note));\\n            (3) involves a sexual offense, as defined by applicable \\n        State law, for which the defendant has been convicted in any \\n        court; or\\n            (4) involves misconduct for which the defendant has been \\n        found to have violated a Federal or State civil rights law.\\n    (d) Superseding Provision.--\\n            (1) In general.--Subject to paragraph (2) and subsection \\n        (e), this Act preempts the laws of any State to the extent that \\n        such laws are inconsistent with this Act, except that this Act \\n        shall not preempt any State law that provides additional \\n        protection from liability for a business entity for an injury \\n        or death with respect to which conditions under subparagraphs \\n        (A) through (C) of subsection (b)(1) apply.\\n            (2) Limitation.--Nothing in this Act shall be construed to \\n        supersede any Federal or State health or safety law.\\n    (e) Election of State Regarding Nonapplicability.--This Act shall \\nnot apply to any civil action in a State court against a business \\nentity in which all parties are citizens of the State if such State \\nenacts a statute--\\n            (1) citing the authority of this subsection;\\n            (2) declaring the election of such State that this Act \\n        shall not apply to such civil action in the State; and\\n            (3) containing no other provision.\", 'summary': \"Shields a business entity from civil liability relating to any injury or death occurring at a facility of that entity in connection with a use of such facility by a nonprofit organization if: (1) the use occurs outside the scope of business of the business entity; (2) such injury or death occurs during a period that such facility is used by such organization; and (3) the business entity authorized the use of such facility by the organization. \\nMakes this Act inapplicable to an injury or death that results from an act or omission of a business entity that constitutes gross negligence or intentional misconduct, including misconduct that: (1) constitutes a hate crime or a crime of violence or act of international terrorism for which the defendant has been convicted in any court; or (2) involves a sexual offense for which the defendant has been convicted in any court or misconduct for which the defendant has been found to have violated a Federal or State civil rights law. \\nPreempts State laws to the extent that such laws are inconsistent with this Act, except State law that provides additional protection from liability.  Specifies that this Act shall not be construed to supersede any Federal or State health or safety law. \\nMakes this Act inapplicable to any civil action in a State court against a business entity in which all parties are citizens of the State if such State, citing this Act's authority and containing no other provision, enacts a statute declaring the State's election that this Act shall not apply to such action in the State.\", 'title': 'A bill to limit the civil liability of business entities providing use of facilities to nonprofit organizations.'}\n"
          ]
        }
      ],
      "source": [
        "print(sample_cnn[0])"
      ]
    },
    {
      "cell_type": "markdown",
      "id": "1051e780-8871-4fd4-9e18-68ad8bc837f8",
      "metadata": {
        "id": "1051e780-8871-4fd4-9e18-68ad8bc837f8"
      },
      "source": [
        "Now We have the Dataset with the prompt and the Reference Summary, it is time to create a Dataset in LangSmith with this information.\n",
        "### Create the Dataset in Langsmith\n",
        "\n",
        "The dataset in LangSmith is composed of an input, which is the prompt passed to the model for evaluation, and an output, which should contain what we expect the model to return."
      ]
    },
    {
      "cell_type": "code",
      "execution_count": 20,
      "id": "ed9c00f6-f9ad-423f-8a8f-86fdfd30bfe0",
      "metadata": {
        "id": "ed9c00f6-f9ad-423f-8a8f-86fdfd30bfe0",
        "tags": []
      },
      "outputs": [],
      "source": [
        "import datetime"
      ]
    },
    {
      "cell_type": "code",
      "execution_count": 21,
      "id": "221d8e92-c2f1-499c-9e68-3abb752722c4",
      "metadata": {
        "id": "221d8e92-c2f1-499c-9e68-3abb752722c4",
        "tags": []
      },
      "outputs": [],
      "source": [
        "import uuid\n",
        "input_key=['article']\n",
        "output_key=['highlights']\n",
        "\n",
        "NAME_DATASET=f\"Summarize_dataset_{datetime.datetime.now().strftime('%Y-%m-%d %H:%M:%S')}\""
      ]
    },
    {
      "cell_type": "code",
      "execution_count": 23,
      "id": "dcf23c41-e15d-4f63-bd27-233d6599e305",
      "metadata": {
        "colab": {
          "base_uri": "https://localhost:8080/",
          "height": 49,
          "referenced_widgets": [
            "8cae0854d88c45b78c0eca6ad9155ba8",
            "64059ff8106848fb96ac2e5f06dff55f",
            "5d8a3135b0b04adf8c776fbc8db21adc",
            "a6cdf440fb874822b7ca5420cf93d632",
            "34d3bedd2dd845ebaef4c4817b0eee2a",
            "41fb01641d1d4f92bb6966ccdba557ba",
            "4277b195474d4888b3c64144662d752a",
            "5711bcdda50a46a5b5bd1fa8a2c3f627",
            "c6981d092a9e46ae9ec39fb4218917e3",
            "700c612dc9024b899be798dd0f2503ff",
            "0c8ba57bc1ee4bf692a4187b7b8448b5"
          ]
        },
        "id": "dcf23c41-e15d-4f63-bd27-233d6599e305",
        "outputId": "9505726a-a838-49cf-9086-9f745401f973",
        "scrolled": true,
        "tags": []
      },
      "outputs": [
        {
          "output_type": "display_data",
          "data": {
            "text/plain": [
              "Creating CSV from Arrow format:   0%|          | 0/1 [00:00<?, ?ba/s]"
            ],
            "application/vnd.jupyter.widget-view+json": {
              "version_major": 2,
              "version_minor": 0,
              "model_id": "8cae0854d88c45b78c0eca6ad9155ba8"
            }
          },
          "metadata": {}
        }
      ],
      "source": [
        "#This creates the dataset in LangSmith with the content in sample_cnn - If you run this more than once you will get POST errors\n",
        "dataset = client.upload_dataframe(\n",
        "    df=sample_cnn,\n",
        "    input_keys=['text'],\n",
        "    output_keys=['summary'],\n",
        "    name=NAME_DATASET,\n",
        "    description=\"Test Embedding distance between model summarizations\",\n",
        "    data_type=\"kv\"\n",
        ")"
      ]
    },
    {
      "cell_type": "markdown",
      "id": "ada2bd55-b6bc-467c-b481-48d46ad50441",
      "metadata": {
        "id": "ada2bd55-b6bc-467c-b481-48d46ad50441"
      },
      "source": [
        "In this image, we can see an example from the dataset once it's been registered in LangSmith.\n",
        "\n",
        "In the Input column, there is the prompt to be sent, while in the Output column, the expected output is stored.\n",
        "\n",
        "When performing the comparison, the model will be given the prompt, and the Cosine distance between its response and the one stored in the sample dataset will be calculated.\n",
        "<img src=\"https://github.com/peremartra/Large-Language-Model-Notebooks-Course/blob/main/img/Martra_Figure_4_2SDL_Dataset.jpg?raw=true\">"
      ]
    },
    {
      "cell_type": "markdown",
      "id": "8278f53f-1a94-407c-846d-05c926737704",
      "metadata": {
        "id": "8278f53f-1a94-407c-846d-05c926737704"
      },
      "source": [
        "### Recovering Models From Hugging Face\n",
        "Let's retrieve both models from HuggingFace. A base T5 model and a model that has been fine-tuned using the training portion of this same dataset to generate summaries."
      ]
    },
    {
      "cell_type": "code",
      "execution_count": 26,
      "id": "0f1afd20-0bbe-473b-9ad9-ebceb3519421",
      "metadata": {
        "id": "0f1afd20-0bbe-473b-9ad9-ebceb3519421",
        "tags": []
      },
      "outputs": [],
      "source": [
        "from langchain import HuggingFaceHub"
      ]
    },
    {
      "cell_type": "code",
      "execution_count": 27,
      "id": "12339bcc-ce70-4fae-9dcb-f2f273429ed8",
      "metadata": {
        "id": "12339bcc-ce70-4fae-9dcb-f2f273429ed8",
        "tags": [],
        "colab": {
          "base_uri": "https://localhost:8080/"
        },
        "outputId": "c448ebc0-3707-4505-ff17-c7c4cfd5e7d3"
      },
      "outputs": [
        {
          "output_type": "stream",
          "name": "stderr",
          "text": [
            "/tmp/ipython-input-3938980585.py:1: LangChainDeprecationWarning: The class `HuggingFaceHub` was deprecated in LangChain 0.0.21 and will be removed in 1.0. An updated version of the class exists in the :class:`~langchain-huggingface package and should be used instead. To use it run `pip install -U :class:`~langchain-huggingface` and import as `from :class:`~langchain_huggingface import HuggingFaceEndpoint``.\n",
            "  summarizer_base = HuggingFaceHub(\n"
          ]
        }
      ],
      "source": [
        "summarizer_base = HuggingFaceHub(\n",
        "    repo_id=\"t5-base\",\n",
        "    model_kwargs={\"temperature\":0, \"max_length\":180},\n",
        "    huggingfacehub_api_token=HUGGINGFACEHUB_API_TOKEN\n",
        ")"
      ]
    },
    {
      "cell_type": "code",
      "execution_count": 28,
      "id": "f317d1cc-95f0-4f71-9c7f-205e42afc5df",
      "metadata": {
        "id": "f317d1cc-95f0-4f71-9c7f-205e42afc5df",
        "tags": []
      },
      "outputs": [],
      "source": [
        "summarizer_finetuned = HuggingFaceHub(\n",
        "    repo_id=\"flax-community/t5-base-cnn-dm\",\n",
        "    model_kwargs={\"temperature\":0, \"max_length\":180},\n",
        "    huggingfacehub_api_token=HUGGINGFACEHUB_API_TOKEN\n",
        ")"
      ]
    },
    {
      "cell_type": "markdown",
      "id": "dc859325-3e92-4f2b-85cc-247dd84d9cf6",
      "metadata": {
        "id": "dc859325-3e92-4f2b-85cc-247dd84d9cf6"
      },
      "source": [
        "## Defining Evaluator\n",
        "The first step is to define an evaluator, where we specify the variables we want to evaluate. In our case, I have chosen to measure only the \"embedding_distance.\"\n",
        "\n",
        "I've left the \"string_distance\" as a comment in case you want to conduct a test with two evaluations instead of one.\n"
      ]
    },
    {
      "cell_type": "code",
      "execution_count": 29,
      "id": "d506d770-2c30-41a6-acde-283ad1b27ea9",
      "metadata": {
        "id": "d506d770-2c30-41a6-acde-283ad1b27ea9",
        "tags": []
      },
      "outputs": [],
      "source": [
        "from langchain.smith import run_on_dataset, RunEvalConfig\n",
        "# !pip install -q rapidfuzz==3.6.1"
      ]
    },
    {
      "cell_type": "code",
      "execution_count": 30,
      "id": "15e8accd-d7e1-44f8-b5d0-0215ceedb88d",
      "metadata": {
        "id": "15e8accd-d7e1-44f8-b5d0-0215ceedb88d",
        "tags": []
      },
      "outputs": [],
      "source": [
        "#We are using just one of the multiple evaluator avaiable on LangSmith.\n",
        "\n",
        "evaluation_config = RunEvalConfig(\n",
        "    evaluators=[\n",
        "        \"embedding_distance\",\n",
        "        #\"string_distance\"\n",
        "    ],\n",
        ")\n",
        "\n"
      ]
    },
    {
      "cell_type": "markdown",
      "id": "ee666c30-d958-45b1-802c-7034dd13b42b",
      "metadata": {
        "id": "ee666c30-d958-45b1-802c-7034dd13b42b"
      },
      "source": [
        "### Running Evaluator\n",
        "With the same configuration, we can launch two evaluations on the same dataset. One for each of the chosen models."
      ]
    },
    {
      "cell_type": "code",
      "execution_count": 33,
      "id": "67c75c07-8351-465f-af15-a1abe17968f9",
      "metadata": {
        "colab": {
          "base_uri": "https://localhost:8080/"
        },
        "id": "67c75c07-8351-465f-af15-a1abe17968f9",
        "outputId": "279e8e61-4fdc-4c8e-d1b2-a59accb8c9ba",
        "scrolled": true,
        "tags": []
      },
      "outputs": [
        {
          "output_type": "stream",
          "name": "stdout",
          "text": [
            "View the evaluation results for project 'T5-BASE 2025-09-08 13:38:03' at:\n",
            "https://smith.langchain.com/o/dbfa5d30-7b5a-4be6-9c3b-7b1d8cb19c7a/datasets/3b28ceeb-33ec-42ab-afe0-a68accb8813b/compare?selectedSessions=c645e2f3-4951-48b0-bec2-771cf9d2cbb8\n",
            "\n",
            "View all tests for Dataset Summarize_dataset_2025-09-08 13:33:47 at:\n",
            "https://smith.langchain.com/o/dbfa5d30-7b5a-4be6-9c3b-7b1d8cb19c7a/datasets/3b28ceeb-33ec-42ab-afe0-a68accb8813b\n",
            "[>                                                 ] 0/10"
          ]
        },
        {
          "output_type": "stream",
          "name": "stderr",
          "text": [
            "WARNING:langchain.smith.evaluation.runner_utils:LLM failed for example 345d2178-d835-46e1-b51a-8f9a056032cb with inputs {'text': \"Summarize this news:\\nSECTION 1. SHORT TITLE.\\n\\n    This Act may be cited as the ``Holocaust Victims Insurance Relief \\nAct of 2001''.\\n\\nSEC. 2. FINDINGS AND PURPOSE.\\n\\n    (a) Findings.--The Congress finds the following:\\n            (1) The Holocaust, including the murder of 6,000,000 \\n        European Jews, the systematic destruction of families and \\n        communities, and the wholesale theft of their assets, was one \\n        of the most tragic crimes in modern history.\\n            (2) When Holocaust survivors or heirs of Holocaust victims \\n        presented claims to insurance companies after World War II, \\n        many were rejected because the claimants did not have death \\n        certificates or physical possession of policy documents that \\n        had been confiscated by the Nazis.\\n            (3) In many instances, insurance company records are the \\n        only proof of the existence of insurance policies belonging to \\n        Holocaust victims.\\n            (4) Holocaust survivors and their descendants have been \\n        fighting for decades to persuade insurance companies to settle \\n        unpaid insurance claims.\\n            (5) In 1998, the International Commission on Holocaust Era \\n        Insurance Claims (in this section referred to as the \\n        ``ICHEIC'') was established by the National Association of \\n        Insurance Commissioners in cooperation with several European \\n        insurance companies, European regulators, representatives of \\n        international Jewish organizations, and the State of Israel, to \\n        expeditiously address the issue of unpaid insurance policies \\n        issued to Holocaust victims.\\n            (6) On July 17, 2000, the United States and Germany signed \\n        an Executive Agreement in support of the German Foundation \\n        ``Remembrance, Responsibility, and the Future'', which \\n        designated the ICHEIC to resolve all insurance claims that were \\n        not paid or were nationalized during the Nazi era.\\n            (7) The ICHEIC's deadline for receiving claims applications \\n        is January 31, 2002.\\n            (8) Three years into the process of addressing the issue of \\n        unpaid insurance policies, companies continue to withhold \\n        thousands of names on dormant accounts.\\n            (9) As of June 15, 2001, more than 84 percent of the 72,675 \\n        claims applications filed with the ICHEIC remained idle because \\n        the claimants could not identify the company holding the \\n        policy.\\n            (10) Insurance companies doing business in the United \\n        States have a responsibility to ensure the disclosure of \\n        insurance policies of Holocaust victims that they or their \\n        related companies may have issued, to facilitate the rapid \\n        resolution of questions concerning these policies, and to \\n        eliminate the further victimization of policyholders and their \\n        families.\\n            (11) State legislatures in California, Florida, New York, \\n        Minnesota, Washington, and elsewhere have been challenged in \\n        efforts to implement laws that restrict the ability of insurers \\n        to engage in business transactions in those States until the \\n        insurers publish the names of Holocaust-era policyholders.\\n    (b) Purpose.--The purpose of this Act is to provide information \\nabout Holocaust-era insurance policies to Holocaust victims and their \\nheirs and beneficiaries to enable them to expeditiously file their \\nrightful claims under the policies.\\n\\nSEC. 3. HOLOCAUST INSURANCE REGISTRY.\\n\\n    (a) Establishment and Maintenance.--Chapter 21 of title 44, United \\nStates Code, is amended by adding at the end the following:\\n``Sec. 2119. Holocaust Insurance Registry\\n    ``(a) Establishment.--The Archivist shall establish and maintain a \\ncollection of records that shall--\\n            ``(1) be known as the Holocaust Insurance Registry; and\\n            ``(2) consist of the information provided to the Archivist \\n        under section 5 of the Holocaust Victims Insurance Relief Act \\n        of 2001.\\n    ``(b) Public Accessibility.--The Archivist shall make all such \\ninformation publicly accessible and searchable by means of the Internet \\nand by any other means the Archivist deems appropriate.''.\\n    (b) Clerical Amendment.--The table of sections at the beginning of \\nchapter 21 of title 44, United States Code, is amended by adding at the \\nend the following:\\n\\n``2119. Holocaust Insurance Registry.''.\\n\\nSEC. 4. FULL DISCLOSURE OF HOLOCAUST-ERA POLICIES BY INSURERS.\\n\\n    (a) Requirement.--An insurer shall cause to be filed with the \\nSecretary of Commerce in accordance with subsection (b) the following \\ninformation:\\n            (1) The first name, last name, date of birth, and domicile \\n        of the policyholder of each covered policy issued by the \\n        insurer or a related company of the insurer.\\n            (2) The name of the entity that issued the covered policy.\\n            (3) The name of the entity that is responsible for the \\n        liabilities of the entity that issued the covered policy.\\n    (b) Proper Filing.--A filing under subsection (a) shall be made not \\nlater than the earlier of 90 days after the date of the enactment of \\nthis Act or January 31, 2002, in an electronic format approved jointly \\nby the Archivist of the United States and the Secretary of Commerce.\\n\\nSEC. 5. PROVISION OF INFORMATION TO ARCHIVIST.\\n\\n    The Secretary of Commerce shall provide to the Archivist of the \\nUnited States any information filed with the Secretary under section \\n4(a) promptly after the filing of such information.\\n\\nSEC. 6. PENALTY.\\n\\n    The Secretary of Commerce shall assess a civil penalty of not less \\nthan $5,000 for each day that an insurer fails to comply with the \\nrequirements of section 4, as determined by the Secretary.\\n\\nSEC. 7. USE OF AMOUNTS RECEIVED AS CIVIL PENALTIES.\\n\\n    To the extent or in the amounts provided in advance in \\nappropriation Acts, the Archivist of the United States may use amounts \\nreceived by the Government as civil penalties under section 6 to \\nmaintain the Holocaust Insurance Registry.\\n\\nSEC. 8. NOTIFICATION.\\n\\n    (a) Initial Notification.--Not later than 180 days after the date \\nof the enactment of this Act and periodically afterward, the Secretary \\nof Commerce shall notify each State's commissioner of insurance of the \\nidentity of each insurer that has failed to comply with the \\nrequirements of section 4 or has not satisfied any civil penalty for \\nwhich the insurer is liable under section 6.\\n    (b) Requests by States.--On request by the commissioner of \\ninsurance of a State concerning an insurer operating in that State, the \\nSecretary of Commerce shall inform the commissioner of insurance \\nwhether the insurer has failed to comply with the requirements of \\nsection 4 or has not satisfied any civil penalty for which the insurer \\nis liable under section 6.\\n\\nSEC. 9. STATE HOLOCAUST CLAIMS REPORTING STATUTES.\\n\\n    (a) Preemption.--Nothing in this Act preempts the right of any \\nState to adopt or enforce any State law requiring an insurer to \\ndisclose information regarding insurance policies that may have been \\nconfiscated or stolen from victims of Nazi persecution.\\n    (b) Sense of Congress.--It is the sense of the Congress that if any \\nlitigation challenging any State law described in subsection (a) is \\ndismissed because the State's commissioner of insurance chooses to rely \\non this Act and therefore no longer seeks to enforce the State law, \\neach party should bear its own legal fees and costs.\\n\\nSEC. 10. DEFINITIONS.\\n\\n    In this Act:\\n            (1) Commissioner of insurance.--The term ``commissioner of \\n        insurance'' means the highest ranking officer of a State \\n        responsible for regulating insurance.\\n            (2) Covered policy.--The term ``covered policy'' means any \\n        life, dowry, education, or property insurance policy that was--\\n                    (A) in effect at any time after January 30, 1933, \\n                and before December 31, 1945; and\\n                    (B) issued to a policyholder domiciled in any area \\n                of the European Continent that was occupied or \\n                controlled by Nazi Germany or by any ally or \\n                sympathizer of Nazi Germany at any time during the \\n                period described in subparagraph (A).\\n            (3) Insurer.--The term ``insurer'' means any person engaged \\n        in the business of insurance in United States interstate or \\n        foreign commerce, if the person or a related company of the \\n        person issued a covered policy, regardless of when the related \\n        company became a related company of the insurer.\\n            (4) Related company.--The term ``related company'' means an \\n        affiliate, as that term is defined in section 104(g) of the \\n        Gramm-Leach-Bliley Act.\"}\n",
            "Error Type: AttributeError, Message: 'InferenceClient' object has no attribute 'post'\n",
            "WARNING:langchain.smith.evaluation.runner_utils:LLM failed for example 74969f08-c023-4929-b55a-6fee13447397 with inputs {'text': \"Summarize this news:\\nSECTION 1. SHORT TITLE.\\n\\n    This Act may be cited as the ``Human Rights Information Act''.\\n\\nSEC. 2. FINDINGS.\\n\\n    Congress finds the following:\\n            (1) The people of the United States consider the national \\n        and international protection and promotion of human rights and \\n        the rule of law the most important values of any democracy. The \\n        founding fathers defined human rights prominently in the Bill \\n        of Rights, giving those rights a special priority and \\n        protection in the Constitution.\\n            (2) Federal agencies are in possession of documents \\n        pertaining to gross human rights violations abroad which are \\n        needed by foreign authorities to document, investigate, and \\n        subsequently prosecute instances of continued and systematic \\n        gross human rights violations, including those directed against \\n        citizens of the United States.\\n            (3) The United States will continue to receive requests \\n        from foreign authorities for legal assistance regarding human \\n        rights violations, including the declassification of documents. \\n        In addition to requests by Guatemala and Honduras, a Spanish \\n        court magistrate, Baltasar Garzon, recently requested from the \\n        United States information on General Augusto Pinochet. \\n        Currently, the United States responds to declassification \\n        requests by following procedures outlined in Presidential \\n        directives and executive orders. The overwhelming interest of \\n        the United States in the protection and promotion of human \\n        rights nationally and internationally requires a significant \\n        strengthening of existing declassification procedures, \\n        including section 552 of title 5, United States Code (commonly \\n        known as the ``Freedom of Information Act'').\\n            (4) The expedient declassification of human rights \\n        documents in full compliance with United States security \\n        interests according to the procedures outlined in this Act will \\n        protect global human rights by strengthening the rule of law \\n        internationally, creating a crucial level of accountability of \\n        Federal agencies, and will result in significant saving of \\n        Government resources.\\n            (5) The commitment to the promotion and protection of human \\n        rights and democracy around the world has led the United States \\n        to undertake tremendous diplomatic, economic, and military \\n        efforts to end systematic gross human rights violations abroad, \\n        consistent with the national interests and international \\n        leadership role of the United States. In addition, countless \\n        humanitarian United States nongovernmental organizations and \\n        citizens of the United States promote human rights and \\n        democracy in foreign countries. These efforts are thwarted if \\n        the cycle of impunity for human rights violations is not broken \\n        in those countries, and the likelihood of the need for renewed \\n        United States engagements in those areas remains.\\n            (6) The United States therefore has a significant interest \\n        that newly established or reestablished democratic societies \\n        take credible steps to fully investigate and prosecute human \\n        rights violations. These steps can include the creation of a \\n        national or international truth commission or tribunal, the \\n        appointment of a human rights officer, or official national \\n        investigations led by credible sections of the civil society, \\n        including churches and nongovernmental organizations.\\n            (7) The United States has long provided international \\n        leadership to end impunity for gross human rights violations \\n        and to promote the rule of law around the world by establishing \\n        and supporting the Nuremberg and Tokyo War Crimes Tribunal; in \\n        addition, the United States has actively participated in, among \\n        others, the International War Crimes Tribunals on the former \\n        Yugoslavia and Rwanda.\\n            (8) The United States has ratified the Convention against \\n        Torture and Other Cruel, Inhuman or Degrading Treatment or \\nPunishment, which in article 9 obligates parties to ``afford one \\nanother the greatest measure of assistance in connection with criminal \\nproceedings brought in respect of any [acts of, attempts of, or \\ncomplicity in acts of torture], including the supply of all evidence at \\ntheir disposal necessary for the proceedings.'' In addition, as a \\nmember State of the Organization of American States, the United States \\nshould seek to follow the December 8, 1998, recommendation of the \\nInter-American Commission on Human Rights ``that member States of the \\nOrganization of American States adopt legislative and such other \\nmeasures as may be necessary to effectuate the right of free access to \\ninformation in files and documents in the power of the State, \\nparticularly in cases of investigations to establish criminal \\nresponsibility for international crimes and serious violations of human \\nrights.''\\n            (9) The Guatemalan peace accords, which the Government of \\n        the United States firmly supports, included as an important and \\n        vital component an investigation and a report by the Commission \\n        for the Historical Clarification of Human Rights Violations and \\n        Acts of Violence which have Caused Suffering to the Guatemalan \\n        People (referred to in this Act as the ``Clarification \\n        Commission''). Despite the conclusion of this investigation, \\n        many questions, including the identity of perpetrators of human \\n        rights violations as well as the location of bodies of the \\n        ``disappeared'', remain unanswered. The Clarification \\n        Commission explicitly recommended that ``all available legal \\n        and material resources should be utilized [by the Guatemalan \\n        Government] to clarify the whereabouts of the disappeared and, \\n        in the case of death, to deliver the remains to the \\n        relatives.''\\n            (10) Two days after presenting a parallel investigation, \\n        ``Guatemala: Never Again'', by the Historical Memory Recovery \\n        Project by the Archbishop of Guatemala, the director of the \\n        project, Bishop Juan Jose Gerardi, was assassinated.\\n            (11) President Clinton stated in Guatemala on March 10, \\n        1999, that ``[f]or the United States, it is important that I \\n        state clearly that support for military forces or intelligence \\n        units which engaged in violent and widespread repression of the \\n        kind described in the report [by the Clarification Commission] \\n        was wrong, and the United States must not repeat that mistake. \\n        We must, and we will, instead, continue to support the peace \\n        and reconciliation process in Guatemala.''\\n            (12) The National Commissioner for the Protection of Human \\n        Rights in the Republic of Honduras has been requesting \\n        documentation of the United States on human rights violations \\n        in Honduras since November 15, 1993. The Commissioner's request \\n        has been partly fulfilled, but aspects of it are still pending.\\n\\nSEC. 3. DEFINITIONS.\\n\\n    In this Act:\\n            (1) Human rights record.--The term ``human rights record'' \\n        means a record in the possession, custody, or control of the \\n        United States Government containing information about gross \\n        violations of internationally recognized human rights committed \\n        after 1944.\\n            (2) Agency.--The term ``agency'' means any agency of the \\n        United States Government charged with the conduct of foreign \\n        policy or foreign intelligence, including, but not limited to, \\n        the Department of State, the Agency for International \\n        Development, the Department of Defense (and all of its \\n        components), the Central Intelligence Agency, the National \\n        Reconnaissance Office, the Department of Justice (and all of \\n        its components), the National Security Council, and the \\n        Executive Office of the President.\\n            (3) Gross violations of internationally recognized human \\n        rights.--The term ``gross violations of internationally \\n        recognized human rights'' has the meaning given that term in \\n        section 502B(d)(1) of the Foreign Assistance Act of 1961 (22 \\n        U.S.C. 2304(d)(1)).\\n\\nSEC. 4. IDENTIFICATION, REVIEW, AND PUBLIC DISCLOSURE OF HUMAN RIGHTS \\n              RECORDS REGARDING GUATEMALA AND HONDURAS.\\n\\n    (a) In General.--Notwithstanding any other provision of law, the \\nprovisions of this Act shall govern the declassification and public \\ndisclosure of human rights records by agencies.\\n    (b) Identification of Records.--Not later than 120 days after the \\ndate of enactment of this Act, each agency shall identify, review, and \\norganize all human rights records regarding activities occurring in \\nGuatemala and Honduras after 1944 for the purpose of declassifying and \\ndisclosing the records to the public. Except as provided in section 5, \\nall records described in the preceding sentence shall be made available \\nto the public not later than 30 days after a review under this section \\nis completed.\\n    (c) Report to Congress.--Not later than 150 days after the date of \\nenactment of this Act, the President shall report to Congress regarding \\neach agency's compliance with the provisions of this Act.\\n\\nSEC. 5. GROUNDS FOR POSTPONEMENT OF PUBLIC DISCLOSURE OF RECORDS.\\n\\n    (a) In General.--An agency may postpone public disclosure of a \\nhuman rights record or particular information in a human rights record \\nonly if the agency determines that there is clear and convincing \\nevidence that--\\n            (1) the threat to the military defense, intelligence \\n        operations, or conduct of foreign relations of the United \\n        States raised by public disclosure of the human rights record \\n        is of such gravity that it outweighs the public interest, and \\n        such public disclosure would reveal--\\n                    (A) an intelligence agent whose identity currently \\n                requires protection;\\n                    (B) an intelligence source or method--\\n                            (i) which is being utilized, or reasonably \\n                        expected to be utilized, by the United States \\n                        Government;\\n                            (ii) which has not been officially \\n                        disclosed; and\\n                            (iii) the disclosure of which would \\n                        interfere with the conduct of intelligence \\n                        activities; or\\n                    (C) any other matter currently relating to the \\n                military defense, intelligence operations, or conduct \\n                of foreign relations of the United States, the \\n                disclosure of which would demonstrably impair the \\n                national security of the \\n                United States;\\n            (2) the public disclosure of the human rights record would \\n        reveal the name or identity of a living individual who provided \\n        confidential information to the United States and would pose a \\n        substantial risk of harm to that individual;\\n            (3) the public disclosure of the human rights record could \\n        reasonably be expected to constitute an unwarranted invasion of \\n        personal privacy, and that invasion of privacy is so \\n        substantial that it outweighs the public interest; or\\n            (4) the public disclosure of the human rights record would \\n        compromise the existence of an understanding of confidentiality \\n        currently requiring protection between a Government agent and a \\n        cooperating individual or a foreign government, and public \\n        disclosure would be so harmful that it outweighs the public \\n        interest.\\n    (b) Special Treatment of Certain Information.--It shall not be \\ngrounds for postponement of disclosure of a human rights record that an \\nindividual named in the human rights record was an intelligence asset \\nof the United States Government, although the existence of such \\nrelationship may be withheld if the criteria set forth in subsection \\n(a) are met. For purposes of the preceding sentence, the term an \\n``intelligence asset'' means a covert agent as defined in section \\n606(4) of the National Security Act of 1947 (50 U.S.C. 426(4)).\\n\\nSEC. 6. REQUEST FOR HUMAN RIGHTS RECORDS FROM OFFICIAL ENTITIES IN \\n              OTHER COUNTRIES.\\n\\n    In the event that an agency of the United States receives a request \\nfor human rights records from an entity created by the United Nations, \\nthe Organization of American States or a similar entity, a national \\ntruth commission or entity of similar nature, or from the principal \\njustice or human rights official of a country that is investigating a \\npattern of gross violations of internationally recognized human rights, \\nthe agency shall conduct a review of records as described in section 4 \\nand shall declassify and publicly disclose such records in accordance \\nwith the standards and procedures set forth in this Act.\\n\\nSEC. 7. REVIEW OF DECISIONS TO WITHHOLD RECORDS.\\n\\n    (a) Duties of the Appeals Panel.--The Interagency Security \\nClassification Appeals Panel or any other entity subsequently \\nestablished by law or Executive order and charged with carrying out the \\nfunctions currently carried out by such Panel (referred to in this Act \\nas the ``Appeals Panel'') shall review all determinations by an agency \\nto postpone public disclosure of any human rights record.\\n    (b) Determinations of the Appeals Panel.--\\n            (1) In general.--The Appeals Panel shall direct that all \\n        human rights records be disclosed to the public, unless the \\n        Appeals Panel determines that there is clear and convincing \\n        evidence that--\\n                    (A) the record is not a human rights record; or\\n                    (B) the human rights record or particular \\n                information in the human rights record qualifies for \\n                postponement of disclosure pursuant to section 5.\\n            (2) Treatment in cases of nondisclosure.--If the Appeals \\n        Panel concurs with an agency decision to postpone disclosure of \\n        a human rights record, the Appeals Panel shall determine, in \\n        consultation with the originating agency and consistent with \\nthe standards set forth in this Act, which, if any, of the alternative \\nforms of disclosure described in paragraph (3) shall be made by the \\nagency.\\n            (3) Alternative forms of disclosure.--The forms of \\n        disclosure described in this paragraph are as follows:\\n                    (A) Disclosure of any reasonably segregable portion \\n                of the human rights record after deletion of the \\n                portions described in paragraph (1).\\n                    (B) Disclosure of a record that is a substitute for \\n                information which is not disclosed.\\n                    (C) Disclosure of a summary of the information \\n                contained in the human rights record.\\n            (4) Notification of determination.--\\n                    (A) In general.--Upon completion of its review, the \\n                Appeals Panel shall notify the head of the agency in \\n                control or possession of the human rights record that \\n                was the subject of the review of its determination and \\n                shall, not later than 14 days after the determination, \\n                publish the determination in the Federal Register.\\n                    (B) Notice to president.--The Appeals Panel shall \\n                notify the President of its determination. The notice \\n                shall contain a written unclassified justification for \\n                its determination, including an explanation of the \\n                application of the standards contained in section 5.\\n            (5) General procedures.--The Appeals Panel shall publish in \\n        the Federal Register guidelines regarding its policy and \\n        procedures for adjudicating appeals.\\n    (c) Presidential Authority Over Appeals Panel Determination.--\\n            (1) Public disclosure or postponement of disclosure.--The \\n        President shall have the sole and nondelegable authority to \\n        review any determination of the Appeals Panel under this Act, \\n        and such review shall be based on the standards set forth in \\n        section 5. Not later than 30 days after the Appeals Panel's \\n        determination and notification to the agency pursuant to \\n        subsection (b)(4), the President shall provide the Appeals \\n        Panel with an unclassified written certification specifying the \\n        President's decision and stating the reasons for the decision, \\n        including in the case of a determination to postpone \\n        disclosure, the standards set forth in section 5 which are the \\n        basis for the President's determination.\\n            (2) Record of presidential postponement.--The Appeals Panel \\n        shall, upon receipt of the President's determination, publish \\n        in the Federal Register a copy of any unclassified written \\n        certification, statement, and other materials transmitted by or \\n        on behalf of the President with regard to the postponement of \\n        disclosure of a human rights record.\\n\\nSEC. 8. REPORT REGARDING OTHER HUMAN RIGHTS RECORDS.\\n\\n    Upon completion of the review and disclosure of the human rights \\nrecords relating to Guatemala and Honduras, the Information Security \\nPolicy Advisory Council, established pursuant to Executive Order No. \\n12958, shall report to Congress on the desirability and feasibility of \\ndeclassification of human rights records relating to other countries. \\nThe report shall be available to the public.\\n\\nSEC. 9. RULES OF CONSTRUCTION.\\n\\n    (a) Freedom of Information Act.--Nothing in this Act shall be \\nconstrued to limit any right to file a request with any executive \\nagency or seek judicial review of a decision pursuant to section 552 of \\ntitle 5, United States Code.\\n    (b) Judicial Review.--Nothing in this Act shall be construed to \\npreclude judicial review, under chapter 7 of title 5, United States \\nCode, of final actions taken or required to be taken under this Act.\\n\\nSEC. 10. CREATION OF POSITIONS.\\n\\n    For purposes of carrying out the provisions of this Act, there \\nshall be 2 additional positions in the Appeals Panel. The President \\nshall appoint individuals who are not employees of the United States \\nwho have demonstrated substantial human rights expertise and who are \\nable to meet the security requirements for the positions. The President \\nshall seek recommendations with respect to such positions from \\nnongovernmental human rights organizations.\"}\n",
            "Error Type: AttributeError, Message: 'InferenceClient' object has no attribute 'post'\n"
          ]
        },
        {
          "output_type": "stream",
          "name": "stdout",
          "text": [
            "\r[---->                                             ] 1/10\r[--------->                                        ] 2/10"
          ]
        },
        {
          "output_type": "stream",
          "name": "stderr",
          "text": [
            "WARNING:langchain.smith.evaluation.runner_utils:LLM failed for example 612d29f6-d3d5-46e9-8d2a-81e48a27e613 with inputs {'text': \"Summarize this news:\\nSECTION 1. NONRECOGNITION OF GAIN WHERE ROLLOVER TO SMALL BUSINESS \\n              INVESTMENTS.\\n\\n    (a) In General.--Part III of subchapter O of chapter 1 of the \\nInternal Revenue Code of 1986 (relating to common nontaxable exchanges) \\nis amended by adding at the end the following new section:\\n\\n``SEC. 1045. ROLLOVER OF GAIN TO SMALL BUSINESS INVESTMENTS.\\n\\n    ``(a) Nonrecognition of Gain.--In the case of the sale of any \\ncapital asset with respect to which the taxpayer elects the application \\nof this section, gain from such sale shall be recognized only to the \\nextent that the amount realized on such sale exceeds--\\n            ``(1) the cost of any eligible small business investment \\n        purchased by the taxpayer during the 12-month period beginning \\n        on the date of such sale, reduced by\\n            ``(2) any portion of such cost previously taken into \\n        account under this section.\\n    ``(b) Definitions and Special Rules.--For purposes of this \\nsection--\\n            ``(1) Capital asset.--The term `capital asset' has the \\n        meaning given such term by section 1221 (determined without \\n        regard to paragraph (2) of such section), except that such term \\n        shall include gain derived from the bulk sale of inventory not \\n        in the ordinary course of a trade or business.\\n            ``(2) Investment property.--The term `investment property' \\n        means property that has the capacity to produce gross income \\n        from--\\n                    ``(A) interest, annuities, or royalties, not \\n                derived in the ordinary course of a trade or business, \\n                or\\n                    ``(B) dividends.\\n        Such term shall not include expansion shares.\\n            ``(3) Purchase.--The term `purchase' has the meaning given \\n        such term by section 1043(b)(4).\\n            ``(4) Eligible small business investment.--Except as \\n        otherwise provided in this section, the term `eligible small \\n        business investment' means any stock in a domestic corporation, \\n        and any partnership interest in a domestic partnership, if--\\n                    ``(A) as of the date of issuance of such stock or \\n                partnership interest, such corporation or partnership \\n                is a qualified small business entity, and\\n                    ``(B) such stock or partnership interest is \\n                acquired by the taxpayer at its original issue \\n                (directly or through an underwriter) in exchange for \\n                money or other property (not including stock).\\n        A rule similar to the rule of section 1202(c)(3) shall apply \\n        for purposes of this section.\\n            ``(5) Qualified small business entity.--\\n                    ``(A) In general.--The term `qualified small \\n                business entity' means any domestic corporation or \\n                partnership if--\\n                            ``(i) for the taxable year of such entity \\n                        in which the stock or partnership interest was \\n                        issued and each prior taxable year, such entity \\n                        (and any predecessor thereof) had gross \\n                        receipts of less than $5,000,000,\\n                            ``(ii) the primary activity of such entity \\n                        (and any predecessor thereof) for the taxable \\n                        year of such issuance and each prior taxable \\n                        year was an activity listed in the Standard \\n                        Industrial Classification Manual, 1987 (SIC), \\n                        as published by the Office of Management and \\n                        Budget, Executive Office of the President, as \\n                        being--\\n                                    ``(I) agriculture, forestry or \\n                                fishing (Division A),\\n                                    ``(II) mining (Division B),\\n                                    ``(III) construction (Division C),\\n                                    ``(IV) manufacturing (Division D),\\n                                    ``(V) transportation, \\n                                communications, electric, gas or \\n                                sanitary service (Division E),\\n                                    ``(VI) wholesale trade (Division \\n                                F),\\n                                    ``(VII) retail trade (Division (G),\\n                                    ``(VIII) personal services (Major \\n                                Group 72, Division I),\\n                                    ``(IX) business services (Major \\n                                Group 73, Division I),\\n                                    ``(X) automotive repair, services \\n                                or parking (Major Group 75, Division \\n                                I),\\n                                    ``(XI) miscellaneous repair \\n                                services (Major Group 76, Division I), \\n                                or\\n                                    ``(XII) engineering, accounting, \\n                                research, management or related \\n                                services (Major Group 87, Division I),\\n                            ``(iii) such entity generates income from \\n                        investment property only as an incidental \\n                        effect of the management of a working capital \\n                        pool aggregated and directed toward investing \\n                        in any qualified small business entity, and\\n                            ``(iv) the majority of full-time employees \\n                        employed by such entity and the largest \\n                        percentage, by dollar value, of independent \\n                        contractors under contract to such entity are \\n                        located in the United States.\\n                For purposes of clause (iii), ownership interests in \\n                entities controlled by such entity or directly involved \\n                in the primary activity referred to in clause (ii) with \\n                respect to such entity do not constitute investment \\n                property, and the Secretary may further define by \\n                regulation what constitutes an incidental holding of \\n                investment property.\\n                    ``(B) Aggregation rules.--All persons treated as a \\n                single employer under subsection (a) or (b) of section \\n                52 shall be treated as one person for purposes of \\n                subparagraph (A).\\n                    ``(C) Special rules for determining gross \\n                receipts.--The rules of subparagraphs (B) and (C) of \\n                section 448(c)(3) shall apply for purposes of \\n                subparagraph (A)(i).\\n    ``(c) Inapplicability to Certain Gain.--Subsection (a) shall not \\napply to any of the following types of gain:\\n            ``(1) Gain from the sale or other disposition of property \\n        received in lieu of salary, wages, or other compensation for \\n        services performed by the taxpayer, to the extent of the fair \\n        market value of the property at the time of receipt by the \\n        taxpayer.\\n            ``(2) Gain from the sale of property that is not held for \\n        the production of income.\\n            ``(3) Gain from investment property.\\n            ``(4) Gain that is treated or characterized as ordinary \\n        income for purposes of this title.\\n            ``(5) Gain, to the extent the gain is not recognized under \\n        section 1044 or 1202, notwithstanding that the gain is derived \\n        from the sale of expansion shares.\\n    ``(d) Certain Other Rules To Apply.--Rules similar to the rules of \\nsubsections (f), (g), (h), and (j) of section 1202 (without regard to \\nany 5-year holding period requirement) shall apply for purposes of this \\nsection.\\n    ``(e) Prohibition of Basis Adjustments.--If gain from any sale is \\nnot recognized by reason of subsection (a), such gain shall not be \\napplied to reduce the basis for determining gain or loss of any \\neligible small business investment which is purchased by the taxpayer \\nduring the 12-month period described in subsection (a).\\n    ``(f) Statute of Limitations.--If any gain is realized by the \\ntaxpayer on the sale or exchange of any eligible small business \\ninvestment and there is in effect an election under subsection (a) with \\nrespect to such gain, then--\\n            ``(1) the statutory period for the assessment of any \\n        deficiency with respect to such gain shall not expire before \\n        the expiration of 3 years from the date the Secretary is \\n        notified by the taxpayer (in such manner as the Secretary may \\n        by regulations prescribe) of--\\n                    ``(A) the taxpayer's cost of purchasing the \\n                eligible small business investment which the taxpayer \\n                claims results in nonrecognition of any part of such \\n                gain,\\n                    ``(B) the taxpayer's intention not to purchase any \\n                eligible small business investment within the 12-month \\n                period described in subsection (a), or\\n                    ``(C) a failure to make such purchase within such \\n                12-month period, and\\n            ``(2) such deficiency may be assessed before the expiration \\n        of such 3-year period notwithstanding the provisions of any \\n        other law or rule of law which would otherwise prevent such \\n        assessment.\\n    ``(g) Regulations.--The Secretary shall prescribe such regulations \\nas may be appropriate to carry out the purposes of this section, \\nincluding regulations to prevent the avoidance of the purposes of this \\nsection through splitups, shell corporations, partnerships, or \\notherwise.\\n    ``(h) Termination.--Subsection (a) shall not apply to any taxable \\nyear beginning on or after January 1, 2004.''\\n    (b) Report by Secretary.--Not later than December 31, 2001, the \\nSecretary of the Treasury shall submit to each House of the Congress a \\nreport detailing the effects of section 1045 of such Code, as added by \\nthis Act.\\n    (c) Clerical Amendment.--The table of sections for part III of \\nsubchapter O of chapter 1 of such Code is amended by adding at the end \\nthe following new item:\\n\\n                              ``Sec. 1045. Rollover of gain to small \\n                                        business investments.''\\n    (d) Effective Date.--The amendments made by this section shall \\napply to investments purchased after the date of the date of the \\nenactment of this Act, for taxable years ending after such date.\"}\n",
            "Error Type: AttributeError, Message: 'InferenceClient' object has no attribute 'post'\n",
            "WARNING:langchain.smith.evaluation.runner_utils:LLM failed for example 5285fd04-557a-4b94-94e6-c7d3fd3053f1 with inputs {'text': \"Summarize this news:\\nSECTION 1. SHORT TITLE.\\n\\n    This Act may be cited as the ``Indian Needs Assessment and Program \\nEvaluation Act of 2001''.\\n\\nSEC. 2. FINDINGS, PURPOSES.\\n\\n    (a) Findings.--Congress finds that--\\n            (1) the United States and the Indian tribes have a unique \\n        legal and political government-to-government relationship;\\n            (2) pursuant to the Constitution, treaties, statutes, \\n        Executive orders, court decisions, and course of conduct, the \\n        United States has a trust obligation to provide certain \\n        services to Indian tribes and to Indians;\\n            (3) Federal departments and agencies charged with \\n        administering programs and providing services to, or for the \\n        benefit of, Indians have not furnished Congress with adequate \\n        information necessary to assess such programs on the needs of \\n        Indians and Indian tribes;\\n            (4) such lack of information has hampered the ability of \\n        Congress to determine the nature, type, and magnitude of such \\n        needs as well as its ability to respond to them; and\\n            (5) Congress cannot properly fulfill its obligation to \\n        Indian tribes and Indian people unless and until it has an \\n        adequate store of information related to the needs of Indians \\n        nationwide.\\n    (b) Purposes.--The purposes of this Act are to--\\n            (1) ensure that Indian needs for Federal programs and \\n        services are known in a more certain and predictable fashion;\\n            (2) require that Federal departments and agencies carefully \\n        review and monitor the effectiveness of the programs and \\n        services provided to Indians;\\n            (3) provide for more efficient and effective cooperation \\n        and coordination of, and accountability from, the Federal \\n        departments and agencies providing programs and services, \\n        including technical and business development assistance, to \\n        Indians; and\\n            (4) provide Congress with reliable information regarding \\n        Indian needs and the evaluation of Federal programs and \\n        services provided to Indians nationwide.\\n\\nSEC. 3. INDIAN TRIBAL NEEDS ASSESSMENT.\\n\\n    (a) Indian Tribal Needs Assessments.--\\n            (1) Immediate assessment.--\\n                    (A) In general.--Not later than 180 days after the \\n                date of enactment of this Act, the Secretary of the \\n                Interior shall contract with an appropriate entity, in \\n                consultation and coordination with the Indian tribes, \\n                the Secretary of Agriculture, the Secretary of \\n                Commerce, the Secretary of Defense, the Secretary of \\n                Energy, the Secretary of Health and Human Services, the \\n                Secretary of Housing and Urban Development, the \\n                Secretary of Labor, the Secretary of the Treasury, the \\n                Secretary of Transportation, the Secretary of Veterans \\n                Affairs, the Attorney General, the Administrator of the \\n                Environmental Protection Agency, and the heads of any \\n                other relevant Federal departments or agencies, for the \\n                development of a uniform method and criteria, and \\n                uniform procedures for determining, analyzing, and \\n                compiling the program and service assistance needs of \\n                Indian tribes and Indians by each such department or \\n                agency. The needs assessment shall address, but not be \\n                limited to, the following:\\n                            (i) The location of the service area of \\n                        each program.\\n                            (ii) The size of the service area of each \\n                        program.\\n                            (iii) The total population of each tribe \\n                        located in the service area.\\n                            (iv) The total population of members of \\n                        other tribes located in the service area.\\n                            (v) The availability of similar programs \\n                        within the geographical area to tribes or \\n                        tribal members.\\n                            (vi) The socio-economic conditions that \\n                        exist within the service area.\\n                    (B) Consultation.--The contractor shall consult \\n                with tribal governments in establishing and conducting \\n                the needs assessment required under subparagraph (A).\\n            (2) Ongoing federal needs assessments.--\\n                    (A) In general.--Not later than 2 years after the \\n                date of enactment of this Act, and every 5 years \\n                thereafter, each Federal department or agency, in \\n                coordination with the Secretary of the Interior, shall \\n                conduct an Indian Needs Assessment (in this Act \\n                referred to as the ``INA'') aimed at determining the \\n                actual needs of Indian tribes and Indians eligible for \\n                programs and services administered by such department \\n                or agency.\\n                    (B) Submission to congress.--Not later than \\n                February 1 of any year in which an INA is required to \\n                be conducted under subparagraph (A), a copy of the INA \\n                shall be submitted to the Committee on Appropriations \\n                and the Committee on Resources of the House of \\n                Representatives and the Committee on Appropriations and \\n                the Committee on Indian Affairs of the Senate.\\n    (b) Federal Agency Indian Tribal Program Evaluation.--\\n            (1) In general.--Not later than 180 days after the date of \\n        enactment of this Act, the Secretary of the Interior shall \\n        develop a uniform method and criteria, and uniform procedures \\n        for compiling, maintaining, keeping current, and reporting to \\n        Congress all information concerning--\\n                    (A) the annual expenditures of the department or \\n                agency for programs and services for which Indians are \\n                eligible, with specific information regarding the names \\n                of tribes who are currently participating in or \\n                receiving each service, the names of tribes who have \\n                applied for and not received programs or services, and \\n                the names of tribes whose services or programs have \\n                been terminated within the last fiscal year;\\n                    (B) services or programs specifically for the \\n                benefit of Indians, with specific information regarding \\n                the names of tribes who are currently participating in \\n                or receiving each service, the names of tribes who have \\n                applied for and not received programs or services, and \\n                the names of tribes whose services or programs have \\n                been terminated within the last fiscal year; and\\n                    (C) the department or agency method of delivery of \\n                such services and funding, including a detailed \\n                explanation of the outreach efforts of each agency or \\n                department to Indian tribes.\\n            (2) Submission to Congress.--Not later than 2 years after \\n        the date of enactment of this Act, and annually thereafter, \\n        each Federal department or agency responsible for providing \\n        services or programs to, or for the benefit of, Indian tribes \\n        or Indians shall file an Annual Indian Program Evaluation (in \\n        this Act referred to as the ``AIPE'') with the Committee on \\n        Appropriations and the Committee on Resources of the House of \\n        Representatives and the Committee on Appropriations and the \\n        Committee on Indian Affairs of the Senate.\\n    (c) Annual Listing of Tribal Eligible Programs.--Not later than \\nFebruary 1 of each calendar year, each Federal department or agency \\ndescribed in subsection (b)(2), shall develop and publish in the \\nFederal Register a list of all programs and services offered by such \\ndepartment or agency for which Indian tribes or their members are or \\nmay be eligible, and shall provide a brief explanation of the program \\nor service.\\n    (d) Confidentiality.--Any information received, collected, or \\ngathered from Indian tribes concerning program function, operations, or \\nneed in order to conduct an INA or an AIPE shall be used only for the \\npurposes of this Act set forth in section 2(b).\\n\\nSEC. 4. REPORT TO CONGRESS.\\n\\n    (a) In General.--Not later than 2 years after the date of enactment \\nof this Act, the Secretary of the Interior shall develop and submit to \\nthe Committee on Appropriations and the Committee on Resources of the \\nHouse of Representatives and the Committee on Appropriations and the \\nCommittee on Indian Affairs of the Senate a report detailing the \\ncoordination of Federal program and service assistance for which Indian \\ntribes and their members are eligible.\\n    (b) Strategic Plan.--Not later than 30 months after the date of \\nenactment of this Act, the Secretary of the Interior, in consultation \\nand coordination with the Indian tribes, shall file a Strategic Plan \\nfor the Coordination of Federal Assistance for Indians (in this Act \\nreferred to as the ``Strategic Plan'').\\n    (c) Contents of Strategic Plan.--The Strategic Plan required under \\nsubsection (b) shall contain the following:\\n            (1) Identification of reforms necessary to the laws, \\n        regulations, policies, procedures, practices, and systems of \\n        the Federal departments or agencies involved.\\n            (2) Proposals for implementing the reforms identified in \\n        the Strategic Plan.\\n            (3) Any other recommendations that are consistent with the \\n        purposes of this Act set forth in section 2(b).\\n\\nSEC. 5. AUTHORIZATION OF APPROPRIATIONS.\\n\\n    There are authorized to be appropriated for fiscal year 2002 and \\neach fiscal year thereafter, such sums as are necessary to carry out \\nthis Act.\"}\n",
            "Error Type: AttributeError, Message: 'InferenceClient' object has no attribute 'post'\n"
          ]
        },
        {
          "output_type": "stream",
          "name": "stdout",
          "text": [
            "\r[-------------->                                   ] 3/10\r[------------------->                              ] 4/10"
          ]
        },
        {
          "output_type": "stream",
          "name": "stderr",
          "text": [
            "WARNING:langchain.smith.evaluation.runner_utils:LLM failed for example 8f92e26d-ecf1-408f-a490-481ff1e1bea7 with inputs {'text': \"Summarize this news:\\nSECTION 1. SHORT TITLE.\\n\\n    This Act may be cited as the ``Native American Energy Act''.\\n\\nSEC. 2. TABLE OF CONTENTS.\\n\\n    The table of contents for this Act is as follows:\\n\\nSec. 1. Short title.\\nSec. 2. Table of contents.\\nSec. 3. Appraisals.\\nSec. 4. Standardization.\\nSec. 5. Environmental reviews of major Federal actions on Indian lands.\\nSec. 6. BLM oil and gas fees.\\nSec. 7. Bonding requirements and nonpayment of attorneys' fees to \\n                            promote Indian energy projects.\\nSec. 8. Tribal biomass demonstration project.\\nSec. 9. Tribal resource management plans.\\nSec. 10. Leases of restricted lands for the Navajo Nation.\\nSec. 11. Nonapplicability of certain rules.\\n\\nSEC. 3. APPRAISALS.\\n\\n    (a) Amendment.--Title XXVI of the Energy Policy Act of 1992 (25 \\nU.S.C. 3501 et seq.) is amended by adding at the end the following:\\n\\n``SEC. 2607. APPRAISAL REFORMS.\\n\\n    ``(a) Options to Indian Tribes.--With respect to a transaction \\ninvolving Indian land or the trust assets of an Indian tribe that \\nrequires the approval of the Secretary, any appraisal relating to fair \\nmarket value required to be conducted under applicable law, regulation, \\nor policy may be completed by--\\n            ``(1) the Secretary;\\n            ``(2) the affected Indian tribe; or\\n            ``(3) a certified, third-party appraiser pursuant to a \\n        contract with the Indian tribe.\\n    ``(b) Time Limit on Secretarial Review and Action.--Not later than \\n30 days after the date on which the Secretary receives an appraisal \\nconducted by or for an Indian tribe pursuant to paragraphs (2) or (3) \\nof subsection (a), the Secretary shall--\\n            ``(1) review the appraisal; and\\n            ``(2) provide to the Indian tribe a written notice of \\n        approval or disapproval of the appraisal.\\n    ``(c) Failure of Secretary To Approve or Disapprove.--If, after 60 \\ndays, the Secretary has failed to approve or disapprove any appraisal \\nreceived, the appraisal shall be deemed approved.\\n    ``(d) Option to Indian Tribes To Waive Appraisal.--\\n            ``(1) An Indian tribe wishing to waive the requirements of \\n        subsection (a), may do so after it has satisfied the \\n        requirements of subsections (2) and (3) below.\\n            ``(2) An Indian tribe wishing to forego the necessity of a \\n        waiver pursuant to this section must provide to the Secretary a \\n        written resolution, statement, or other unambiguous indication \\n        of tribal intent, duly approved by the governing body of the \\n        Indian tribe.\\n            ``(3) The unambiguous indication of intent provided by the \\n        Indian tribe to the Secretary under paragraph (2) must include \\n        an express waiver by the Indian tribe of any claims for damages \\n        it might have against the United States as a result of the lack \\n        of an appraisal undertaken.\\n    ``(e) Definition.--For purposes of this subsection, the term \\n`appraisal' includes appraisals and other estimates of value.\\n    ``(f) Regulations.--The Secretary shall develop regulations for \\nimplementing this section, including standards the Secretary shall use \\nfor approving or disapproving an appraisal.''.\\n    (b) Conforming Amendment.--The table of contents of the Energy \\nPolicy Act of 1992 (42 U.S.C. 13201 note) is amended by adding at the \\nend of the items relating to title XXVI the following:\\n\\n``Sec. 2607. Appraisal reforms.''.\\n\\nSEC. 4. STANDARDIZATION.\\n\\n    As soon as practicable after the date of the enactment of this Act, \\nthe Secretary of the Interior shall implement procedures to ensure that \\neach agency within the Department of the Interior that is involved in \\nthe review, approval, and oversight of oil and gas activities on Indian \\nlands shall use a uniform system of reference numbers and tracking \\nsystems for oil and gas wells.\\n\\nSEC. 5. ENVIRONMENTAL REVIEWS OF MAJOR FEDERAL ACTIONS ON INDIAN LANDS.\\n\\n    Section 102 of the National Environmental Policy Act of 1969 (42 \\nU.S.C. 4332) is amended by inserting ``(a) In General.--'' before the \\nfirst sentence, and by adding at the end the following:\\n    ``(b) Review of Major Federal Actions on Indian Lands.--\\n            ``(1) In general.--For any major Federal action on Indian \\n        lands of an Indian tribe requiring the preparation of a \\n        statement under subsection (a)(2)(C), the statement shall only \\n        be available for review and comment by the members of the \\n        Indian tribe and by any other individual residing within the \\n        affected area.\\n            ``(2) Regulations.--The Chairman of the Council on \\n        Environmental Quality shall develop regulations to implement \\n        this section, including descriptions of affected areas for \\n        specific major Federal actions, in consultation with Indian \\n        tribes.\\n            ``(3) Definitions.--In this subsection, each of the terms \\n        `Indian land' and `Indian tribe' has the meaning given that \\n        term in section 2601 of the Energy Policy Act of 1992 (25 \\n        U.S.C. 3501).\\n            ``(4) Clarification of authority.--Nothing in the Native \\n        American Energy Act, except section 7 of that Act, shall give \\n        the Secretary any additional authority over energy projects on \\n        Alaska Native Claims Settlement Act lands.''.\\n\\nSEC. 6. BLM OIL AND GAS FEES.\\n\\n    The Secretary of the Interior, acting through the Bureau of Land \\nManagement, shall not collect any fee for any of the following:\\n            (1) For an application for a permit to drill on Indian \\n        land.\\n            (2) To conduct any oil or gas inspection activity on Indian \\n        land.\\n            (3) On any oil or gas lease for nonproducing acreage on \\n        Indian land.\\n\\nSEC. 7. BONDING REQUIREMENTS AND NONPAYMENT OF ATTORNEYS' FEES TO \\n              PROMOTE INDIAN ENERGY PROJECTS.\\n\\n    (a) In General.--A plaintiff who obtains a preliminary injunction \\nor administrative stay in an energy related action, but does not \\nultimately prevail on the merits of the energy related action, shall be \\nliable for damages sustained by a defendant who--\\n            (1) opposed the preliminary injunction or administrative \\n        stay; and\\n            (2) was harmed by the preliminary injunction or \\n        administrative stay.\\n    (b) Bond.--Unless otherwise specifically exempted by Federal law, a \\ncourt may not issue a preliminary injunction and an agency may not \\ngrant an administrative stay in an energy related action until the \\nplaintiff posts with the court or the agency a surety bond or cash \\nequivalent--\\n            (1) in an amount the court or agency decides is 30 percent \\n        of that amount that the court or agency considers is sufficient \\n        to compensate each defendant opposing the preliminary \\n        injunction or administrative stay for damages, including but \\n        not limited to preliminary development costs, additional \\n        development costs, and reasonable attorney fees, that each \\n        defendant may sustain as a result of the preliminary injunction \\n        or administrative stay;\\n            (2) written by a surety licensed to do business in the \\n        State in which the Indian Land or other land where the \\n        activities are undertaken is situated; and\\n            (3) payable to each defendant opposing the preliminary \\n        injunction or administrative stay, in the event that the \\n        plaintiff does not prevail on the merits of the energy related \\n        action, Provided, that, if there is more than one plaintiff, \\n        the court or agency shall establish the amount of the bond \\n        required by this subsection for each plaintiff in a fair and \\n        equitable manner.\\n    (c) Limitation on Certain Payments.--Notwithstanding section 1304 \\nof title 31, United States Code, no award may be made under section 504 \\nof title 5, United States Code, or under section 2412 of title 28, \\nUnited States Code, and no amounts may be obligated or expended from \\nthe Claims and Judgment Fund of the United States Treasury to pay any \\nfees or other expenses under such sections to any plaintiff related to \\nan energy related action.\\n    (d) Definitions.--For the purposes of this section, the following \\ndefinitions apply:\\n            (1) Administrative stay.--The term ``Administrative Stay'' \\n        means a stay or other temporary remedy issued by a Federal \\n        agency, including the Department of the Interior, the \\n        Department of Agriculture, the Department of Energy, the \\n        Department of Commerce, and the Environmental Protection \\n        Agency.\\n            (2) Indian land.--The term ``Indian Land'' has the same \\n        meaning given such term in section 203(c)(3) of the Energy \\n        Policy Act of 2005 (Public Law 109-58; 25 U.S.C. 3501), \\n        including lands owned by Native Corporations under the Alaska \\n        Native Claims Settlement Act (Public Law 92-203; 43 U.S.C. \\n        1601).\\n            (3) Energy related action.--The term ``energy related \\n        action'' means a cause of action that--\\n                    (A) is filed on or after the effective date of this \\n                Act; and\\n                    (B) seeks judicial review of a final agency action \\n                (as defined in section 702 of title 5, United States \\n                Code), to issue a permit, license, or other form of \\n                agency permission allowing:\\n                            (i) any person or entity to conduct \\n                        activities on Indian Land, which activities \\n                        involve the exploration, development, \\n                        production or transportation of oil, gas, coal, \\n                        shale gas, oil shale, geothermal resources, \\n                        wind or solar resources, underground coal \\n                        gasification, biomass, or the generation of \\n                        electricity, or\\n                            (ii) any Indian Tribe, or any organization \\n                        of two or more entities, at least one of which \\n                        is an Indian tribe, to conduct activities \\n                        involving the exploration, development, \\n                        production or transportation of oil, gas, coal, \\n                        shale gas, oil shale, geothermal resources, \\n                        wind or solar resources, underground coal \\n                        gasification, biomass, or the generation of \\n                        electricity, regardless of where such \\n                        activities are undertaken.\\n            (4) Ultimately prevail on the merits.--The phrase \\n        ``Ultimately prevail on the merits'' means, in a final \\n        enforceable judgment on the merits, the court rules in the \\n        plaintiff's favor on at least one cause of action which is an \\n        underlying rationale for the preliminary injunction, and does \\n        not include circumstances where the final agency action is \\n        modified or amended by the issuing agency unless such \\n        modification or amendment is required pursuant to a final \\n        enforceable judgment of the court or a court-ordered consent \\n        decree.\\n            (5) Indian tribe.--The term ``Indian tribe'' means any \\n        Indian tribe, band, nation, or other organized group or \\n        community, including any Alaska Native village or regional or \\n        village corporation as defined in or established pursuant to \\n        the Alaska Native Claims Settlement Act (43 U.S.C. 1601 et \\n        seq.), which is recognized as eligible for the special programs \\n        and services provided by the United States to Indians because \\n        of their status as Indians.\\n\\nSEC. 8. TRIBAL BIOMASS DEMONSTRATION PROJECT.\\n\\n    The Tribal Forest Protection Act of 2004 is amended by inserting \\nafter section 2 (25 U.S.C. 3115a) the following:\\n\\n``SEC. 3. TRIBAL BIOMASS DEMONSTRATION PROJECT.\\n\\n    ``(a) In General.--For each of fiscal years 2014 through 2018, the \\nSecretary shall enter into stewardship contracts or other agreements, \\nother than agreements that are exclusively direct service contracts, \\nwith Indian tribes to carry out demonstration projects to promote \\nbiomass energy production (including biofuel, heat, and electricity \\ngeneration) on Indian forest land and in nearby communities by \\nproviding reliable supplies of woody biomass from Federal land.\\n    ``(b) Definitions.--The definitions in section 2 shall apply to \\nthis section.\\n    ``(c) Demonstration Projects.--In each fiscal year for which \\nprojects are authorized, the Secretary shall enter into contracts or \\nother agreements described in subsection (a) to carry out at least 4 \\nnew demonstration projects that meet the eligibility criteria described \\nin subsection (d).\\n    ``(d) Eligibility Criteria.--To be eligible to enter into a \\ncontract or other agreement under this subsection, an Indian tribe \\nshall submit to the Secretary an application--\\n            ``(1) containing such information as the Secretary may \\n        require; and\\n            ``(2) that includes a description of--\\n                    ``(A) the Indian forest land or rangeland under the \\n                jurisdiction of the Indian tribe; and\\n                    ``(B) the demonstration project proposed to be \\n                carried out by the Indian tribe.\\n    ``(e) Selection.--In evaluating the applications submitted under \\nsubsection (c), the Secretary--\\n            ``(1) shall take into consideration the factors set forth \\n        in paragraphs (1) and (2) of section 2(e) of Public Law 108-\\n        278; and whether a proposed demonstration project would--\\n                    ``(A) increase the availability or reliability of \\n                local or regional energy;\\n                    ``(B) enhance the economic development of the \\n                Indian tribe;\\n                    ``(C) improve the connection of electric power \\n                transmission facilities serving the Indian tribe with \\n                other electric transmission facilities;\\n                    ``(D) improve the forest health or watersheds of \\n                Federal land or Indian forest land or rangeland; or\\n                    ``(E) otherwise promote the use of woody biomass; \\n                and\\n            ``(2) shall exclude from consideration any merchantable \\n        logs that have been identified by the Secretary for commercial \\n        sale.\\n    ``(f) Implementation.--The Secretary shall--\\n            ``(1) ensure that the criteria described in subsection (c) \\n        are publicly available by not later than 120 days after the \\n        date of enactment of this section; and\\n            ``(2) to the maximum extent practicable, consult with \\n        Indian tribes and appropriate intertribal organizations likely \\n        to be affected in developing the application and otherwise \\n        carrying out this section.\\n    ``(g) Report.--Not later than September 20, 2015, the Secretary \\nshall submit to Congress a report that describes, with respect to the \\nreporting period--\\n            ``(1) each individual tribal application received under \\n        this section; and\\n            ``(2) each contract and agreement entered into pursuant to \\n        this section.\\n    ``(h) Incorporation of Management Plans.--In carrying out a \\ncontract or agreement under this section, on receipt of a request from \\nan Indian tribe, the Secretary shall incorporate into the contract or \\nagreement, to the extent practicable, management plans (including \\nforest management and integrated resource management plans) in effect \\non the Indian forest land or rangeland of the respective Indian tribe.\\n    ``(i) Term.--A stewardship contract or other agreement entered into \\nunder this section--\\n            ``(1) shall be for a term of not more than 20 years; and\\n            ``(2) may be renewed in accordance with this section for \\n        not more than an additional 10 years.''.\\n\\nSEC. 9. TRIBAL RESOURCE MANAGEMENT PLANS.\\n\\n    Unless otherwise explicitly exempted by Federal law enacted after \\nthe date of the enactment of this Act, any activity conducted or \\nresources harvested or produced pursuant to a tribal resource \\nmanagement plan or an integrated resource management plan approved by \\nthe Secretary of the Interior under the National Indian Forest \\nResources Management Act (25 U.S.C. 3101 et seq.) or the American \\nIndian Agricultural Resource Management Act (25 U.S.C. 3701 et seq.), \\nshall be considered a sustainable management practice for purposes of \\nany Federal standard, benefit, or requirement that requires a \\ndemonstration of such sustainability.\\n\\nSEC. 10. LEASES OF RESTRICTED LANDS FOR THE NAVAJO NATION.\\n\\n    Subsection (e)(1) of the first section of the Act of August 9, 1955 \\n(25 U.S.C. 415(e)(1); commonly referred to as the ``Long-Term Leasing \\nAct''), is amended--\\n            (1) by striking ``, except a lease for'' and inserting ``, \\n        including leases for'';\\n            (2) in subparagraph (A), by striking ``25'' the first place \\n        it appears and all that follows and inserting ``99 years;'';\\n            (3) in subparagraph (B), by striking the period and \\n        inserting ``; and''; and\\n            (4) by adding at the end the following:\\n            ``(C) in the case of a lease for the exploration, \\n        development, or extraction of mineral resources, including \\n        geothermal resources, 25 years, except that any such lease may \\n        include an option to renew for one additional term not to \\n        exceed 25 years.''.\\n\\nSEC. 11. NONAPPLICABILITY OF CERTAIN RULES.\\n\\n    No rule promulgated by the Department of the Interior regarding \\nhydraulic fracturing used in the development or production of oil or \\ngas resources shall have any effect on any land held in trust or \\nrestricted status for the benefit of Indians except with the express \\nconsent of the beneficiary on whose behalf such land is held in trust \\nor restricted status.\"}\n",
            "Error Type: AttributeError, Message: 'InferenceClient' object has no attribute 'post'\n"
          ]
        },
        {
          "output_type": "stream",
          "name": "stdout",
          "text": [
            "\r[------------------------>                         ] 5/10"
          ]
        },
        {
          "output_type": "stream",
          "name": "stderr",
          "text": [
            "WARNING:langchain.smith.evaluation.runner_utils:LLM failed for example 91231239-5daf-4ed5-b146-450a5669bb92 with inputs {'text': \"Summarize this news:\\nSECTION 1. SHORT TITLE.\\n\\n    This Act may be cited as the ``Gallatin Land Consolidation Act of \\n1998''.\\n\\n SEC. 2. FINDINGS.\\n\\n    Congress finds that--\\n            (1) the land north of Yellowstone National Park possesses \\n        outstanding natural characteristics and wildlife habitats that \\n        make the land a valuable addition to the National Forest \\n        System;\\n            (2) it is in the interest of the United States to establish \\n        a logical and effective ownership pattern for the Gallatin \\n        National Forest, reducing long-term costs for taxpayers and \\n        increasing and improving public access to the forest;\\n            (3) it is in the interest of the United States for the \\n        Secretary of Agriculture to enter into an Option Agreement for \\n        the acquisition of land owned by Big Sky Lumber Co. to \\n        accomplish the purposes of this Act; and\\n            (4) other private property owners are willing to enter into \\n        exchanges that further improve the ownership pattern of the \\n        Gallatin National Forest.\\n\\n SEC. 3. DEFINITIONS.\\n\\n    In this Act:\\n            (1) BLM land.--The term ``BLM land'' means approximately \\n        2,000 acres of Bureau of Land Management land (including all \\n        appurtenances to the land) that is proposed to be acquired by \\n        BSL, as depicted in Exhibit B to the Option Agreement.\\n            (2) BSL.--The term ``BSL'' means Big Sky Lumber Co., an \\n        Oregon joint venture, and its successors and assigns, and any \\n        other entities having a property interest in the BSL land.\\n            (3) BSL land.--The term ``BSL land'' means approximately \\n        54,000 acres of land (including all appurtenances to the land \\n        except as provided in section 4(e)(1)(D)(i)) owned by BSL that \\n        is proposed to be acquired by the Secretary of Agriculture, as \\n        depicted in Exhibit A to the Option Agreement.\\n            (4) Eastside national forests.--The term ``Eastside \\n        National Forests'' means national forests east of the \\n        Continental Divide in the State of Montana, including the \\n        Beaverhead National Forest, Deerlodge National Forest, Helena \\n        National Forest, Custer National Forest, and Lewis and Clark \\n        National Forest.\\n            (5) National forest system land.--The term ``National \\n        Forest System land'' means approximately 29,000 acres of land \\n        (including all appurtenances to the land) owned by the United \\n        States in the Gallatin National Forest, Flathead National \\n        Forest, Deerlodge National Forest, Helena National Forest, Lolo \\n        National Forest, and Lewis and Clark National Forest that is \\n        proposed to be acquired by BSL, as depicted in Exhibit B to the \\n        Option Agreement.\\n            (6) Option agreement.--The term ``Option Agreement'' \\n        means--\\n                    (A) the document signed by BSL, dated July 29, 1998 \\n                and entitled ``Option Agreement for the Acquisition of \\n                Big Sky Lumber Co. Lands Pursuant to the Gallatin Range \\n                Consolidation and Protection Act of 1993'';\\n                    (B) the exhibits and maps attached to the document \\n                described in subparagraph (A); and\\n                    (C) an exchange agreement to be entered into \\n                between the Secretary and BSL and made part of the \\n                document described in subparagraph (A).\\n            (7) Secretary.--The ``Secretary'' means the Secretary of \\n        Agriculture.\\n\\n SEC. 4. GALLATIN LAND CONSOLIDATION COMPLETION.\\n\\n    (a) In General.--Notwithstanding any other provision of law, and \\nsubject to the terms and conditions of the Option Agreement--\\n            (1) if BSL offers title acceptable to the Secretary to the \\n        BSL land--\\n                    (A) the Secretary shall accept a warranty deed to \\n                the BSL land and a quit claim deed to agreed to mineral \\n                interests in the BSL land;\\n                    (B) the Secretary shall convey to BSL, subject to \\n                valid existing rights and to other terms, conditions, \\n                reservations, and exceptions as may be agreed to by the \\n                Secretary and BSL, fee title to the National Forest \\n                System land; and\\n                    (C) the Secretary of the Interior shall convey to \\n                BSL, by patent or otherwise, subject to valid existing \\n                rights and other terms, conditions, reservations, and \\n                exceptions as may be agreed to by the Secretary of the \\n                Interior and BSL, fee title to the BLM land;\\n            (2) if BSL places title in escrow acceptable to the \\n        Secretary to 11\\\\1/2\\\\ sections of the BSL land in the Taylor \\n        Fork area as set forth in the Option Agreement--\\n                    (A) the Secretary shall place Federal land in the \\n                Bangtail and Doe Creek areas of the Gallatin National \\n                Forest, as identified in the Option Agreement, in \\n                escrow pending conveyance to the Secretary of the \\n                Taylor Fork land, as identified in the Option Agreement \\n                in escrow;\\n                    (B) the Secretary, subject to the availability of \\n                funds, shall purchase 7\\\\1/2\\\\ sections of BSL land in \\n                the Taylor Fork area held in escrow and identified in \\n                the Option Agreement at a purchase price of $4,150,000; \\n                and\\n                    (C) the Secretary shall acquire the 4 Taylor Fork \\n                sections identified in the Option Agreement remaining \\n                in escrow, and any of the 6 sections referred to in \\n                subparagraph (B) for which funds are not available, by \\n                providing BSL with timber sale receipts from timber \\n                sales on the Gallatin National Forest and other \\n                eastside national forests in the State of Montana in \\n                accordance with subsection (c); and\\n            (3)(A) as funds or timber sale receipts are received by \\n        BSL--\\n                    (i) the deeds to an equivalent value of BSL Taylor \\n                Fork land held in escrow shall be released and conveyed \\n                to the Secretary; and\\n                    (ii) the escrow of deeds to an equivalent value of \\n                Federal land shall be released to the Secretary in \\n                accordance with the terms of the Option Agreement; or\\n            (B) if funds or timber sale receipts are not provided to \\n        BSL as provided in the Option Agreement, BSL shall be entitled \\n        to receive patents and deeds to an equivalent value of the \\n        Federal land held in escrow.\\n    (b) Valuation.--\\n            (1) In general.--The property and other assets exchanged or \\n        conveyed by BSL and the United States under subsection (a) \\n        shall be approximately equal in value, as determined by the \\n        Secretary.\\n            (2) Difference in value.--To the extent that the property \\n        and other assets exchanged or conveyed by BSL or the United \\n        States under subsection (a) are not approximately equal in \\n        value, as determined by the Secretary, the values shall be \\n        equalized in accordance with methods identified in the Option \\n        Agreement.\\n    (c) Timber Sale Program.--\\n            (1) In general.--The Secretary shall implement a timber \\n        sale program, according to the terms and conditions identified \\n        in the Option Agreement and subject to compliance with \\n        applicable environmental laws (including regulations), judicial \\n        decisions, memoranda of understanding, small business set-aside \\n        rules, and acts beyond the control of the Secretary, to \\n        generate sufficient timber receipts to purchase the portions of \\n        the BSL land in Taylor Fork identified in the Option Agreement.\\n            (2) Implementation.--In implementing the timber sale \\n        program--\\n                    (A) the Secretary shall provide BSL with a proposed \\n                annual schedule of timber sales;\\n                    (B) as set forth in the Option Agreement, receipts \\n                generated from the timber sale program shall be \\n                deposited by the Secretary in a special account \\n                established by the Secretary and paid by the Secretary \\n                to BSL;\\n                    (C) receipts from the Gallatin National Forest \\n                shall not be subject to the Act of May 23, 1908 (16 \\n                U.S.C. 500); and\\n                    (D) the Secretary shall fund the timber sale \\n                program at levels determined by the Secretary to be \\n                commensurate with the preparation and administration of \\n                the identified timber sale program.\\n    (d) Rights-of-Way.--As specified in the Option Agreement--\\n            (1) the Secretary, under the authority of the Federal Land \\n        Policy and Management Act of 1976 (43 U.S.C. 1701 et seq.), \\n        shall convey to BSL such easements in or other rights-of-way \\n        over National Forest System land for access to the land \\n        acquired by BSL under this Act for all lawful purposes; and\\n            (2) BSL shall convey to the United States such easements in \\n        or other rights-of-way over land owned by BSL for all lawful \\n        purposes, as may be agreed to by the Secretary and BSL.\\n    (e) Quality of Title.--\\n            (1) Determination.--The Secretary shall review the title \\n        for the BSL land described in subsection (a) and, within 45 \\n        days after receipt of all applicable title documents from BSL, \\n        determine whether--\\n                    (A) the applicable title standards for Federal land \\n                acquisition have been satisfied and the quality of the \\n                title is otherwise acceptable to the Secretary of \\n                Agriculture;\\n                    (B) all draft conveyances and closing documents \\n                have been received and approved;\\n                    (C) a current title commitment verifying compliance \\n                with applicable title standards has been issued to the \\n                Secretary; and\\n                    (D) the title includes both the surface and \\n                subsurface estates without reservation or exception \\n                (except as specifically provided in this Act), \\n                including--\\n                            (i) minerals, mineral rights, and mineral \\n                        interests (including severed oil and gas \\n                        surface rights), subject to and excepting other \\n                        outstanding or reserved oil and gas rights;\\n                            (ii) timber, timber rights, and timber \\n                        interests (except those reserved subject to \\n                        section 251.14 of title 36, Code of Federal \\n                        Regulations, by BSL and agreed to by the \\n                        Secretary);\\n                            (iii) water, water rights, ditch, and ditch \\n                        rights;\\n                            (iv) geothermal rights; and\\n                            (v) any other interest in the property.\\n            (2) Conveyance of title.--\\n                    (A) In general.--If the quality of title does not \\n                meet Federal standards or is otherwise determined to be \\n                unacceptable to the Secretary of Agriculture, the \\n                Secretary shall advise BSL regarding corrective actions \\n                necessary to make an affirmative determination under \\n                paragraph (1).\\n                    (B) Title to subsurface estate.--Title to the \\n                subsurface estate shall be conveyed by BSL to the \\n                Secretary in the same form and content as that estate \\n                is received by BSL from Burlington Resources Oil & Gas \\n                Company Inc. and Glacier Park Company.\\n    (f) Timing of Implementation.--\\n            (1) Land-for-land exchange.--The Secretary shall accept the \\n        conveyance of land described in subsection (a) not later than \\n        45 days after the Secretary has made an affirmative \\n        determination of quality of title.\\n            (2) Land-for-timber sale receipt exchange.--As provided in \\n        subsection (c) and the Option Agreement, the Secretary shall \\n        make timber receipts described in subsection (a)(3) available \\n        not later than December 31 of the fifth full calendar year that \\n        begins after the date of enactment of this Act.\\n            (3) Purchase.--The Secretary shall complete the purchase of \\n        BSL land under subsection (a)(3)(B) not later than 30 days \\n        after the date on which appropriated funds are made available \\n        and an affirmative determination of quality of title is made \\n        with respect to the BSL land.\\n\\nSEC. 5. OTHER FACILITATED EXCHANGES.\\n\\n    (a) Authorized Exchanges.--\\n            (1) In general.--The Secretary shall enter into the \\n        following land exchanges if the landowners are willing:\\n                    (A) Wapiti land exchange, as outlined in the \\n                documents entitled ``Non-Federal Lands in Facilitated \\n                Exchanges'' and ``Federal Lands in Facilitated \\n                Exchanges'' and dated July 1998.\\n                    (B) Eightmile/West Pine land exchange as outlined \\n                in the documents entitled ``Non-Federal Lands in \\n                Facilitated Exchanges'' and ``Federal Lands in \\n                Facilitated Exchanges'' and dated July 1998.\\n            (2) Equal Value.--Before entering into an exchange under \\n        paragraph (1), the Secretary shall determine that the parcels \\n        of land to be exchanged are of approximately equal value, based \\n        on an appraisal.\\n    (b) Section 1 of the Taylor Fork Land.--\\n            (1) In general.--The Secretary is encouraged to pursue a \\n        land exchange with the owner of section 1 of the Taylor Fork \\n        land after completing a full public process and an appraisal.\\n            (2) Report.--The Secretary shall report to Congress on the \\n        implementation of paragraph (1) not later than 180 days after \\n        the date of enactment of this Act.\\n\\nSEC. 6. GENERAL PROVISIONS.\\n\\n    (a) Minor Corrections.--\\n            (1) In general.--The Option Agreement shall be subject to \\n        such minor corrections and supplemental provisions as may be \\n        agreed to by the Secretary and BSL.\\n            (2) Notification.--The Secretary shall notify the Committee \\n        on Energy and Natural Resources of the Senate, the Committee on \\n        Resources of the House of Representatives, and each member of \\n        the Montana congressional delegation of any changes made under \\n        this subsection.\\n            (3) Boundary adjustment.--\\n                    (A) In general.--The boundary of the Gallatin \\n                National Forest is adjusted in the Wineglass and North \\n                Bridger area, as described on maps dated July 1998, \\n                upon completion of the conveyances.\\n                    (B) No limitation.--Nothing in this subsection \\n                limits the authority of the Secretary to adjust the \\n                boundary pursuant to section 11 of the Act of March 1, \\n                1911 (commonly known as the ``Weeks Act'') (16 U.S.C. \\n                521).\\n                    (C) Allocation of land and water conservation fund \\n                moneys.--For the purposes of section 7 of the Land and \\n                Water Conservation Fund Act of 1965 (16 U.S.C. 460l-9), \\n                boundaries of the Gallatin National Forest shall be \\n                considered to be the boundaries of the National Forest \\n                as of January 1, 1965.\\n    (b) Public Availability.--The Option Agreement--\\n            (1) shall be on file and available for public inspection in \\n        the office of the Supervisor of the Gallatin National Forest; \\n        and\\n            (2) shall be filed with the county clerk of each of \\n        Gallatin County, Park County, Madison County, Granite County, \\n        Broadwater County, Meagher County, Flathead County, and \\n        Missoula County, Montana.\\n    (c) Compliance With Option Agreement.--The Secretary, the Secretary \\nof the Interior, and BSL shall comply with the terms and conditions of \\nthe Option Agreement except to the extent that any provision of the \\nOption Agreement conflicts with this Act.\\n    (d) Status of Land.--All land conveyed to the United States under \\nthis Act shall be added to and administered as part of the Gallatin \\nNational Forest and Deerlodge National Forest, as appropriate, in \\naccordance with the Act of March 1, 1911 (5 U.S.C. 515 et seq.), and \\nother laws (including regulations) pertaining to the National Forest \\nSystem.\\n    (e) Management.--\\n            (1) Public process.--Not later than 30 days after the date \\n        of completion of the land-for-land exchange under section \\n        4(f)(1), the Secretary shall initiate a public process to amend \\n        the Gallatin National Forest Plan and the Deerlodge National \\n        Forest Plan to integrate the acquired land into the plans.\\n            (2) Process time.--The amendment process under paragraph \\n        (1) shall be completed as soon as practicable, and in no event \\n        later than 540 days after the date on which the amendment \\n        process is initiated.\\n            (3) Limitation.--An amended management plan shall not \\n        permit surface occupancy on the acquired land for access to \\n        reserved or outstanding oil and gas rights or for exploration \\n        or development of oil and gas.\\n            (4) Interim management.--Pending completion of the forest \\n        plan amendment process under paragraph (1), the Secretary \\n        shall--\\n                    (A) manage the acquired land under the standards \\n                and guidelines in the applicable land and resource \\n                management plans for adjacent land managed by the \\n                Forest Service; and\\n                    (B) maintain all existing public access to the \\n                acquired land.\\n    (f) Restoration.--\\n            (1) In general.--The Secretary shall implement a \\n        restoration program including reforestation and watershed \\n        enhancements to bring the acquired land and surrounding \\n        national forest land into compliance with Forest Service \\n        standards and guidelines.\\n            (2) State and local conservation corps.--In implementing \\n        the restoration program, the Secretary shall, when practicable, \\n        use partnerships with State and local conservation corps, \\n        including the Montana Conservation Corps, under the Public \\n        Lands Corps Act of 1993 (16 U.S.C. 1721 et seq.).\\n    (g) Implementation.--The Secretary of Agriculture shall ensure that \\nsufficient funds are made available to the Gallatin National Forest to \\ncarry out this Act.\\n    (i) Revocations.--Notwithstanding any other provision of law, any \\npublic orders withdrawing lands identified in the Option Agreement from \\nall forms of appropriation under the public land laws are revoked upon \\nconveyance of the lands by the Secretary.\\n\\nSEC. 7. AUTHORIZATION OF APPROPRIATIONS.\\n\\n    There are authorized to be appropriated such sums as are necessary \\nto carry out this Act.\\n\\n            Passed the Senate October 2, 1998.\\n\\n            Attest:\\n\\n                                                    GARY SISCO,\\n\\n                                                             Secretary.\"}\n",
            "Error Type: AttributeError, Message: 'InferenceClient' object has no attribute 'post'\n"
          ]
        },
        {
          "output_type": "stream",
          "name": "stdout",
          "text": [
            "\r[----------------------------->                    ] 6/10"
          ]
        },
        {
          "output_type": "stream",
          "name": "stderr",
          "text": [
            "WARNING:langchain.smith.evaluation.runner_utils:LLM failed for example dc76bf64-ead3-4ca9-ad86-280042fa72ee with inputs {'text': \"Summarize this news:\\nSECTION 1. SHORT TITLE.\\n\\n    This Act may be cited as the ``Marine Debris Act Amendments of \\n2012''.\\n\\nSEC. 2. REFERENCES.\\n\\n    Except as otherwise expressly provided, whenever in this Act an \\namendment is expressed as an amendment to a section or other provision, \\nthe reference shall be considered to be made to a section or other \\nprovision of the Marine Debris Research, Prevention, and Reduction Act \\n(33 U.S.C. 1951 et seq.), as in effect immediately before the enactment \\nof this Act.\\n\\nSEC. 3. SHORT TITLE AMENDMENT.\\n\\n    Section 1 (33 U.S.C. 1951 note) is amended by striking ``Research, \\nPrevention, and Reduction''.\\n\\nSEC. 4. PURPOSE.\\n\\n    Section 2 (33 U.S.C. 1951) is amended to read as follows:\\n\\n``SEC. 2. PURPOSE.\\n\\n    ``The purpose of this Act is to address the adverse impacts of \\nmarine debris on the United States economy, the marine environment, and \\nnavigation safety through identification, determination of sources, \\nassessment, prevention, reduction, and removal of marine debris.''.\\n\\nSEC. 5. NOAA MARINE DEBRIS PROGRAM.\\n\\n    (a) Name of Program.--\\n            (1) In general.--Section 3 (33 U.S.C. 1952) is amended--\\n                    (A) in the section heading by striking ``prevention \\n                and removal''; and\\n                    (B) in subsection (a)--\\n                            (i) by striking ``Prevention and Removal \\n                        Program to reduce and prevent'' and inserting \\n                        ``Program to identify, determine sources of, \\n                        assess, prevent, reduce, and remove'';\\n                            (ii) by inserting ``the economy of the \\n                        United States,'' after ``marine debris on''; \\n                        and\\n                            (iii) by inserting a comma after \\n                        ``environment''.\\n            (2) Conforming amendment.--Paragraph (7) of section 7 (33 \\n        U.S.C. 1956) is amended by striking ``Prevention and Removal''.\\n    (b) Program Components.--Section 3(b) (33 U.S.C. 1952(b)) is \\namended to read as follows:\\n    ``(b) Program Components.--The Administrator, acting through the \\nProgram and subject to the availability of appropriations, shall--\\n            ``(1) identify, determine sources of, assess, prevent, \\n        reduce, and remove marine debris, with a focus on marine debris \\n        posing a threat to living marine resources and navigation \\n        safety;\\n            ``(2) provide national and regional coordination to assist \\n        States, Indian tribes, and regional organizations in \\n        identification, determination of sources, assessment, \\n        prevention, reduction, and removal of marine debris;\\n            ``(3) undertake efforts to reduce adverse impacts of lost \\n        and discarded fishing gear on living marine resources and \\n        navigation safety, including--\\n                    ``(A) research and development of alternatives to \\n                gear posing threats to the marine environment, and \\n                methods for marking gear used in specific fisheries to \\n                enhance the tracking, recovery, and identification of \\n                lost and discarded gear; and\\n                    ``(B) development of effective nonregulatory \\n                measures and incentives to cooperatively reduce the \\n                volume of lost and discarded fishing gear and to aid in \\n                its recovery; and\\n            ``(4) undertake outreach and education of the public and \\n        other stakeholders on sources of marine debris, threats \\n        associated with marine debris, and approaches to identify, \\n        determine sources of, assess, prevent, reduce, and remove \\n        marine debris and its adverse impacts on the United States \\n        economy, the marine environment, and navigational safety, \\n        including outreach and education activities through public-\\n        private initiatives.''.\\n    (c) Repeal.--Section 2204 of the Marine Plastic Pollution Research \\nand Control Act of 1987 and the item relating to that section in the \\ntable of contents contained in section 2 of the United States-Japan \\nFishery Agreement Approval Act of 1987 (33 U.S.C. 1915) are repealed.\\n    (d) Grant Criteria and Guidelines.--Section 3(c) (33 U.S.C. \\n1952(c)) is amended--\\n            (1) in paragraph (1), by striking ``section 2(1)'' and \\n        inserting ``section 2'';\\n            (2) by repealing paragraph (5); and\\n            (3) by redesignating paragraphs (6) and (7) as paragraphs \\n        (5) and (6).\\n\\nSEC. 6. REPEAL OF OBSOLETE PROVISIONS.\\n\\n    Section 4 (33 U.S.C. 1953) is amended--\\n            (1) by striking ``(a) Strategy.--''; and\\n            (2) by repealing subsections (b) and (c).\\n\\nSEC. 7. AMENDMENTS TO DEFINITIONS.\\n\\n    (a) Interagency Marine Debris Coordinating Committee.--\\n            (1) In general.--Except as provided in subsection (b), \\n        section 2203 of the Marine Plastic Pollution Research and \\n        Control Act of 1987 (33 U.S.C. 1914) is redesignated and moved \\n        to replace and appear as section 5 of the Marine Debris \\n        Research, Prevention, and Reduction Act (33 U.S.C. 1954).\\n            (2) Clerical amendment.--The item relating to section 2203 \\n        in the table of contents contained in section 2 of the United \\n        States-Japan Fishery Agreement Approval Act of 1987 is \\n        repealed.\\n    (b) Biennial Progress Reports.--Section 5(c)(2) (33 U.S.C. \\n1954(c)(2)), as in effect immediately before the enactment of this \\nAct--\\n            (1) is redesignated as subsection (e) of section 5, as \\n        redesignated and moved by the amendment made by subsection (a) \\n        of this section; and\\n            (2) is amended--\\n                    (A) by striking ``Annual progress reports.--'' and \\n                all that follows through ``thereafter'' and inserting \\n                ``Biennial Progress Reports.--Bienially'';\\n                    (B) by inserting ``Natural'' before ``Resources'';\\n                    (C) by redesignating subparagraphs (A) through (E) \\n                as paragraphs (1) through (5) of such subsection; and\\n                    (D) by moving such subsection 2 ems to the left.\\n\\nSEC. 8. CONFIDENTIALITY OF SUBMITTED INFORMATION.\\n\\n    Section 6(2) (33 U.S.C. 1955(2)) is amended by striking ``by the \\nfishing industry''.\\n\\nSEC. 9. MARINE DEBRIS DEFINITION.\\n\\n    Section 7 (33 U.S.C. 1956) is amended--\\n            (1) by redesignating paragraph (3) as paragraph (9), and \\n        moving such paragraph to appear after paragraph (8); and\\n            (2) by inserting after paragraph (2) the following:\\n            ``(3) Marine debris.--The term `marine debris' means any \\n        persistent solid material that is manufactured or processed and \\n        directly or indirectly, and intentionally or unintentionally, \\n        disposed of or abandoned into the marine environment or the \\n        Great Lakes.''.\\n\\nSEC. 10. AUTHORIZATION OF APPROPRIATIONS.\\n\\n    Section 9 (33 U.S.C. 1958) is amended--\\n            (1) by striking ``are'' and inserting ``is'';\\n            (2) by striking ``2006 through 2010'' and all that follows \\n        through ``(1)'' and inserting ``through fiscal year 2015'';\\n            (3) in paragraph (1), by striking ``$10,000,000'' and \\n        inserting ``$4,900,000''; and\\n            (4) by striking ``; and'' and all that follows through the \\n        end of paragraph (2) and inserting a period.\\n\\n            Passed the House of Representatives August 1, 2012.\\n\\n            Attest:\\n\\n                                                 KAREN L. HAAS,\\n\\n                                                                 Clerk.\"}\n",
            "Error Type: AttributeError, Message: 'InferenceClient' object has no attribute 'post'\n",
            "WARNING:langchain.smith.evaluation.runner_utils:LLM failed for example a35a8766-d29e-437a-8b9b-6d1d92666996 with inputs {'text': \"Summarize this news:\\nSECTION 1. LIABILITY OF BUSINESS ENTITIES PROVIDING USE OF FACILITIES \\n              TO NONPROFIT ORGANIZATIONS.\\n\\n    (a) Definitions.--In this section:\\n            (1) Business entity.--The term ``business entity'' means a \\n        firm, corporation, association, partnership, consortium, joint \\n        venture, or other form of enterprise.\\n            (2) Facility.--The term ``facility'' means any real \\n        property, including any building, improvement, or appurtenance.\\n            (3) Gross negligence.--The term ``gross negligence'' means \\n        voluntary and conscious conduct by a person with knowledge (at \\n        the time of the conduct) that the conduct is likely to be \\n        harmful to the health or well-being of another person.\\n            (4) Intentional misconduct.--The term ``intentional \\n        misconduct'' means conduct by a person with knowledge (at the \\n        time of the conduct) that the conduct is harmful to the health \\n        or well-being of another person.\\n            (5) Nonprofit organization.--The term ``nonprofit \\n        organization'' means--\\n                    (A) any organization described in section 501(c)(3) \\n                of the Internal Revenue Code of 1986 and exempt from \\n                tax under section 501(a) of such Code; or\\n                    (B) any not-for-profit organization organized and \\n                conducted for public benefit and operated primarily for \\n                charitable, civic, educational, religious, welfare, or \\n                health purposes.\\n            (6) State.--The term ``State'' means each of the several \\n        States, the District of Columbia, the Commonwealth of Puerto \\n        Rico, the Virgin Islands, Guam, American Samoa, the Northern \\n        Mariana Islands, any other territory or possession of the \\n        United States, or any political subdivision of any such State, \\n        territory, or possession.\\n    (b) Limitation on Liability.--\\n            (1) In general.--Subject to subsection (c), a business \\n        entity shall not be subject to civil liability relating to any \\n        injury or death occurring at a facility of the business entity \\n        in connection with a use of such facility by a nonprofit \\n        organization if--\\n                    (A) the use occurs outside of the scope of business \\n                of the business entity;\\n                    (B) such injury or death occurs during a period \\n                that such facility is used by the nonprofit \\n                organization; and\\n                    (C) the business entity authorized the use of such \\n                facility by the nonprofit organization.\\n            (2) Application.--This subsection shall apply--\\n                    (A) with respect to civil liability under Federal \\n                and State law; and\\n                    (B) regardless of whether a nonprofit organization \\n                pays for the use of a facility.\\n    (c) Exception for Liability.--Subsection (b) shall not apply to an \\ninjury or death that results from an act or omission of a business \\nentity that constitutes gross negligence or intentional misconduct, \\nincluding any misconduct that--\\n            (1) constitutes a crime of violence (as that term is \\n        defined in section 16 of title 18, United States Code) or act \\n        of international terrorism (as that term is defined in section \\n        2331 of title 18) for which the defendant has been convicted in \\n        any court;\\n            (2) constitutes a hate crime (as that term is used in the \\n        Hate Crime Statistics Act (28 U.S.C. 534 note));\\n            (3) involves a sexual offense, as defined by applicable \\n        State law, for which the defendant has been convicted in any \\n        court; or\\n            (4) involves misconduct for which the defendant has been \\n        found to have violated a Federal or State civil rights law.\\n    (d) Superseding Provision.--\\n            (1) In general.--Subject to paragraph (2) and subsection \\n        (e), this Act preempts the laws of any State to the extent that \\n        such laws are inconsistent with this Act, except that this Act \\n        shall not preempt any State law that provides additional \\n        protection from liability for a business entity for an injury \\n        or death with respect to which conditions under subparagraphs \\n        (A) through (C) of subsection (b)(1) apply.\\n            (2) Limitation.--Nothing in this Act shall be construed to \\n        supersede any Federal or State health or safety law.\\n    (e) Election of State Regarding Nonapplicability.--This Act shall \\nnot apply to any civil action in a State court against a business \\nentity in which all parties are citizens of the State if such State \\nenacts a statute--\\n            (1) citing the authority of this subsection;\\n            (2) declaring the election of such State that this Act \\n        shall not apply to such civil action in the State; and\\n            (3) containing no other provision.\"}\n",
            "Error Type: AttributeError, Message: 'InferenceClient' object has no attribute 'post'\n"
          ]
        },
        {
          "output_type": "stream",
          "name": "stdout",
          "text": [
            "\r[---------------------------------->               ] 7/10\r[--------------------------------------->          ] 8/10"
          ]
        },
        {
          "output_type": "stream",
          "name": "stderr",
          "text": [
            "WARNING:langchain.smith.evaluation.runner_utils:LLM failed for example e497d28a-a57e-46f0-a7e3-7d8ed3969ddb with inputs {'text': \"Summarize this news:\\nSECTION 1. SHORT TITLE.\\n\\n    This Act may be cited as the ``Jackie Robinson Commemorative Coin \\nAct''.\\n\\nSEC. 2. COIN SPECIFICATIONS.\\n\\n    (a) $1 Silver Coins.--In commemoration of the 50th anniversary of \\nthe breaking of the color barrier in major league baseball by Jackie \\nRobinson, the Secretary of the Treasury (hereafter in this Act referred \\nto as the ``Secretary'') shall mint and issue not more than 500,000 1 \\ndollar coins, which shall--\\n            (1) weigh 26.73 grams;\\n            (2) have a diameter of 1.500 inches; and\\n            (3) contain 90 percent silver and 10 percent copper.\\n    (b) Legal Tender.--The coins minted under this Act shall be legal \\ntender, as provided in section 5103 of title 31, United States Code.\\n    (c) Numismatic Items.--For purposes of section 5136 of title 31, \\nUnited States Code, all coins minted under this Act shall be considered \\nto be numismatic items.\\n\\nSEC. 3. SOURCES OF BULLION.\\n\\n    The Secretary shall obtain silver for minting coins under this Act \\nonly from stockpiles established under the Strategic and Critical \\nMaterials Stock Piling Act.\\n\\nSEC. 4. DESIGN OF COINS.\\n\\n    (a) Design Requirements.--\\n            (1) In general.--The design--\\n                    (A) on the obverse side of the coins minted under \\n                this Act shall be emblematic of Jackie Robinson; and\\n                    (B) on the reverse side of such coins shall be \\n                emblematic of Jackie Robinson's association with and \\n                contributions to major league baseball.\\n            (2) Designation and inscriptions.--On each coin minted \\n        under this Act there shall be--\\n                    (A) a designation of the value of the coin;\\n                    (B) an inscription of the year ``1997''; and\\n                    (C) inscriptions of the words ``Liberty'', ``In God \\n                We Trust'', ``United States of America'', and ``E \\n                Pluribus Unum''.\\n    (b) Selection.--The design for the coins minted under this Act \\nshall be--\\n            (1) selected by the Secretary after consultation with the \\n        Jackie Robinson Foundation and the Commission of Fine Arts; and\\n            (2) reviewed by the Citizens Commemorative Coin Advisory \\n        Committee.\\n\\nSEC. 5. ISSUANCE OF COINS.\\n\\n    (a) Quality of Coins.--Coins minted under this Act shall be issued \\nin uncirculated and proof qualities.\\n    (b) Mint Facility.--Only 1 facility of the United States Mint may \\nbe used to strike any particular quality of the coins minted under this \\nAct.\\n    (c) Commencement of Issuance.--The Secretary may issue coins minted \\nunder this Act beginning April 15, 1997.\\n    (d) Termination of Minting Authority.--No coins may be minted under \\nthis Act after December 15, 1998.\\n\\nSEC. 6. SALE OF COINS.\\n\\n    (a) Sale Price.--The coins issued under this Act shall be sold by \\nthe Secretary at a price equal to the sum of--\\n            (1) the face value of the coins;\\n            (2) the surcharge provided in subsection (d) with respect \\n        to such coins; and\\n            (3) the cost of designing and issuing the coins (including \\n        labor, materials, dies, use of machinery, overhead expenses, \\n        marketing, and shipping).\\n    (b) Bulk Sales.--The Secretary shall make bulk sales of the coins \\nissued under this Act at a reasonable discount.\\n    (c) Prepaid Orders.--\\n            (1) In general.--The Secretary shall accept prepaid orders \\n        for the coins minted under this Act before the issuance of such \\n        coins.\\n            (2) Discount.--Sale prices with respect to prepaid orders \\n        under paragraph (1) shall be at a reasonable discount.\\n    (d) Surcharges.--All sales shall include a surcharge of $10 per \\ncoin.\\n\\nSEC. 7. GENERAL WAIVER OF PROCUREMENT REGULATIONS.\\n\\n    (a) In General.--Except as provided in subsection (b), no provision \\nof law governing procurement or public contracts shall be applicable to \\nthe procurement of goods and services necessary for carrying out the \\nprovisions of this Act.\\n    (b) Equal Employment Opportunity.--Subsection (a) shall not relieve \\nany person entering into a contract under the authority of this Act \\nfrom complying with any law relating to equal employment opportunity.\\n\\nSEC. 8. DISTRIBUTION OF SURCHARGES.\\n\\n    Subject to section 10(a), all surcharges received by the Secretary \\nfrom the sale of coins issued under this Act shall be promptly paid by \\nthe Secretary to the Jackie Robinson Foundation (hereafter in this Act \\nreferred to as the Foundation'') for the purpose of--\\n            (1) enhancing the programs of the Foundation in the field \\n        of education and youth leadership skills development; and\\n            (2) increasing the availability of scholarships for youth \\n        with the greatest need.\\n\\nSEC. 9. FINANCIAL ASSURANCES.\\n\\n    (a) No Net Cost to the Government.--The Secretary shall take such \\nactions as may be necessary to ensure that minting and issuing coins \\nunder this Act will not result in any net cost to the United States \\nGovernment.\\n    (b) Payment for Coins.--A coin shall not be issued under this Act \\nunless the Secretary has received--\\n            (1) full payment for the coin;\\n            (2) security satisfactory to the Secretary to indemnify the \\n        United States for full payment; or\\n            (3) a guarantee of full payment satisfactory to the \\n        Secretary from a depository institution whose deposits are \\n        insured by the Federal Deposit Insurance Corporation or the \\n        National Credit Union Administration Board.\\n\\nSEC. 10. CONDITIONS ON PAYMENT OF SURCHARGES.\\n\\n    (a) Payment of Surcharges.--Notwithstanding any other provision of \\nlaw, no amount derived from the proceeds of any surcharge imposed on \\nthe sale of coins issued under this Act shall be paid to the Foundation \\nunless--\\n            (1) all numismatic operation and program costs allocable to \\n        the program under which such coins are produced and sold have \\n        been recovered; and\\n            (2) the Foundation submits an audited financial statement \\n        which demonstrates to the satisfaction of the Secretary that, \\n        with respect to all projects or purposes for which the proceeds \\n        of such surcharge may be used, the Foundation has raised funds \\n        from private sources for such projects and purposes in an \\n        amount which is equal to or greater than the maximum amount the \\n        Foundation may receive from the proceeds of such surcharge.\\n    (b) Annual Audits.--\\n            (1) Annual audits of recipients required.--The Foundation \\n        shall provide, as a condition for receiving any amount derived \\n        from the proceeds of any surcharge imposed on the sale of coins \\n        issued under this Act, for an annual audit, in accordance with \\n        generally accepted government auditing standards by an \\n        independent public accountant selected by the Foundation, of \\n        all such payments to the Foundation beginning in the first \\n        fiscal year of the Foundation in which any such amount is \\n        received and continuing until all such amounts received by the \\n        Foundation with respect to such surcharges are fully expended \\n        or placed in trust.\\n            (2) Minimum requirements for annual audits.--At a minimum, \\n        each audit of the Foundation pursuant to paragraph (1) shall \\n        report--\\n                    (A) the amount of payments received by the \\n                Foundation during the fiscal year of the Foundation for \\n                which the audit is conducted which are derived from the \\n                proceeds of any surcharge imposed on the sale of coins \\n                issued under this Act;\\n                    (B) the amount expended by the Foundation from the \\n                proceeds of such surcharges during the fiscal year of \\n                the Foundation for which the audit is conducted; and\\n                    (C) whether all expenditures by the Foundation from \\n                the proceeds of such surcharges during the fiscal year \\n                of the Foundation for which the audit is conducted were \\n                for authorized purposes.\\n            (3) Responsibility of foundation to account for \\n        expenditures of surcharges.--The Foundation shall take \\n        appropriate steps, as a condition for receiving any payment of \\n        any amount derived from the proceeds of any surcharge imposed \\n        on the sale of coins issued under this Act, to ensure that the \\n        receipt of the payment and the expenditure of the proceeds of \\n        such surcharge by the Foundation in each fiscal year of the \\n        Foundation can be accounted for separately from all other \\n        revenues and expenditures of the Foundation.\\n            (4) Submission of audit report.--Not later than 90 days \\n        after the end of any fiscal year of the Foundation for which an \\n        audit is required under paragraph (1), the Foundation shall--\\n                    (A) submit a copy of the report to the Secretary; \\n                and\\n                    (B) make a copy of the report available to the \\n                public.\\n            (5) Use of surcharges for audits.--The Foundation may use \\n        any amount received from payments derived from the proceeds of \\n        any surcharge imposed on the sale of coins issued under this \\n        Act to pay the cost of an audit required under paragraph (1).\\n            (6) Waiver of subsection.--The Secretary may waive the \\n        application of any paragraph of this subsection to the \\n        Foundation for any fiscal year after taking into account the \\n        amount of surcharges which such Foundation received or expended \\n        during such year.\\n            (7) Availability of books and records.--The Foundation \\n        shall provide, as a condition for receiving any payment derived \\n        from the proceeds of any surcharge imposed on the sale of coins \\n        issued under this Act, to the Inspector General of the \\n        Department of the Treasury or the Comptroller General of the \\n        United States, upon the request of such Inspector General or \\n        the Comptroller General, all books, records, and workpapers \\n        belonging to or used by the Foundation, or by any independent \\n        public accountant who audited the Foundation in accordance with \\n        paragraph (1), which may relate to the receipt or expenditure \\n        of any such amount by the Foundation.\\n    (c) Use of Agents or Attorneys to Influence Commemorative Coin \\nLegislation.--No portion of any payment to the Foundation from amounts \\nderived from the proceeds of surcharges imposed on the sale of coins \\nissued under this Act may be used, directly or indirectly, by the \\nFoundation to compensate any agent or attorney for services rendered to \\nsupport or influence in any way legislative action of the Congress \\nrelating to the coins minted and issued under this Act.\"}\n",
            "Error Type: AttributeError, Message: 'InferenceClient' object has no attribute 'post'\n"
          ]
        },
        {
          "output_type": "stream",
          "name": "stdout",
          "text": [
            "\r[-------------------------------------------->     ] 9/10"
          ]
        },
        {
          "output_type": "stream",
          "name": "stderr",
          "text": [
            "WARNING:langchain.smith.evaluation.runner_utils:LLM failed for example e36710d7-0519-4d0f-83a0-9302ad535ed1 with inputs {'text': \"Summarize this news:\\nSECTION 1. SCHOOL-BASED MENTAL HEALTH AND STUDENT SERVICE PROVIDERS.\\n\\n    (a) In General.--Subpart 14 of title V of the Elementary and \\nSecondary Education Act of 1965 (20 U.S.C. 7269 et seq.) is amended--\\n            (1) by inserting after the subpart heading the following:\\n\\n   ``CHAPTER A--SYSTEMS INTEGRATION; PROMOTION OF SCHOOL READINESS'';\\n\\n        and\\n            (2) by adding at the end the following:\\n\\n ``CHAPTER B--SCHOOL-BASED MENTAL HEALTH AND STUDENT SERVICE PROVIDERS\\n\\n``SEC. 5545. FINDINGS.\\n\\n    ``Congress finds the following:\\n            ``(1) The Surgeon General of the Public Health Service has \\n        found that although 1 in 10 children and adolescents suffer \\n        from mental illness severe enough to cause some level of \\n        impairment, in any given year fewer than 1 in 5 of these \\n        children receives needed treatment. The short- and long-term \\n        consequences of untreated childhood mental disorders are \\n        costly, in both human and fiscal terms.\\n            ``(2) School counselors, school social workers, and school \\n        psychologists are needed to help these children and to provide \\n        a variety of crucial support services.\\n            ``(3) Across the United States, there are insufficient \\n        resources for school-based counseling professionals, and often \\n        students do not get the help they need. The current national \\n        average ratio of students to school counselors in elementary \\n        and secondary schools is 561 to 1.\\n            ``(4) United States schools need more mental health \\n        professionals, and they need the flexibility to hire the \\n        professionals that will best serve their students.\\n            ``(5) According to the Institute of Medicine of the \\n        National Academy of Sciences, the maximum recommended ratio \\n        of--\\n                    ``(A) students to school counselors is 250 to 1;\\n                    ``(B) students to school psychologists is 1,000 to \\n                1; and\\n                    ``(C) students to school social workers is 800 to \\n                1.\\n            ``(6) In some States, 1 school counselor typically serves \\n        over 1,000 students. Ratios for school psychologists and school \\n        social workers are also extremely high. In some schools, no \\n        school-based mental health and student service provider is \\n        available to assist students in times of crisis, or at any \\n        other time.\\n            ``(7) The number of students is expected to grow \\n        significantly over the next few years. During this time, many \\n        school-based mental health professionals who currently serve \\n        the Nation's youth will retire.\\n            ``(8) Model programs using school-based mental health and \\n        student service providers have reduced school suspensions, \\n        reduced referrals to the principal's office, reduced the use of \\n        weapons, force, and threats, and increased students' feelings \\n        of safety.\\n\\n``SEC. 5546. PURPOSES.\\n\\n    ``The purposes of this chapter are to assist States and local \\neducational agencies in hiring additional school-based mental health \\nproviders, including additional school counselors, school \\npsychologists, and school social workers to achieve each of the \\nfollowing:\\n            ``(1) To reduce the ratios of school-based mental health \\n        and student service providers to students in elementary and \\n        secondary schools in the United States to the following minimum \\n        ratios recommended by the Institute of Medicine of the National \\n        Academy of Sciences in its 1997 report `Schools and Health: Our \\n        Nation's Investment':\\n                    ``(A) 1 school counselor for every 250 students;\\n                    ``(B) 1 school psychologist for every 1,000 \\n                students; and\\n                    ``(C) 1 school social worker for every 800 \\n                students.\\n            ``(2) To provide school-based mental health and student \\n        services.\\n            ``(3) To remove emotional, behavioral, and psychosocial \\n        barriers to learning so as to enhance students classroom \\n        preparedness and ability to learn.\\n            ``(4) To support school staff and teachers in improving \\n        classroom management, conducting behavioral interventions to \\n        improve school discipline, and developing the awareness and \\n        skills to identify early warning signs of violence and the need \\n        for mental health services.\\n            ``(5) To support parental involvement in improving the \\n        school behavior and academic success of their children.\\n\\n``SEC. 5547. DEFINITIONS.\\n\\n    ``In this chapter, the following definitions apply:\\n            ``(1) Child.--The term `child' means an individual who is \\n        not less than 5 years old and not more than 17 years old.\\n            ``(2) Child in poverty.--The term `child in poverty' means \\n        a child from a family with an income below the poverty line.\\n            ``(3) Mental health and student service provider.--The term \\n        `mental health and student service provider' means a qualified \\n        individual who provides mental health and student services, \\n        including any individual who is a qualified school counselor, a \\n        qualified school psychologist, or a qualified school social \\n        worker.\\n            ``(4) Mental health and student services.--The term `mental \\n        health and student services' includes direct, individual, and \\n        group services provided to students, parents, and school \\n        personnel by mental health and student service providers, and \\n        the coordination of prevention strategies in schools or \\n        community-based programs.\\n            ``(5) Poverty line.--The term `poverty line' means the \\n        poverty line (as defined by the Office of Management and \\n        Budget, and revised annually in accordance with section 673(2) \\n        of the Community Services Block Grant Act (42 U.S.C. 9902(2)) \\n        applicable to a family of the size involved.\\n            ``(6) School counselor.--The term `school counselor' means \\n        an individual who has documented competence in counseling \\n        children and adolescents in a school setting and who--\\n                    ``(A) possesses State licensure or certification \\n                granted by an independent professional regulatory \\n                authority;\\n                    ``(B) possesses national certification in school \\n                counseling or a specialty of counseling granted by an \\n                independent professional organization; or\\n                    ``(C) holds a minimum of a master's degree in \\n                school counseling from a program accredited by the \\n                Council for Accreditation of Counseling and Related \\n                Educational Programs or the equivalent.\\n            ``(7) School psychologist.--The term `school psychologist' \\n        means an individual who--\\n                    ``(A) possesses a minimum of 60 graduate semester \\n                hours in school psychology from an institution of \\n                higher education and has completed 1,200 clock hours in \\n                a supervised school psychology internship, of which 600 \\n                hours shall be in a school setting;\\n                    ``(B) possesses State licensure or certification in \\n                school psychology in the State in which the individual \\n                works; or\\n                    ``(C) possesses national certification by the \\n                National School Psychology Certification Board.\\n            ``(8) School social worker.--The term `school social \\n        worker' means an individual who--\\n                    ``(A) holds a master's degree in social work from a \\n                program accredited by the Council on Social Work \\n                Education;\\n                    ``(B) is licensed or certified by the State in \\n                which services are provided; or\\n                    ``(C) possesses a national credential or national \\n                certification as a school social work specialist \\n                granted by an independent professional organization.\\n            ``(9) State.--The term `State' means each of the several \\n        States, the District of Columbia, and the Commonwealth of \\n        Puerto Rico.\\n\\n``SEC. 5548. SCHOOL-BASED MENTAL HEALTH AND STUDENT SERVICE PROVIDER \\n              GRANT PROGRAM.\\n\\n    ``(a) In General.--In accordance with this chapter, the Secretary \\nshall make grants to eligible States to assist local educational \\nagencies in those States in hiring additional school-based mental \\nhealth and student service providers.\\n    ``(b) Allocation of Funds.--From the total amount appropriated for \\na fiscal year to carry out this chapter, the Secretary shall--\\n            ``(1) make available 1 percent of such amount to the \\n        Secretary of the Interior (on behalf of the Bureau of Indian \\n        Affairs) and the outlying areas for activities that carry out \\n        the purposes of this chapter; and\\n            ``(2) make available in the form of grants to each eligible \\n        State an amount equal to the sum of--\\n                    ``(A) an amount that bears the same relationship to \\n                50 percent of such total amount as the number of \\n                children in poverty who reside in the State bears to \\n                the number of such children in all States; and\\n                    ``(B) an amount that bears the same relationship to \\n                50 percent of such total amount as the number of \\n                children enrolled in public and private nonprofit \\n                elementary schools and secondary schools in the State \\n                bears to the number of children enrolled in all such \\n                schools in all States.\\n    ``(c) Minimum Grant.--Notwithstanding subsection (b), no grant \\nunder this section shall be for an amount less than $1,000,000.\\n    ``(d) Reallocation.--The Secretary shall reallocate to States that \\nhave received approval under subsection (e)(2) any funds allocated \\nunder subsection (b) to a State that fails to submit an application \\nthat is approved by the Secretary.\\n    ``(e) Application by State.--\\n            ``(1) In general.--To be eligible to receive a grant under \\n        this chapter, a State shall submit an application to the \\n        Secretary at such time, in such manner, and containing such \\n        information as the Secretary may require.\\n            ``(2) Approval.--The Secretary may not approve an \\n        application under this subsection unless the State submitting \\n        the application--\\n                    ``(A) presents a plan, which the Secretary \\n                considers to be reasonable, under which the State will \\n                make grants, in accordance with the purposes of this \\n                chapter, to local educational agencies to fund the \\n                hiring of additional school counselors, school \\n                psychologists, and school social workers; and\\n                    ``(B) provides an assurance that the State will \\n                provide the matching amount required under subsection \\n                (g).\\n    ``(f) Use of Funds by State.--\\n            ``(1) In general.--In accordance with this subsection, the \\n        total of the amounts made available to a State under this \\n        section and the amounts of the non-Federal match required under \\n        subsection (g) may only be used by a State to make grants to \\n        local educational agencies to assist such agencies in hiring \\n        additional school-based mental health and student service \\n        providers.\\n            ``(2) Administrative costs.--In each fiscal year, a State \\n        may use not more than 5 percent of the assistance made \\n        available to it under this chapter for the administrative costs \\n        of the State in carrying out the State's responsibilities under \\n        this chapter.\\n            ``(3) Allocation of funds.--In making grants in accordance \\n        with this subsection, the State shall allocate from the total \\n        described in paragraph (1) to each local educational agency an \\n        amount equal to the sum of--\\n                    ``(A) an amount that bears the same relationship to \\n                50 percent of such total as the number of children in \\n                poverty who reside in the school district served by the \\n                local educational agency bears to the number of such \\n                children who reside in all the school districts in the \\n                State; and\\n                    ``(B) an amount that bears the same relationship to \\n                50 percent of such total as the number of children \\n                enrolled in public and private nonprofit elementary \\n                schools and secondary schools in the school district \\n                served by the local educational agency bears to the \\n                number of children enrolled in all such schools in the \\n                State.\\n            ``(4) Minimum grant.--Notwithstanding paragraph (3), no \\n        grant made by a State in accordance with this subsection shall \\n        be for an amount less than $50,000.\\n            ``(5) Source of data.--For purposes of paragraph (3), the \\n        State shall use data from the most recent fiscal year for which \\n        satisfactory data are available, except that the State may \\n        adjust such data, or use alternative child poverty data, if the \\n        State demonstrates to the Secretary's satisfaction that such \\n        adjusted or alternative data more accurately reflect the \\n        relative incidence of children who are living in poverty and \\n        who reside in the school districts in the State.\\n            ``(6) Application by local educational agencies.--A State \\n        may require that, in order to be eligible for a grant made by \\n        the State in accordance with this subsection, a local \\n        educational agency shall submit an application to the State at \\n        such time, in such manner, and containing such information as \\n        the State may require.\\n    ``(g) Matching Funds.--\\n            ``(1) In general.--As a condition of receiving a grant \\n        under this section, the Secretary shall require that a State \\n        provide from non-Federal sources an amount equal to the amount \\n        of the grant.\\n            ``(2) Local contribution.--In making grants to local \\n        educational agencies in accordance with this subsection, a \\n        State may require that a local educational agency match a \\n        portion of the amount of the grant made to the agency.\\n            ``(3) Form.--The non-Federal share required by this \\n        subsection may be provided in cash or in kind, fairly \\n        evaluated, and may include facilities, equipment, or services.\\n    ``(h) Funds To Be Supplementary.--Assistance made available under \\nthis chapter shall be used to supplement, and may not supplant, \\nFederal, State, or local funds used for employing school-based mental \\nhealth and student service providers.\\n    ``(i) Data Collection and Report.--\\n            ``(1) In general.--For each fiscal year for which it \\n        receives assistance under this chapter, a State shall collect \\n        data describing how the assistance is used.\\n            ``(2) Report.--Not later than 1 year after assistance is \\n        made available to a State under this chapter, the State shall \\n        transmit to the Secretary a report on the data described in \\n        paragraph (1), including information with respect to each local \\n        educational agency to which the State made a grant with \\n        assistance made available under this chapter--\\n                    ``(A) the number of school counselors, school \\n                psychologists, and school social workers employed by \\n                local educational agency; and\\n                    ``(B) the ratio of students to school counselors, \\n                the ratio of students to school psychologists, and the \\n                ratio of students to school social workers.\\n            ``(3) Source of funds.--A State may use a portion of the \\n        assistance permitted to be used for administrative costs to \\n        carry out its responsibilities under this subsection.\\n            ``(4) Publication.--The Secretary shall make data received \\n        under this subsection publicly available on an annual basis.\\n\\n``SEC. 5549. AUTHORIZATION OF APPROPRIATIONS.\\n\\n    ``There are authorized to be appropriated to carry out this chapter \\n$100,000,000 for each of fiscal years 2004 through 2008.''.\\n    (b) Clerical Amendments.--The table of contents for the Elementary \\nand Secondary Education Act of 1965 (20 U.S.C. 6301 et seq.) is amended \\nby amending the items relating to subpart 14 of title V to read as \\nfollows:\\n\\n     ``Subpart 14--Grants to Improve the Mental Health of Children\\n\\n    ``CHAPTER A--SYSTEMS INTEGRATION; PROMOTION OF SCHOOL READINESS\\n\\n``Sec. 5541. Grants for the integration of schools and mental health \\n                            systems.\\n``Sec. 5542. Promotion of school readiness through early childhood \\n                            emotional and social development.\\n ``CHAPTER B--SCHOOL-BASED MENTAL HEALTH AND STUDENT SERVICE PROVIDERS\\n\\n``Sec. 5545. Findings.\\n``Sec. 5546. Purposes.\\n``Sec. 5547. Definitions.\\n``Sec. 5548. School-based mental health and student service provider \\n                            grant program.\\n``Sec. 5549. Authorization of appropriations.''.\"}\n",
            "Error Type: AttributeError, Message: 'InferenceClient' object has no attribute 'post'\n"
          ]
        },
        {
          "output_type": "stream",
          "name": "stdout",
          "text": [
            "\r[------------------------------------------------->] 10/10\n"
          ]
        }
      ],
      "source": [
        "project_name = f\"T5-BASE {datetime.datetime.now().strftime('%Y-%m-%d %H:%M:%S')}\"\n",
        "\n",
        "base_t5_results = run_on_dataset(\n",
        "    client=client,\n",
        "    project_name=project_name,\n",
        "    dataset_name=NAME_DATASET,\n",
        "    llm_or_chain_factory=summarizer_base,\n",
        "    evaluation=evaluation_config,\n",
        ")"
      ]
    },
    {
      "cell_type": "code",
      "execution_count": 34,
      "id": "76ede4d6-ed51-4745-b91a-d9ec6c40d436",
      "metadata": {
        "colab": {
          "base_uri": "https://localhost:8080/"
        },
        "id": "76ede4d6-ed51-4745-b91a-d9ec6c40d436",
        "outputId": "62f2161d-ad23-4796-8d89-e0189496b812",
        "tags": []
      },
      "outputs": [
        {
          "output_type": "stream",
          "name": "stdout",
          "text": [
            "View the evaluation results for project 'T5-FineTuned 2025-09-08 13:38:17' at:\n",
            "https://smith.langchain.com/o/dbfa5d30-7b5a-4be6-9c3b-7b1d8cb19c7a/datasets/3b28ceeb-33ec-42ab-afe0-a68accb8813b/compare?selectedSessions=c5449331-8eb1-492b-8de7-0cf7da0e7710\n",
            "\n",
            "View all tests for Dataset Summarize_dataset_2025-09-08 13:33:47 at:\n",
            "https://smith.langchain.com/o/dbfa5d30-7b5a-4be6-9c3b-7b1d8cb19c7a/datasets/3b28ceeb-33ec-42ab-afe0-a68accb8813b\n",
            "[>                                                 ] 0/10"
          ]
        },
        {
          "output_type": "stream",
          "name": "stderr",
          "text": [
            "WARNING:langchain.smith.evaluation.runner_utils:LLM failed for example 612d29f6-d3d5-46e9-8d2a-81e48a27e613 with inputs {'text': \"Summarize this news:\\nSECTION 1. NONRECOGNITION OF GAIN WHERE ROLLOVER TO SMALL BUSINESS \\n              INVESTMENTS.\\n\\n    (a) In General.--Part III of subchapter O of chapter 1 of the \\nInternal Revenue Code of 1986 (relating to common nontaxable exchanges) \\nis amended by adding at the end the following new section:\\n\\n``SEC. 1045. ROLLOVER OF GAIN TO SMALL BUSINESS INVESTMENTS.\\n\\n    ``(a) Nonrecognition of Gain.--In the case of the sale of any \\ncapital asset with respect to which the taxpayer elects the application \\nof this section, gain from such sale shall be recognized only to the \\nextent that the amount realized on such sale exceeds--\\n            ``(1) the cost of any eligible small business investment \\n        purchased by the taxpayer during the 12-month period beginning \\n        on the date of such sale, reduced by\\n            ``(2) any portion of such cost previously taken into \\n        account under this section.\\n    ``(b) Definitions and Special Rules.--For purposes of this \\nsection--\\n            ``(1) Capital asset.--The term `capital asset' has the \\n        meaning given such term by section 1221 (determined without \\n        regard to paragraph (2) of such section), except that such term \\n        shall include gain derived from the bulk sale of inventory not \\n        in the ordinary course of a trade or business.\\n            ``(2) Investment property.--The term `investment property' \\n        means property that has the capacity to produce gross income \\n        from--\\n                    ``(A) interest, annuities, or royalties, not \\n                derived in the ordinary course of a trade or business, \\n                or\\n                    ``(B) dividends.\\n        Such term shall not include expansion shares.\\n            ``(3) Purchase.--The term `purchase' has the meaning given \\n        such term by section 1043(b)(4).\\n            ``(4) Eligible small business investment.--Except as \\n        otherwise provided in this section, the term `eligible small \\n        business investment' means any stock in a domestic corporation, \\n        and any partnership interest in a domestic partnership, if--\\n                    ``(A) as of the date of issuance of such stock or \\n                partnership interest, such corporation or partnership \\n                is a qualified small business entity, and\\n                    ``(B) such stock or partnership interest is \\n                acquired by the taxpayer at its original issue \\n                (directly or through an underwriter) in exchange for \\n                money or other property (not including stock).\\n        A rule similar to the rule of section 1202(c)(3) shall apply \\n        for purposes of this section.\\n            ``(5) Qualified small business entity.--\\n                    ``(A) In general.--The term `qualified small \\n                business entity' means any domestic corporation or \\n                partnership if--\\n                            ``(i) for the taxable year of such entity \\n                        in which the stock or partnership interest was \\n                        issued and each prior taxable year, such entity \\n                        (and any predecessor thereof) had gross \\n                        receipts of less than $5,000,000,\\n                            ``(ii) the primary activity of such entity \\n                        (and any predecessor thereof) for the taxable \\n                        year of such issuance and each prior taxable \\n                        year was an activity listed in the Standard \\n                        Industrial Classification Manual, 1987 (SIC), \\n                        as published by the Office of Management and \\n                        Budget, Executive Office of the President, as \\n                        being--\\n                                    ``(I) agriculture, forestry or \\n                                fishing (Division A),\\n                                    ``(II) mining (Division B),\\n                                    ``(III) construction (Division C),\\n                                    ``(IV) manufacturing (Division D),\\n                                    ``(V) transportation, \\n                                communications, electric, gas or \\n                                sanitary service (Division E),\\n                                    ``(VI) wholesale trade (Division \\n                                F),\\n                                    ``(VII) retail trade (Division (G),\\n                                    ``(VIII) personal services (Major \\n                                Group 72, Division I),\\n                                    ``(IX) business services (Major \\n                                Group 73, Division I),\\n                                    ``(X) automotive repair, services \\n                                or parking (Major Group 75, Division \\n                                I),\\n                                    ``(XI) miscellaneous repair \\n                                services (Major Group 76, Division I), \\n                                or\\n                                    ``(XII) engineering, accounting, \\n                                research, management or related \\n                                services (Major Group 87, Division I),\\n                            ``(iii) such entity generates income from \\n                        investment property only as an incidental \\n                        effect of the management of a working capital \\n                        pool aggregated and directed toward investing \\n                        in any qualified small business entity, and\\n                            ``(iv) the majority of full-time employees \\n                        employed by such entity and the largest \\n                        percentage, by dollar value, of independent \\n                        contractors under contract to such entity are \\n                        located in the United States.\\n                For purposes of clause (iii), ownership interests in \\n                entities controlled by such entity or directly involved \\n                in the primary activity referred to in clause (ii) with \\n                respect to such entity do not constitute investment \\n                property, and the Secretary may further define by \\n                regulation what constitutes an incidental holding of \\n                investment property.\\n                    ``(B) Aggregation rules.--All persons treated as a \\n                single employer under subsection (a) or (b) of section \\n                52 shall be treated as one person for purposes of \\n                subparagraph (A).\\n                    ``(C) Special rules for determining gross \\n                receipts.--The rules of subparagraphs (B) and (C) of \\n                section 448(c)(3) shall apply for purposes of \\n                subparagraph (A)(i).\\n    ``(c) Inapplicability to Certain Gain.--Subsection (a) shall not \\napply to any of the following types of gain:\\n            ``(1) Gain from the sale or other disposition of property \\n        received in lieu of salary, wages, or other compensation for \\n        services performed by the taxpayer, to the extent of the fair \\n        market value of the property at the time of receipt by the \\n        taxpayer.\\n            ``(2) Gain from the sale of property that is not held for \\n        the production of income.\\n            ``(3) Gain from investment property.\\n            ``(4) Gain that is treated or characterized as ordinary \\n        income for purposes of this title.\\n            ``(5) Gain, to the extent the gain is not recognized under \\n        section 1044 or 1202, notwithstanding that the gain is derived \\n        from the sale of expansion shares.\\n    ``(d) Certain Other Rules To Apply.--Rules similar to the rules of \\nsubsections (f), (g), (h), and (j) of section 1202 (without regard to \\nany 5-year holding period requirement) shall apply for purposes of this \\nsection.\\n    ``(e) Prohibition of Basis Adjustments.--If gain from any sale is \\nnot recognized by reason of subsection (a), such gain shall not be \\napplied to reduce the basis for determining gain or loss of any \\neligible small business investment which is purchased by the taxpayer \\nduring the 12-month period described in subsection (a).\\n    ``(f) Statute of Limitations.--If any gain is realized by the \\ntaxpayer on the sale or exchange of any eligible small business \\ninvestment and there is in effect an election under subsection (a) with \\nrespect to such gain, then--\\n            ``(1) the statutory period for the assessment of any \\n        deficiency with respect to such gain shall not expire before \\n        the expiration of 3 years from the date the Secretary is \\n        notified by the taxpayer (in such manner as the Secretary may \\n        by regulations prescribe) of--\\n                    ``(A) the taxpayer's cost of purchasing the \\n                eligible small business investment which the taxpayer \\n                claims results in nonrecognition of any part of such \\n                gain,\\n                    ``(B) the taxpayer's intention not to purchase any \\n                eligible small business investment within the 12-month \\n                period described in subsection (a), or\\n                    ``(C) a failure to make such purchase within such \\n                12-month period, and\\n            ``(2) such deficiency may be assessed before the expiration \\n        of such 3-year period notwithstanding the provisions of any \\n        other law or rule of law which would otherwise prevent such \\n        assessment.\\n    ``(g) Regulations.--The Secretary shall prescribe such regulations \\nas may be appropriate to carry out the purposes of this section, \\nincluding regulations to prevent the avoidance of the purposes of this \\nsection through splitups, shell corporations, partnerships, or \\notherwise.\\n    ``(h) Termination.--Subsection (a) shall not apply to any taxable \\nyear beginning on or after January 1, 2004.''\\n    (b) Report by Secretary.--Not later than December 31, 2001, the \\nSecretary of the Treasury shall submit to each House of the Congress a \\nreport detailing the effects of section 1045 of such Code, as added by \\nthis Act.\\n    (c) Clerical Amendment.--The table of sections for part III of \\nsubchapter O of chapter 1 of such Code is amended by adding at the end \\nthe following new item:\\n\\n                              ``Sec. 1045. Rollover of gain to small \\n                                        business investments.''\\n    (d) Effective Date.--The amendments made by this section shall \\napply to investments purchased after the date of the date of the \\nenactment of this Act, for taxable years ending after such date.\"}\n",
            "Error Type: AttributeError, Message: 'InferenceClient' object has no attribute 'post'\n",
            "WARNING:langchain.smith.evaluation.runner_utils:LLM failed for example 5285fd04-557a-4b94-94e6-c7d3fd3053f1 with inputs {'text': \"Summarize this news:\\nSECTION 1. SHORT TITLE.\\n\\n    This Act may be cited as the ``Indian Needs Assessment and Program \\nEvaluation Act of 2001''.\\n\\nSEC. 2. FINDINGS, PURPOSES.\\n\\n    (a) Findings.--Congress finds that--\\n            (1) the United States and the Indian tribes have a unique \\n        legal and political government-to-government relationship;\\n            (2) pursuant to the Constitution, treaties, statutes, \\n        Executive orders, court decisions, and course of conduct, the \\n        United States has a trust obligation to provide certain \\n        services to Indian tribes and to Indians;\\n            (3) Federal departments and agencies charged with \\n        administering programs and providing services to, or for the \\n        benefit of, Indians have not furnished Congress with adequate \\n        information necessary to assess such programs on the needs of \\n        Indians and Indian tribes;\\n            (4) such lack of information has hampered the ability of \\n        Congress to determine the nature, type, and magnitude of such \\n        needs as well as its ability to respond to them; and\\n            (5) Congress cannot properly fulfill its obligation to \\n        Indian tribes and Indian people unless and until it has an \\n        adequate store of information related to the needs of Indians \\n        nationwide.\\n    (b) Purposes.--The purposes of this Act are to--\\n            (1) ensure that Indian needs for Federal programs and \\n        services are known in a more certain and predictable fashion;\\n            (2) require that Federal departments and agencies carefully \\n        review and monitor the effectiveness of the programs and \\n        services provided to Indians;\\n            (3) provide for more efficient and effective cooperation \\n        and coordination of, and accountability from, the Federal \\n        departments and agencies providing programs and services, \\n        including technical and business development assistance, to \\n        Indians; and\\n            (4) provide Congress with reliable information regarding \\n        Indian needs and the evaluation of Federal programs and \\n        services provided to Indians nationwide.\\n\\nSEC. 3. INDIAN TRIBAL NEEDS ASSESSMENT.\\n\\n    (a) Indian Tribal Needs Assessments.--\\n            (1) Immediate assessment.--\\n                    (A) In general.--Not later than 180 days after the \\n                date of enactment of this Act, the Secretary of the \\n                Interior shall contract with an appropriate entity, in \\n                consultation and coordination with the Indian tribes, \\n                the Secretary of Agriculture, the Secretary of \\n                Commerce, the Secretary of Defense, the Secretary of \\n                Energy, the Secretary of Health and Human Services, the \\n                Secretary of Housing and Urban Development, the \\n                Secretary of Labor, the Secretary of the Treasury, the \\n                Secretary of Transportation, the Secretary of Veterans \\n                Affairs, the Attorney General, the Administrator of the \\n                Environmental Protection Agency, and the heads of any \\n                other relevant Federal departments or agencies, for the \\n                development of a uniform method and criteria, and \\n                uniform procedures for determining, analyzing, and \\n                compiling the program and service assistance needs of \\n                Indian tribes and Indians by each such department or \\n                agency. The needs assessment shall address, but not be \\n                limited to, the following:\\n                            (i) The location of the service area of \\n                        each program.\\n                            (ii) The size of the service area of each \\n                        program.\\n                            (iii) The total population of each tribe \\n                        located in the service area.\\n                            (iv) The total population of members of \\n                        other tribes located in the service area.\\n                            (v) The availability of similar programs \\n                        within the geographical area to tribes or \\n                        tribal members.\\n                            (vi) The socio-economic conditions that \\n                        exist within the service area.\\n                    (B) Consultation.--The contractor shall consult \\n                with tribal governments in establishing and conducting \\n                the needs assessment required under subparagraph (A).\\n            (2) Ongoing federal needs assessments.--\\n                    (A) In general.--Not later than 2 years after the \\n                date of enactment of this Act, and every 5 years \\n                thereafter, each Federal department or agency, in \\n                coordination with the Secretary of the Interior, shall \\n                conduct an Indian Needs Assessment (in this Act \\n                referred to as the ``INA'') aimed at determining the \\n                actual needs of Indian tribes and Indians eligible for \\n                programs and services administered by such department \\n                or agency.\\n                    (B) Submission to congress.--Not later than \\n                February 1 of any year in which an INA is required to \\n                be conducted under subparagraph (A), a copy of the INA \\n                shall be submitted to the Committee on Appropriations \\n                and the Committee on Resources of the House of \\n                Representatives and the Committee on Appropriations and \\n                the Committee on Indian Affairs of the Senate.\\n    (b) Federal Agency Indian Tribal Program Evaluation.--\\n            (1) In general.--Not later than 180 days after the date of \\n        enactment of this Act, the Secretary of the Interior shall \\n        develop a uniform method and criteria, and uniform procedures \\n        for compiling, maintaining, keeping current, and reporting to \\n        Congress all information concerning--\\n                    (A) the annual expenditures of the department or \\n                agency for programs and services for which Indians are \\n                eligible, with specific information regarding the names \\n                of tribes who are currently participating in or \\n                receiving each service, the names of tribes who have \\n                applied for and not received programs or services, and \\n                the names of tribes whose services or programs have \\n                been terminated within the last fiscal year;\\n                    (B) services or programs specifically for the \\n                benefit of Indians, with specific information regarding \\n                the names of tribes who are currently participating in \\n                or receiving each service, the names of tribes who have \\n                applied for and not received programs or services, and \\n                the names of tribes whose services or programs have \\n                been terminated within the last fiscal year; and\\n                    (C) the department or agency method of delivery of \\n                such services and funding, including a detailed \\n                explanation of the outreach efforts of each agency or \\n                department to Indian tribes.\\n            (2) Submission to Congress.--Not later than 2 years after \\n        the date of enactment of this Act, and annually thereafter, \\n        each Federal department or agency responsible for providing \\n        services or programs to, or for the benefit of, Indian tribes \\n        or Indians shall file an Annual Indian Program Evaluation (in \\n        this Act referred to as the ``AIPE'') with the Committee on \\n        Appropriations and the Committee on Resources of the House of \\n        Representatives and the Committee on Appropriations and the \\n        Committee on Indian Affairs of the Senate.\\n    (c) Annual Listing of Tribal Eligible Programs.--Not later than \\nFebruary 1 of each calendar year, each Federal department or agency \\ndescribed in subsection (b)(2), shall develop and publish in the \\nFederal Register a list of all programs and services offered by such \\ndepartment or agency for which Indian tribes or their members are or \\nmay be eligible, and shall provide a brief explanation of the program \\nor service.\\n    (d) Confidentiality.--Any information received, collected, or \\ngathered from Indian tribes concerning program function, operations, or \\nneed in order to conduct an INA or an AIPE shall be used only for the \\npurposes of this Act set forth in section 2(b).\\n\\nSEC. 4. REPORT TO CONGRESS.\\n\\n    (a) In General.--Not later than 2 years after the date of enactment \\nof this Act, the Secretary of the Interior shall develop and submit to \\nthe Committee on Appropriations and the Committee on Resources of the \\nHouse of Representatives and the Committee on Appropriations and the \\nCommittee on Indian Affairs of the Senate a report detailing the \\ncoordination of Federal program and service assistance for which Indian \\ntribes and their members are eligible.\\n    (b) Strategic Plan.--Not later than 30 months after the date of \\nenactment of this Act, the Secretary of the Interior, in consultation \\nand coordination with the Indian tribes, shall file a Strategic Plan \\nfor the Coordination of Federal Assistance for Indians (in this Act \\nreferred to as the ``Strategic Plan'').\\n    (c) Contents of Strategic Plan.--The Strategic Plan required under \\nsubsection (b) shall contain the following:\\n            (1) Identification of reforms necessary to the laws, \\n        regulations, policies, procedures, practices, and systems of \\n        the Federal departments or agencies involved.\\n            (2) Proposals for implementing the reforms identified in \\n        the Strategic Plan.\\n            (3) Any other recommendations that are consistent with the \\n        purposes of this Act set forth in section 2(b).\\n\\nSEC. 5. AUTHORIZATION OF APPROPRIATIONS.\\n\\n    There are authorized to be appropriated for fiscal year 2002 and \\neach fiscal year thereafter, such sums as are necessary to carry out \\nthis Act.\"}\n",
            "Error Type: AttributeError, Message: 'InferenceClient' object has no attribute 'post'\n",
            "WARNING:langchain.smith.evaluation.runner_utils:LLM failed for example 8f92e26d-ecf1-408f-a490-481ff1e1bea7 with inputs {'text': \"Summarize this news:\\nSECTION 1. SHORT TITLE.\\n\\n    This Act may be cited as the ``Native American Energy Act''.\\n\\nSEC. 2. TABLE OF CONTENTS.\\n\\n    The table of contents for this Act is as follows:\\n\\nSec. 1. Short title.\\nSec. 2. Table of contents.\\nSec. 3. Appraisals.\\nSec. 4. Standardization.\\nSec. 5. Environmental reviews of major Federal actions on Indian lands.\\nSec. 6. BLM oil and gas fees.\\nSec. 7. Bonding requirements and nonpayment of attorneys' fees to \\n                            promote Indian energy projects.\\nSec. 8. Tribal biomass demonstration project.\\nSec. 9. Tribal resource management plans.\\nSec. 10. Leases of restricted lands for the Navajo Nation.\\nSec. 11. Nonapplicability of certain rules.\\n\\nSEC. 3. APPRAISALS.\\n\\n    (a) Amendment.--Title XXVI of the Energy Policy Act of 1992 (25 \\nU.S.C. 3501 et seq.) is amended by adding at the end the following:\\n\\n``SEC. 2607. APPRAISAL REFORMS.\\n\\n    ``(a) Options to Indian Tribes.--With respect to a transaction \\ninvolving Indian land or the trust assets of an Indian tribe that \\nrequires the approval of the Secretary, any appraisal relating to fair \\nmarket value required to be conducted under applicable law, regulation, \\nor policy may be completed by--\\n            ``(1) the Secretary;\\n            ``(2) the affected Indian tribe; or\\n            ``(3) a certified, third-party appraiser pursuant to a \\n        contract with the Indian tribe.\\n    ``(b) Time Limit on Secretarial Review and Action.--Not later than \\n30 days after the date on which the Secretary receives an appraisal \\nconducted by or for an Indian tribe pursuant to paragraphs (2) or (3) \\nof subsection (a), the Secretary shall--\\n            ``(1) review the appraisal; and\\n            ``(2) provide to the Indian tribe a written notice of \\n        approval or disapproval of the appraisal.\\n    ``(c) Failure of Secretary To Approve or Disapprove.--If, after 60 \\ndays, the Secretary has failed to approve or disapprove any appraisal \\nreceived, the appraisal shall be deemed approved.\\n    ``(d) Option to Indian Tribes To Waive Appraisal.--\\n            ``(1) An Indian tribe wishing to waive the requirements of \\n        subsection (a), may do so after it has satisfied the \\n        requirements of subsections (2) and (3) below.\\n            ``(2) An Indian tribe wishing to forego the necessity of a \\n        waiver pursuant to this section must provide to the Secretary a \\n        written resolution, statement, or other unambiguous indication \\n        of tribal intent, duly approved by the governing body of the \\n        Indian tribe.\\n            ``(3) The unambiguous indication of intent provided by the \\n        Indian tribe to the Secretary under paragraph (2) must include \\n        an express waiver by the Indian tribe of any claims for damages \\n        it might have against the United States as a result of the lack \\n        of an appraisal undertaken.\\n    ``(e) Definition.--For purposes of this subsection, the term \\n`appraisal' includes appraisals and other estimates of value.\\n    ``(f) Regulations.--The Secretary shall develop regulations for \\nimplementing this section, including standards the Secretary shall use \\nfor approving or disapproving an appraisal.''.\\n    (b) Conforming Amendment.--The table of contents of the Energy \\nPolicy Act of 1992 (42 U.S.C. 13201 note) is amended by adding at the \\nend of the items relating to title XXVI the following:\\n\\n``Sec. 2607. Appraisal reforms.''.\\n\\nSEC. 4. STANDARDIZATION.\\n\\n    As soon as practicable after the date of the enactment of this Act, \\nthe Secretary of the Interior shall implement procedures to ensure that \\neach agency within the Department of the Interior that is involved in \\nthe review, approval, and oversight of oil and gas activities on Indian \\nlands shall use a uniform system of reference numbers and tracking \\nsystems for oil and gas wells.\\n\\nSEC. 5. ENVIRONMENTAL REVIEWS OF MAJOR FEDERAL ACTIONS ON INDIAN LANDS.\\n\\n    Section 102 of the National Environmental Policy Act of 1969 (42 \\nU.S.C. 4332) is amended by inserting ``(a) In General.--'' before the \\nfirst sentence, and by adding at the end the following:\\n    ``(b) Review of Major Federal Actions on Indian Lands.--\\n            ``(1) In general.--For any major Federal action on Indian \\n        lands of an Indian tribe requiring the preparation of a \\n        statement under subsection (a)(2)(C), the statement shall only \\n        be available for review and comment by the members of the \\n        Indian tribe and by any other individual residing within the \\n        affected area.\\n            ``(2) Regulations.--The Chairman of the Council on \\n        Environmental Quality shall develop regulations to implement \\n        this section, including descriptions of affected areas for \\n        specific major Federal actions, in consultation with Indian \\n        tribes.\\n            ``(3) Definitions.--In this subsection, each of the terms \\n        `Indian land' and `Indian tribe' has the meaning given that \\n        term in section 2601 of the Energy Policy Act of 1992 (25 \\n        U.S.C. 3501).\\n            ``(4) Clarification of authority.--Nothing in the Native \\n        American Energy Act, except section 7 of that Act, shall give \\n        the Secretary any additional authority over energy projects on \\n        Alaska Native Claims Settlement Act lands.''.\\n\\nSEC. 6. BLM OIL AND GAS FEES.\\n\\n    The Secretary of the Interior, acting through the Bureau of Land \\nManagement, shall not collect any fee for any of the following:\\n            (1) For an application for a permit to drill on Indian \\n        land.\\n            (2) To conduct any oil or gas inspection activity on Indian \\n        land.\\n            (3) On any oil or gas lease for nonproducing acreage on \\n        Indian land.\\n\\nSEC. 7. BONDING REQUIREMENTS AND NONPAYMENT OF ATTORNEYS' FEES TO \\n              PROMOTE INDIAN ENERGY PROJECTS.\\n\\n    (a) In General.--A plaintiff who obtains a preliminary injunction \\nor administrative stay in an energy related action, but does not \\nultimately prevail on the merits of the energy related action, shall be \\nliable for damages sustained by a defendant who--\\n            (1) opposed the preliminary injunction or administrative \\n        stay; and\\n            (2) was harmed by the preliminary injunction or \\n        administrative stay.\\n    (b) Bond.--Unless otherwise specifically exempted by Federal law, a \\ncourt may not issue a preliminary injunction and an agency may not \\ngrant an administrative stay in an energy related action until the \\nplaintiff posts with the court or the agency a surety bond or cash \\nequivalent--\\n            (1) in an amount the court or agency decides is 30 percent \\n        of that amount that the court or agency considers is sufficient \\n        to compensate each defendant opposing the preliminary \\n        injunction or administrative stay for damages, including but \\n        not limited to preliminary development costs, additional \\n        development costs, and reasonable attorney fees, that each \\n        defendant may sustain as a result of the preliminary injunction \\n        or administrative stay;\\n            (2) written by a surety licensed to do business in the \\n        State in which the Indian Land or other land where the \\n        activities are undertaken is situated; and\\n            (3) payable to each defendant opposing the preliminary \\n        injunction or administrative stay, in the event that the \\n        plaintiff does not prevail on the merits of the energy related \\n        action, Provided, that, if there is more than one plaintiff, \\n        the court or agency shall establish the amount of the bond \\n        required by this subsection for each plaintiff in a fair and \\n        equitable manner.\\n    (c) Limitation on Certain Payments.--Notwithstanding section 1304 \\nof title 31, United States Code, no award may be made under section 504 \\nof title 5, United States Code, or under section 2412 of title 28, \\nUnited States Code, and no amounts may be obligated or expended from \\nthe Claims and Judgment Fund of the United States Treasury to pay any \\nfees or other expenses under such sections to any plaintiff related to \\nan energy related action.\\n    (d) Definitions.--For the purposes of this section, the following \\ndefinitions apply:\\n            (1) Administrative stay.--The term ``Administrative Stay'' \\n        means a stay or other temporary remedy issued by a Federal \\n        agency, including the Department of the Interior, the \\n        Department of Agriculture, the Department of Energy, the \\n        Department of Commerce, and the Environmental Protection \\n        Agency.\\n            (2) Indian land.--The term ``Indian Land'' has the same \\n        meaning given such term in section 203(c)(3) of the Energy \\n        Policy Act of 2005 (Public Law 109-58; 25 U.S.C. 3501), \\n        including lands owned by Native Corporations under the Alaska \\n        Native Claims Settlement Act (Public Law 92-203; 43 U.S.C. \\n        1601).\\n            (3) Energy related action.--The term ``energy related \\n        action'' means a cause of action that--\\n                    (A) is filed on or after the effective date of this \\n                Act; and\\n                    (B) seeks judicial review of a final agency action \\n                (as defined in section 702 of title 5, United States \\n                Code), to issue a permit, license, or other form of \\n                agency permission allowing:\\n                            (i) any person or entity to conduct \\n                        activities on Indian Land, which activities \\n                        involve the exploration, development, \\n                        production or transportation of oil, gas, coal, \\n                        shale gas, oil shale, geothermal resources, \\n                        wind or solar resources, underground coal \\n                        gasification, biomass, or the generation of \\n                        electricity, or\\n                            (ii) any Indian Tribe, or any organization \\n                        of two or more entities, at least one of which \\n                        is an Indian tribe, to conduct activities \\n                        involving the exploration, development, \\n                        production or transportation of oil, gas, coal, \\n                        shale gas, oil shale, geothermal resources, \\n                        wind or solar resources, underground coal \\n                        gasification, biomass, or the generation of \\n                        electricity, regardless of where such \\n                        activities are undertaken.\\n            (4) Ultimately prevail on the merits.--The phrase \\n        ``Ultimately prevail on the merits'' means, in a final \\n        enforceable judgment on the merits, the court rules in the \\n        plaintiff's favor on at least one cause of action which is an \\n        underlying rationale for the preliminary injunction, and does \\n        not include circumstances where the final agency action is \\n        modified or amended by the issuing agency unless such \\n        modification or amendment is required pursuant to a final \\n        enforceable judgment of the court or a court-ordered consent \\n        decree.\\n            (5) Indian tribe.--The term ``Indian tribe'' means any \\n        Indian tribe, band, nation, or other organized group or \\n        community, including any Alaska Native village or regional or \\n        village corporation as defined in or established pursuant to \\n        the Alaska Native Claims Settlement Act (43 U.S.C. 1601 et \\n        seq.), which is recognized as eligible for the special programs \\n        and services provided by the United States to Indians because \\n        of their status as Indians.\\n\\nSEC. 8. TRIBAL BIOMASS DEMONSTRATION PROJECT.\\n\\n    The Tribal Forest Protection Act of 2004 is amended by inserting \\nafter section 2 (25 U.S.C. 3115a) the following:\\n\\n``SEC. 3. TRIBAL BIOMASS DEMONSTRATION PROJECT.\\n\\n    ``(a) In General.--For each of fiscal years 2014 through 2018, the \\nSecretary shall enter into stewardship contracts or other agreements, \\nother than agreements that are exclusively direct service contracts, \\nwith Indian tribes to carry out demonstration projects to promote \\nbiomass energy production (including biofuel, heat, and electricity \\ngeneration) on Indian forest land and in nearby communities by \\nproviding reliable supplies of woody biomass from Federal land.\\n    ``(b) Definitions.--The definitions in section 2 shall apply to \\nthis section.\\n    ``(c) Demonstration Projects.--In each fiscal year for which \\nprojects are authorized, the Secretary shall enter into contracts or \\nother agreements described in subsection (a) to carry out at least 4 \\nnew demonstration projects that meet the eligibility criteria described \\nin subsection (d).\\n    ``(d) Eligibility Criteria.--To be eligible to enter into a \\ncontract or other agreement under this subsection, an Indian tribe \\nshall submit to the Secretary an application--\\n            ``(1) containing such information as the Secretary may \\n        require; and\\n            ``(2) that includes a description of--\\n                    ``(A) the Indian forest land or rangeland under the \\n                jurisdiction of the Indian tribe; and\\n                    ``(B) the demonstration project proposed to be \\n                carried out by the Indian tribe.\\n    ``(e) Selection.--In evaluating the applications submitted under \\nsubsection (c), the Secretary--\\n            ``(1) shall take into consideration the factors set forth \\n        in paragraphs (1) and (2) of section 2(e) of Public Law 108-\\n        278; and whether a proposed demonstration project would--\\n                    ``(A) increase the availability or reliability of \\n                local or regional energy;\\n                    ``(B) enhance the economic development of the \\n                Indian tribe;\\n                    ``(C) improve the connection of electric power \\n                transmission facilities serving the Indian tribe with \\n                other electric transmission facilities;\\n                    ``(D) improve the forest health or watersheds of \\n                Federal land or Indian forest land or rangeland; or\\n                    ``(E) otherwise promote the use of woody biomass; \\n                and\\n            ``(2) shall exclude from consideration any merchantable \\n        logs that have been identified by the Secretary for commercial \\n        sale.\\n    ``(f) Implementation.--The Secretary shall--\\n            ``(1) ensure that the criteria described in subsection (c) \\n        are publicly available by not later than 120 days after the \\n        date of enactment of this section; and\\n            ``(2) to the maximum extent practicable, consult with \\n        Indian tribes and appropriate intertribal organizations likely \\n        to be affected in developing the application and otherwise \\n        carrying out this section.\\n    ``(g) Report.--Not later than September 20, 2015, the Secretary \\nshall submit to Congress a report that describes, with respect to the \\nreporting period--\\n            ``(1) each individual tribal application received under \\n        this section; and\\n            ``(2) each contract and agreement entered into pursuant to \\n        this section.\\n    ``(h) Incorporation of Management Plans.--In carrying out a \\ncontract or agreement under this section, on receipt of a request from \\nan Indian tribe, the Secretary shall incorporate into the contract or \\nagreement, to the extent practicable, management plans (including \\nforest management and integrated resource management plans) in effect \\non the Indian forest land or rangeland of the respective Indian tribe.\\n    ``(i) Term.--A stewardship contract or other agreement entered into \\nunder this section--\\n            ``(1) shall be for a term of not more than 20 years; and\\n            ``(2) may be renewed in accordance with this section for \\n        not more than an additional 10 years.''.\\n\\nSEC. 9. TRIBAL RESOURCE MANAGEMENT PLANS.\\n\\n    Unless otherwise explicitly exempted by Federal law enacted after \\nthe date of the enactment of this Act, any activity conducted or \\nresources harvested or produced pursuant to a tribal resource \\nmanagement plan or an integrated resource management plan approved by \\nthe Secretary of the Interior under the National Indian Forest \\nResources Management Act (25 U.S.C. 3101 et seq.) or the American \\nIndian Agricultural Resource Management Act (25 U.S.C. 3701 et seq.), \\nshall be considered a sustainable management practice for purposes of \\nany Federal standard, benefit, or requirement that requires a \\ndemonstration of such sustainability.\\n\\nSEC. 10. LEASES OF RESTRICTED LANDS FOR THE NAVAJO NATION.\\n\\n    Subsection (e)(1) of the first section of the Act of August 9, 1955 \\n(25 U.S.C. 415(e)(1); commonly referred to as the ``Long-Term Leasing \\nAct''), is amended--\\n            (1) by striking ``, except a lease for'' and inserting ``, \\n        including leases for'';\\n            (2) in subparagraph (A), by striking ``25'' the first place \\n        it appears and all that follows and inserting ``99 years;'';\\n            (3) in subparagraph (B), by striking the period and \\n        inserting ``; and''; and\\n            (4) by adding at the end the following:\\n            ``(C) in the case of a lease for the exploration, \\n        development, or extraction of mineral resources, including \\n        geothermal resources, 25 years, except that any such lease may \\n        include an option to renew for one additional term not to \\n        exceed 25 years.''.\\n\\nSEC. 11. NONAPPLICABILITY OF CERTAIN RULES.\\n\\n    No rule promulgated by the Department of the Interior regarding \\nhydraulic fracturing used in the development or production of oil or \\ngas resources shall have any effect on any land held in trust or \\nrestricted status for the benefit of Indians except with the express \\nconsent of the beneficiary on whose behalf such land is held in trust \\nor restricted status.\"}\n",
            "Error Type: AttributeError, Message: 'InferenceClient' object has no attribute 'post'\n"
          ]
        },
        {
          "output_type": "stream",
          "name": "stdout",
          "text": [
            "\r[---->                                             ] 1/10\r[--------->                                        ] 2/10\r[-------------->                                   ] 3/10"
          ]
        },
        {
          "output_type": "stream",
          "name": "stderr",
          "text": [
            "WARNING:langchain.smith.evaluation.runner_utils:LLM failed for example 345d2178-d835-46e1-b51a-8f9a056032cb with inputs {'text': \"Summarize this news:\\nSECTION 1. SHORT TITLE.\\n\\n    This Act may be cited as the ``Holocaust Victims Insurance Relief \\nAct of 2001''.\\n\\nSEC. 2. FINDINGS AND PURPOSE.\\n\\n    (a) Findings.--The Congress finds the following:\\n            (1) The Holocaust, including the murder of 6,000,000 \\n        European Jews, the systematic destruction of families and \\n        communities, and the wholesale theft of their assets, was one \\n        of the most tragic crimes in modern history.\\n            (2) When Holocaust survivors or heirs of Holocaust victims \\n        presented claims to insurance companies after World War II, \\n        many were rejected because the claimants did not have death \\n        certificates or physical possession of policy documents that \\n        had been confiscated by the Nazis.\\n            (3) In many instances, insurance company records are the \\n        only proof of the existence of insurance policies belonging to \\n        Holocaust victims.\\n            (4) Holocaust survivors and their descendants have been \\n        fighting for decades to persuade insurance companies to settle \\n        unpaid insurance claims.\\n            (5) In 1998, the International Commission on Holocaust Era \\n        Insurance Claims (in this section referred to as the \\n        ``ICHEIC'') was established by the National Association of \\n        Insurance Commissioners in cooperation with several European \\n        insurance companies, European regulators, representatives of \\n        international Jewish organizations, and the State of Israel, to \\n        expeditiously address the issue of unpaid insurance policies \\n        issued to Holocaust victims.\\n            (6) On July 17, 2000, the United States and Germany signed \\n        an Executive Agreement in support of the German Foundation \\n        ``Remembrance, Responsibility, and the Future'', which \\n        designated the ICHEIC to resolve all insurance claims that were \\n        not paid or were nationalized during the Nazi era.\\n            (7) The ICHEIC's deadline for receiving claims applications \\n        is January 31, 2002.\\n            (8) Three years into the process of addressing the issue of \\n        unpaid insurance policies, companies continue to withhold \\n        thousands of names on dormant accounts.\\n            (9) As of June 15, 2001, more than 84 percent of the 72,675 \\n        claims applications filed with the ICHEIC remained idle because \\n        the claimants could not identify the company holding the \\n        policy.\\n            (10) Insurance companies doing business in the United \\n        States have a responsibility to ensure the disclosure of \\n        insurance policies of Holocaust victims that they or their \\n        related companies may have issued, to facilitate the rapid \\n        resolution of questions concerning these policies, and to \\n        eliminate the further victimization of policyholders and their \\n        families.\\n            (11) State legislatures in California, Florida, New York, \\n        Minnesota, Washington, and elsewhere have been challenged in \\n        efforts to implement laws that restrict the ability of insurers \\n        to engage in business transactions in those States until the \\n        insurers publish the names of Holocaust-era policyholders.\\n    (b) Purpose.--The purpose of this Act is to provide information \\nabout Holocaust-era insurance policies to Holocaust victims and their \\nheirs and beneficiaries to enable them to expeditiously file their \\nrightful claims under the policies.\\n\\nSEC. 3. HOLOCAUST INSURANCE REGISTRY.\\n\\n    (a) Establishment and Maintenance.--Chapter 21 of title 44, United \\nStates Code, is amended by adding at the end the following:\\n``Sec. 2119. Holocaust Insurance Registry\\n    ``(a) Establishment.--The Archivist shall establish and maintain a \\ncollection of records that shall--\\n            ``(1) be known as the Holocaust Insurance Registry; and\\n            ``(2) consist of the information provided to the Archivist \\n        under section 5 of the Holocaust Victims Insurance Relief Act \\n        of 2001.\\n    ``(b) Public Accessibility.--The Archivist shall make all such \\ninformation publicly accessible and searchable by means of the Internet \\nand by any other means the Archivist deems appropriate.''.\\n    (b) Clerical Amendment.--The table of sections at the beginning of \\nchapter 21 of title 44, United States Code, is amended by adding at the \\nend the following:\\n\\n``2119. Holocaust Insurance Registry.''.\\n\\nSEC. 4. FULL DISCLOSURE OF HOLOCAUST-ERA POLICIES BY INSURERS.\\n\\n    (a) Requirement.--An insurer shall cause to be filed with the \\nSecretary of Commerce in accordance with subsection (b) the following \\ninformation:\\n            (1) The first name, last name, date of birth, and domicile \\n        of the policyholder of each covered policy issued by the \\n        insurer or a related company of the insurer.\\n            (2) The name of the entity that issued the covered policy.\\n            (3) The name of the entity that is responsible for the \\n        liabilities of the entity that issued the covered policy.\\n    (b) Proper Filing.--A filing under subsection (a) shall be made not \\nlater than the earlier of 90 days after the date of the enactment of \\nthis Act or January 31, 2002, in an electronic format approved jointly \\nby the Archivist of the United States and the Secretary of Commerce.\\n\\nSEC. 5. PROVISION OF INFORMATION TO ARCHIVIST.\\n\\n    The Secretary of Commerce shall provide to the Archivist of the \\nUnited States any information filed with the Secretary under section \\n4(a) promptly after the filing of such information.\\n\\nSEC. 6. PENALTY.\\n\\n    The Secretary of Commerce shall assess a civil penalty of not less \\nthan $5,000 for each day that an insurer fails to comply with the \\nrequirements of section 4, as determined by the Secretary.\\n\\nSEC. 7. USE OF AMOUNTS RECEIVED AS CIVIL PENALTIES.\\n\\n    To the extent or in the amounts provided in advance in \\nappropriation Acts, the Archivist of the United States may use amounts \\nreceived by the Government as civil penalties under section 6 to \\nmaintain the Holocaust Insurance Registry.\\n\\nSEC. 8. NOTIFICATION.\\n\\n    (a) Initial Notification.--Not later than 180 days after the date \\nof the enactment of this Act and periodically afterward, the Secretary \\nof Commerce shall notify each State's commissioner of insurance of the \\nidentity of each insurer that has failed to comply with the \\nrequirements of section 4 or has not satisfied any civil penalty for \\nwhich the insurer is liable under section 6.\\n    (b) Requests by States.--On request by the commissioner of \\ninsurance of a State concerning an insurer operating in that State, the \\nSecretary of Commerce shall inform the commissioner of insurance \\nwhether the insurer has failed to comply with the requirements of \\nsection 4 or has not satisfied any civil penalty for which the insurer \\nis liable under section 6.\\n\\nSEC. 9. STATE HOLOCAUST CLAIMS REPORTING STATUTES.\\n\\n    (a) Preemption.--Nothing in this Act preempts the right of any \\nState to adopt or enforce any State law requiring an insurer to \\ndisclose information regarding insurance policies that may have been \\nconfiscated or stolen from victims of Nazi persecution.\\n    (b) Sense of Congress.--It is the sense of the Congress that if any \\nlitigation challenging any State law described in subsection (a) is \\ndismissed because the State's commissioner of insurance chooses to rely \\non this Act and therefore no longer seeks to enforce the State law, \\neach party should bear its own legal fees and costs.\\n\\nSEC. 10. DEFINITIONS.\\n\\n    In this Act:\\n            (1) Commissioner of insurance.--The term ``commissioner of \\n        insurance'' means the highest ranking officer of a State \\n        responsible for regulating insurance.\\n            (2) Covered policy.--The term ``covered policy'' means any \\n        life, dowry, education, or property insurance policy that was--\\n                    (A) in effect at any time after January 30, 1933, \\n                and before December 31, 1945; and\\n                    (B) issued to a policyholder domiciled in any area \\n                of the European Continent that was occupied or \\n                controlled by Nazi Germany or by any ally or \\n                sympathizer of Nazi Germany at any time during the \\n                period described in subparagraph (A).\\n            (3) Insurer.--The term ``insurer'' means any person engaged \\n        in the business of insurance in United States interstate or \\n        foreign commerce, if the person or a related company of the \\n        person issued a covered policy, regardless of when the related \\n        company became a related company of the insurer.\\n            (4) Related company.--The term ``related company'' means an \\n        affiliate, as that term is defined in section 104(g) of the \\n        Gramm-Leach-Bliley Act.\"}\n",
            "Error Type: AttributeError, Message: 'InferenceClient' object has no attribute 'post'\n"
          ]
        },
        {
          "output_type": "stream",
          "name": "stdout",
          "text": [
            "\r[------------------->                              ] 4/10"
          ]
        },
        {
          "output_type": "stream",
          "name": "stderr",
          "text": [
            "WARNING:langchain.smith.evaluation.runner_utils:LLM failed for example a35a8766-d29e-437a-8b9b-6d1d92666996 with inputs {'text': \"Summarize this news:\\nSECTION 1. LIABILITY OF BUSINESS ENTITIES PROVIDING USE OF FACILITIES \\n              TO NONPROFIT ORGANIZATIONS.\\n\\n    (a) Definitions.--In this section:\\n            (1) Business entity.--The term ``business entity'' means a \\n        firm, corporation, association, partnership, consortium, joint \\n        venture, or other form of enterprise.\\n            (2) Facility.--The term ``facility'' means any real \\n        property, including any building, improvement, or appurtenance.\\n            (3) Gross negligence.--The term ``gross negligence'' means \\n        voluntary and conscious conduct by a person with knowledge (at \\n        the time of the conduct) that the conduct is likely to be \\n        harmful to the health or well-being of another person.\\n            (4) Intentional misconduct.--The term ``intentional \\n        misconduct'' means conduct by a person with knowledge (at the \\n        time of the conduct) that the conduct is harmful to the health \\n        or well-being of another person.\\n            (5) Nonprofit organization.--The term ``nonprofit \\n        organization'' means--\\n                    (A) any organization described in section 501(c)(3) \\n                of the Internal Revenue Code of 1986 and exempt from \\n                tax under section 501(a) of such Code; or\\n                    (B) any not-for-profit organization organized and \\n                conducted for public benefit and operated primarily for \\n                charitable, civic, educational, religious, welfare, or \\n                health purposes.\\n            (6) State.--The term ``State'' means each of the several \\n        States, the District of Columbia, the Commonwealth of Puerto \\n        Rico, the Virgin Islands, Guam, American Samoa, the Northern \\n        Mariana Islands, any other territory or possession of the \\n        United States, or any political subdivision of any such State, \\n        territory, or possession.\\n    (b) Limitation on Liability.--\\n            (1) In general.--Subject to subsection (c), a business \\n        entity shall not be subject to civil liability relating to any \\n        injury or death occurring at a facility of the business entity \\n        in connection with a use of such facility by a nonprofit \\n        organization if--\\n                    (A) the use occurs outside of the scope of business \\n                of the business entity;\\n                    (B) such injury or death occurs during a period \\n                that such facility is used by the nonprofit \\n                organization; and\\n                    (C) the business entity authorized the use of such \\n                facility by the nonprofit organization.\\n            (2) Application.--This subsection shall apply--\\n                    (A) with respect to civil liability under Federal \\n                and State law; and\\n                    (B) regardless of whether a nonprofit organization \\n                pays for the use of a facility.\\n    (c) Exception for Liability.--Subsection (b) shall not apply to an \\ninjury or death that results from an act or omission of a business \\nentity that constitutes gross negligence or intentional misconduct, \\nincluding any misconduct that--\\n            (1) constitutes a crime of violence (as that term is \\n        defined in section 16 of title 18, United States Code) or act \\n        of international terrorism (as that term is defined in section \\n        2331 of title 18) for which the defendant has been convicted in \\n        any court;\\n            (2) constitutes a hate crime (as that term is used in the \\n        Hate Crime Statistics Act (28 U.S.C. 534 note));\\n            (3) involves a sexual offense, as defined by applicable \\n        State law, for which the defendant has been convicted in any \\n        court; or\\n            (4) involves misconduct for which the defendant has been \\n        found to have violated a Federal or State civil rights law.\\n    (d) Superseding Provision.--\\n            (1) In general.--Subject to paragraph (2) and subsection \\n        (e), this Act preempts the laws of any State to the extent that \\n        such laws are inconsistent with this Act, except that this Act \\n        shall not preempt any State law that provides additional \\n        protection from liability for a business entity for an injury \\n        or death with respect to which conditions under subparagraphs \\n        (A) through (C) of subsection (b)(1) apply.\\n            (2) Limitation.--Nothing in this Act shall be construed to \\n        supersede any Federal or State health or safety law.\\n    (e) Election of State Regarding Nonapplicability.--This Act shall \\nnot apply to any civil action in a State court against a business \\nentity in which all parties are citizens of the State if such State \\nenacts a statute--\\n            (1) citing the authority of this subsection;\\n            (2) declaring the election of such State that this Act \\n        shall not apply to such civil action in the State; and\\n            (3) containing no other provision.\"}\n",
            "Error Type: AttributeError, Message: 'InferenceClient' object has no attribute 'post'\n"
          ]
        },
        {
          "output_type": "stream",
          "name": "stdout",
          "text": [
            "\r[------------------------>                         ] 5/10"
          ]
        },
        {
          "output_type": "stream",
          "name": "stderr",
          "text": [
            "WARNING:langchain.smith.evaluation.runner_utils:LLM failed for example dc76bf64-ead3-4ca9-ad86-280042fa72ee with inputs {'text': \"Summarize this news:\\nSECTION 1. SHORT TITLE.\\n\\n    This Act may be cited as the ``Marine Debris Act Amendments of \\n2012''.\\n\\nSEC. 2. REFERENCES.\\n\\n    Except as otherwise expressly provided, whenever in this Act an \\namendment is expressed as an amendment to a section or other provision, \\nthe reference shall be considered to be made to a section or other \\nprovision of the Marine Debris Research, Prevention, and Reduction Act \\n(33 U.S.C. 1951 et seq.), as in effect immediately before the enactment \\nof this Act.\\n\\nSEC. 3. SHORT TITLE AMENDMENT.\\n\\n    Section 1 (33 U.S.C. 1951 note) is amended by striking ``Research, \\nPrevention, and Reduction''.\\n\\nSEC. 4. PURPOSE.\\n\\n    Section 2 (33 U.S.C. 1951) is amended to read as follows:\\n\\n``SEC. 2. PURPOSE.\\n\\n    ``The purpose of this Act is to address the adverse impacts of \\nmarine debris on the United States economy, the marine environment, and \\nnavigation safety through identification, determination of sources, \\nassessment, prevention, reduction, and removal of marine debris.''.\\n\\nSEC. 5. NOAA MARINE DEBRIS PROGRAM.\\n\\n    (a) Name of Program.--\\n            (1) In general.--Section 3 (33 U.S.C. 1952) is amended--\\n                    (A) in the section heading by striking ``prevention \\n                and removal''; and\\n                    (B) in subsection (a)--\\n                            (i) by striking ``Prevention and Removal \\n                        Program to reduce and prevent'' and inserting \\n                        ``Program to identify, determine sources of, \\n                        assess, prevent, reduce, and remove'';\\n                            (ii) by inserting ``the economy of the \\n                        United States,'' after ``marine debris on''; \\n                        and\\n                            (iii) by inserting a comma after \\n                        ``environment''.\\n            (2) Conforming amendment.--Paragraph (7) of section 7 (33 \\n        U.S.C. 1956) is amended by striking ``Prevention and Removal''.\\n    (b) Program Components.--Section 3(b) (33 U.S.C. 1952(b)) is \\namended to read as follows:\\n    ``(b) Program Components.--The Administrator, acting through the \\nProgram and subject to the availability of appropriations, shall--\\n            ``(1) identify, determine sources of, assess, prevent, \\n        reduce, and remove marine debris, with a focus on marine debris \\n        posing a threat to living marine resources and navigation \\n        safety;\\n            ``(2) provide national and regional coordination to assist \\n        States, Indian tribes, and regional organizations in \\n        identification, determination of sources, assessment, \\n        prevention, reduction, and removal of marine debris;\\n            ``(3) undertake efforts to reduce adverse impacts of lost \\n        and discarded fishing gear on living marine resources and \\n        navigation safety, including--\\n                    ``(A) research and development of alternatives to \\n                gear posing threats to the marine environment, and \\n                methods for marking gear used in specific fisheries to \\n                enhance the tracking, recovery, and identification of \\n                lost and discarded gear; and\\n                    ``(B) development of effective nonregulatory \\n                measures and incentives to cooperatively reduce the \\n                volume of lost and discarded fishing gear and to aid in \\n                its recovery; and\\n            ``(4) undertake outreach and education of the public and \\n        other stakeholders on sources of marine debris, threats \\n        associated with marine debris, and approaches to identify, \\n        determine sources of, assess, prevent, reduce, and remove \\n        marine debris and its adverse impacts on the United States \\n        economy, the marine environment, and navigational safety, \\n        including outreach and education activities through public-\\n        private initiatives.''.\\n    (c) Repeal.--Section 2204 of the Marine Plastic Pollution Research \\nand Control Act of 1987 and the item relating to that section in the \\ntable of contents contained in section 2 of the United States-Japan \\nFishery Agreement Approval Act of 1987 (33 U.S.C. 1915) are repealed.\\n    (d) Grant Criteria and Guidelines.--Section 3(c) (33 U.S.C. \\n1952(c)) is amended--\\n            (1) in paragraph (1), by striking ``section 2(1)'' and \\n        inserting ``section 2'';\\n            (2) by repealing paragraph (5); and\\n            (3) by redesignating paragraphs (6) and (7) as paragraphs \\n        (5) and (6).\\n\\nSEC. 6. REPEAL OF OBSOLETE PROVISIONS.\\n\\n    Section 4 (33 U.S.C. 1953) is amended--\\n            (1) by striking ``(a) Strategy.--''; and\\n            (2) by repealing subsections (b) and (c).\\n\\nSEC. 7. AMENDMENTS TO DEFINITIONS.\\n\\n    (a) Interagency Marine Debris Coordinating Committee.--\\n            (1) In general.--Except as provided in subsection (b), \\n        section 2203 of the Marine Plastic Pollution Research and \\n        Control Act of 1987 (33 U.S.C. 1914) is redesignated and moved \\n        to replace and appear as section 5 of the Marine Debris \\n        Research, Prevention, and Reduction Act (33 U.S.C. 1954).\\n            (2) Clerical amendment.--The item relating to section 2203 \\n        in the table of contents contained in section 2 of the United \\n        States-Japan Fishery Agreement Approval Act of 1987 is \\n        repealed.\\n    (b) Biennial Progress Reports.--Section 5(c)(2) (33 U.S.C. \\n1954(c)(2)), as in effect immediately before the enactment of this \\nAct--\\n            (1) is redesignated as subsection (e) of section 5, as \\n        redesignated and moved by the amendment made by subsection (a) \\n        of this section; and\\n            (2) is amended--\\n                    (A) by striking ``Annual progress reports.--'' and \\n                all that follows through ``thereafter'' and inserting \\n                ``Biennial Progress Reports.--Bienially'';\\n                    (B) by inserting ``Natural'' before ``Resources'';\\n                    (C) by redesignating subparagraphs (A) through (E) \\n                as paragraphs (1) through (5) of such subsection; and\\n                    (D) by moving such subsection 2 ems to the left.\\n\\nSEC. 8. CONFIDENTIALITY OF SUBMITTED INFORMATION.\\n\\n    Section 6(2) (33 U.S.C. 1955(2)) is amended by striking ``by the \\nfishing industry''.\\n\\nSEC. 9. MARINE DEBRIS DEFINITION.\\n\\n    Section 7 (33 U.S.C. 1956) is amended--\\n            (1) by redesignating paragraph (3) as paragraph (9), and \\n        moving such paragraph to appear after paragraph (8); and\\n            (2) by inserting after paragraph (2) the following:\\n            ``(3) Marine debris.--The term `marine debris' means any \\n        persistent solid material that is manufactured or processed and \\n        directly or indirectly, and intentionally or unintentionally, \\n        disposed of or abandoned into the marine environment or the \\n        Great Lakes.''.\\n\\nSEC. 10. AUTHORIZATION OF APPROPRIATIONS.\\n\\n    Section 9 (33 U.S.C. 1958) is amended--\\n            (1) by striking ``are'' and inserting ``is'';\\n            (2) by striking ``2006 through 2010'' and all that follows \\n        through ``(1)'' and inserting ``through fiscal year 2015'';\\n            (3) in paragraph (1), by striking ``$10,000,000'' and \\n        inserting ``$4,900,000''; and\\n            (4) by striking ``; and'' and all that follows through the \\n        end of paragraph (2) and inserting a period.\\n\\n            Passed the House of Representatives August 1, 2012.\\n\\n            Attest:\\n\\n                                                 KAREN L. HAAS,\\n\\n                                                                 Clerk.\"}\n",
            "Error Type: AttributeError, Message: 'InferenceClient' object has no attribute 'post'\n",
            "WARNING:langchain.smith.evaluation.runner_utils:LLM failed for example 74969f08-c023-4929-b55a-6fee13447397 with inputs {'text': \"Summarize this news:\\nSECTION 1. SHORT TITLE.\\n\\n    This Act may be cited as the ``Human Rights Information Act''.\\n\\nSEC. 2. FINDINGS.\\n\\n    Congress finds the following:\\n            (1) The people of the United States consider the national \\n        and international protection and promotion of human rights and \\n        the rule of law the most important values of any democracy. The \\n        founding fathers defined human rights prominently in the Bill \\n        of Rights, giving those rights a special priority and \\n        protection in the Constitution.\\n            (2) Federal agencies are in possession of documents \\n        pertaining to gross human rights violations abroad which are \\n        needed by foreign authorities to document, investigate, and \\n        subsequently prosecute instances of continued and systematic \\n        gross human rights violations, including those directed against \\n        citizens of the United States.\\n            (3) The United States will continue to receive requests \\n        from foreign authorities for legal assistance regarding human \\n        rights violations, including the declassification of documents. \\n        In addition to requests by Guatemala and Honduras, a Spanish \\n        court magistrate, Baltasar Garzon, recently requested from the \\n        United States information on General Augusto Pinochet. \\n        Currently, the United States responds to declassification \\n        requests by following procedures outlined in Presidential \\n        directives and executive orders. The overwhelming interest of \\n        the United States in the protection and promotion of human \\n        rights nationally and internationally requires a significant \\n        strengthening of existing declassification procedures, \\n        including section 552 of title 5, United States Code (commonly \\n        known as the ``Freedom of Information Act'').\\n            (4) The expedient declassification of human rights \\n        documents in full compliance with United States security \\n        interests according to the procedures outlined in this Act will \\n        protect global human rights by strengthening the rule of law \\n        internationally, creating a crucial level of accountability of \\n        Federal agencies, and will result in significant saving of \\n        Government resources.\\n            (5) The commitment to the promotion and protection of human \\n        rights and democracy around the world has led the United States \\n        to undertake tremendous diplomatic, economic, and military \\n        efforts to end systematic gross human rights violations abroad, \\n        consistent with the national interests and international \\n        leadership role of the United States. In addition, countless \\n        humanitarian United States nongovernmental organizations and \\n        citizens of the United States promote human rights and \\n        democracy in foreign countries. These efforts are thwarted if \\n        the cycle of impunity for human rights violations is not broken \\n        in those countries, and the likelihood of the need for renewed \\n        United States engagements in those areas remains.\\n            (6) The United States therefore has a significant interest \\n        that newly established or reestablished democratic societies \\n        take credible steps to fully investigate and prosecute human \\n        rights violations. These steps can include the creation of a \\n        national or international truth commission or tribunal, the \\n        appointment of a human rights officer, or official national \\n        investigations led by credible sections of the civil society, \\n        including churches and nongovernmental organizations.\\n            (7) The United States has long provided international \\n        leadership to end impunity for gross human rights violations \\n        and to promote the rule of law around the world by establishing \\n        and supporting the Nuremberg and Tokyo War Crimes Tribunal; in \\n        addition, the United States has actively participated in, among \\n        others, the International War Crimes Tribunals on the former \\n        Yugoslavia and Rwanda.\\n            (8) The United States has ratified the Convention against \\n        Torture and Other Cruel, Inhuman or Degrading Treatment or \\nPunishment, which in article 9 obligates parties to ``afford one \\nanother the greatest measure of assistance in connection with criminal \\nproceedings brought in respect of any [acts of, attempts of, or \\ncomplicity in acts of torture], including the supply of all evidence at \\ntheir disposal necessary for the proceedings.'' In addition, as a \\nmember State of the Organization of American States, the United States \\nshould seek to follow the December 8, 1998, recommendation of the \\nInter-American Commission on Human Rights ``that member States of the \\nOrganization of American States adopt legislative and such other \\nmeasures as may be necessary to effectuate the right of free access to \\ninformation in files and documents in the power of the State, \\nparticularly in cases of investigations to establish criminal \\nresponsibility for international crimes and serious violations of human \\nrights.''\\n            (9) The Guatemalan peace accords, which the Government of \\n        the United States firmly supports, included as an important and \\n        vital component an investigation and a report by the Commission \\n        for the Historical Clarification of Human Rights Violations and \\n        Acts of Violence which have Caused Suffering to the Guatemalan \\n        People (referred to in this Act as the ``Clarification \\n        Commission''). Despite the conclusion of this investigation, \\n        many questions, including the identity of perpetrators of human \\n        rights violations as well as the location of bodies of the \\n        ``disappeared'', remain unanswered. The Clarification \\n        Commission explicitly recommended that ``all available legal \\n        and material resources should be utilized [by the Guatemalan \\n        Government] to clarify the whereabouts of the disappeared and, \\n        in the case of death, to deliver the remains to the \\n        relatives.''\\n            (10) Two days after presenting a parallel investigation, \\n        ``Guatemala: Never Again'', by the Historical Memory Recovery \\n        Project by the Archbishop of Guatemala, the director of the \\n        project, Bishop Juan Jose Gerardi, was assassinated.\\n            (11) President Clinton stated in Guatemala on March 10, \\n        1999, that ``[f]or the United States, it is important that I \\n        state clearly that support for military forces or intelligence \\n        units which engaged in violent and widespread repression of the \\n        kind described in the report [by the Clarification Commission] \\n        was wrong, and the United States must not repeat that mistake. \\n        We must, and we will, instead, continue to support the peace \\n        and reconciliation process in Guatemala.''\\n            (12) The National Commissioner for the Protection of Human \\n        Rights in the Republic of Honduras has been requesting \\n        documentation of the United States on human rights violations \\n        in Honduras since November 15, 1993. The Commissioner's request \\n        has been partly fulfilled, but aspects of it are still pending.\\n\\nSEC. 3. DEFINITIONS.\\n\\n    In this Act:\\n            (1) Human rights record.--The term ``human rights record'' \\n        means a record in the possession, custody, or control of the \\n        United States Government containing information about gross \\n        violations of internationally recognized human rights committed \\n        after 1944.\\n            (2) Agency.--The term ``agency'' means any agency of the \\n        United States Government charged with the conduct of foreign \\n        policy or foreign intelligence, including, but not limited to, \\n        the Department of State, the Agency for International \\n        Development, the Department of Defense (and all of its \\n        components), the Central Intelligence Agency, the National \\n        Reconnaissance Office, the Department of Justice (and all of \\n        its components), the National Security Council, and the \\n        Executive Office of the President.\\n            (3) Gross violations of internationally recognized human \\n        rights.--The term ``gross violations of internationally \\n        recognized human rights'' has the meaning given that term in \\n        section 502B(d)(1) of the Foreign Assistance Act of 1961 (22 \\n        U.S.C. 2304(d)(1)).\\n\\nSEC. 4. IDENTIFICATION, REVIEW, AND PUBLIC DISCLOSURE OF HUMAN RIGHTS \\n              RECORDS REGARDING GUATEMALA AND HONDURAS.\\n\\n    (a) In General.--Notwithstanding any other provision of law, the \\nprovisions of this Act shall govern the declassification and public \\ndisclosure of human rights records by agencies.\\n    (b) Identification of Records.--Not later than 120 days after the \\ndate of enactment of this Act, each agency shall identify, review, and \\norganize all human rights records regarding activities occurring in \\nGuatemala and Honduras after 1944 for the purpose of declassifying and \\ndisclosing the records to the public. Except as provided in section 5, \\nall records described in the preceding sentence shall be made available \\nto the public not later than 30 days after a review under this section \\nis completed.\\n    (c) Report to Congress.--Not later than 150 days after the date of \\nenactment of this Act, the President shall report to Congress regarding \\neach agency's compliance with the provisions of this Act.\\n\\nSEC. 5. GROUNDS FOR POSTPONEMENT OF PUBLIC DISCLOSURE OF RECORDS.\\n\\n    (a) In General.--An agency may postpone public disclosure of a \\nhuman rights record or particular information in a human rights record \\nonly if the agency determines that there is clear and convincing \\nevidence that--\\n            (1) the threat to the military defense, intelligence \\n        operations, or conduct of foreign relations of the United \\n        States raised by public disclosure of the human rights record \\n        is of such gravity that it outweighs the public interest, and \\n        such public disclosure would reveal--\\n                    (A) an intelligence agent whose identity currently \\n                requires protection;\\n                    (B) an intelligence source or method--\\n                            (i) which is being utilized, or reasonably \\n                        expected to be utilized, by the United States \\n                        Government;\\n                            (ii) which has not been officially \\n                        disclosed; and\\n                            (iii) the disclosure of which would \\n                        interfere with the conduct of intelligence \\n                        activities; or\\n                    (C) any other matter currently relating to the \\n                military defense, intelligence operations, or conduct \\n                of foreign relations of the United States, the \\n                disclosure of which would demonstrably impair the \\n                national security of the \\n                United States;\\n            (2) the public disclosure of the human rights record would \\n        reveal the name or identity of a living individual who provided \\n        confidential information to the United States and would pose a \\n        substantial risk of harm to that individual;\\n            (3) the public disclosure of the human rights record could \\n        reasonably be expected to constitute an unwarranted invasion of \\n        personal privacy, and that invasion of privacy is so \\n        substantial that it outweighs the public interest; or\\n            (4) the public disclosure of the human rights record would \\n        compromise the existence of an understanding of confidentiality \\n        currently requiring protection between a Government agent and a \\n        cooperating individual or a foreign government, and public \\n        disclosure would be so harmful that it outweighs the public \\n        interest.\\n    (b) Special Treatment of Certain Information.--It shall not be \\ngrounds for postponement of disclosure of a human rights record that an \\nindividual named in the human rights record was an intelligence asset \\nof the United States Government, although the existence of such \\nrelationship may be withheld if the criteria set forth in subsection \\n(a) are met. For purposes of the preceding sentence, the term an \\n``intelligence asset'' means a covert agent as defined in section \\n606(4) of the National Security Act of 1947 (50 U.S.C. 426(4)).\\n\\nSEC. 6. REQUEST FOR HUMAN RIGHTS RECORDS FROM OFFICIAL ENTITIES IN \\n              OTHER COUNTRIES.\\n\\n    In the event that an agency of the United States receives a request \\nfor human rights records from an entity created by the United Nations, \\nthe Organization of American States or a similar entity, a national \\ntruth commission or entity of similar nature, or from the principal \\njustice or human rights official of a country that is investigating a \\npattern of gross violations of internationally recognized human rights, \\nthe agency shall conduct a review of records as described in section 4 \\nand shall declassify and publicly disclose such records in accordance \\nwith the standards and procedures set forth in this Act.\\n\\nSEC. 7. REVIEW OF DECISIONS TO WITHHOLD RECORDS.\\n\\n    (a) Duties of the Appeals Panel.--The Interagency Security \\nClassification Appeals Panel or any other entity subsequently \\nestablished by law or Executive order and charged with carrying out the \\nfunctions currently carried out by such Panel (referred to in this Act \\nas the ``Appeals Panel'') shall review all determinations by an agency \\nto postpone public disclosure of any human rights record.\\n    (b) Determinations of the Appeals Panel.--\\n            (1) In general.--The Appeals Panel shall direct that all \\n        human rights records be disclosed to the public, unless the \\n        Appeals Panel determines that there is clear and convincing \\n        evidence that--\\n                    (A) the record is not a human rights record; or\\n                    (B) the human rights record or particular \\n                information in the human rights record qualifies for \\n                postponement of disclosure pursuant to section 5.\\n            (2) Treatment in cases of nondisclosure.--If the Appeals \\n        Panel concurs with an agency decision to postpone disclosure of \\n        a human rights record, the Appeals Panel shall determine, in \\n        consultation with the originating agency and consistent with \\nthe standards set forth in this Act, which, if any, of the alternative \\nforms of disclosure described in paragraph (3) shall be made by the \\nagency.\\n            (3) Alternative forms of disclosure.--The forms of \\n        disclosure described in this paragraph are as follows:\\n                    (A) Disclosure of any reasonably segregable portion \\n                of the human rights record after deletion of the \\n                portions described in paragraph (1).\\n                    (B) Disclosure of a record that is a substitute for \\n                information which is not disclosed.\\n                    (C) Disclosure of a summary of the information \\n                contained in the human rights record.\\n            (4) Notification of determination.--\\n                    (A) In general.--Upon completion of its review, the \\n                Appeals Panel shall notify the head of the agency in \\n                control or possession of the human rights record that \\n                was the subject of the review of its determination and \\n                shall, not later than 14 days after the determination, \\n                publish the determination in the Federal Register.\\n                    (B) Notice to president.--The Appeals Panel shall \\n                notify the President of its determination. The notice \\n                shall contain a written unclassified justification for \\n                its determination, including an explanation of the \\n                application of the standards contained in section 5.\\n            (5) General procedures.--The Appeals Panel shall publish in \\n        the Federal Register guidelines regarding its policy and \\n        procedures for adjudicating appeals.\\n    (c) Presidential Authority Over Appeals Panel Determination.--\\n            (1) Public disclosure or postponement of disclosure.--The \\n        President shall have the sole and nondelegable authority to \\n        review any determination of the Appeals Panel under this Act, \\n        and such review shall be based on the standards set forth in \\n        section 5. Not later than 30 days after the Appeals Panel's \\n        determination and notification to the agency pursuant to \\n        subsection (b)(4), the President shall provide the Appeals \\n        Panel with an unclassified written certification specifying the \\n        President's decision and stating the reasons for the decision, \\n        including in the case of a determination to postpone \\n        disclosure, the standards set forth in section 5 which are the \\n        basis for the President's determination.\\n            (2) Record of presidential postponement.--The Appeals Panel \\n        shall, upon receipt of the President's determination, publish \\n        in the Federal Register a copy of any unclassified written \\n        certification, statement, and other materials transmitted by or \\n        on behalf of the President with regard to the postponement of \\n        disclosure of a human rights record.\\n\\nSEC. 8. REPORT REGARDING OTHER HUMAN RIGHTS RECORDS.\\n\\n    Upon completion of the review and disclosure of the human rights \\nrecords relating to Guatemala and Honduras, the Information Security \\nPolicy Advisory Council, established pursuant to Executive Order No. \\n12958, shall report to Congress on the desirability and feasibility of \\ndeclassification of human rights records relating to other countries. \\nThe report shall be available to the public.\\n\\nSEC. 9. RULES OF CONSTRUCTION.\\n\\n    (a) Freedom of Information Act.--Nothing in this Act shall be \\nconstrued to limit any right to file a request with any executive \\nagency or seek judicial review of a decision pursuant to section 552 of \\ntitle 5, United States Code.\\n    (b) Judicial Review.--Nothing in this Act shall be construed to \\npreclude judicial review, under chapter 7 of title 5, United States \\nCode, of final actions taken or required to be taken under this Act.\\n\\nSEC. 10. CREATION OF POSITIONS.\\n\\n    For purposes of carrying out the provisions of this Act, there \\nshall be 2 additional positions in the Appeals Panel. The President \\nshall appoint individuals who are not employees of the United States \\nwho have demonstrated substantial human rights expertise and who are \\nable to meet the security requirements for the positions. The President \\nshall seek recommendations with respect to such positions from \\nnongovernmental human rights organizations.\"}\n",
            "Error Type: AttributeError, Message: 'InferenceClient' object has no attribute 'post'\n"
          ]
        },
        {
          "output_type": "stream",
          "name": "stdout",
          "text": [
            "\r[----------------------------->                    ] 6/10\r[---------------------------------->               ] 7/10"
          ]
        },
        {
          "output_type": "stream",
          "name": "stderr",
          "text": [
            "WARNING:langchain.smith.evaluation.runner_utils:LLM failed for example e36710d7-0519-4d0f-83a0-9302ad535ed1 with inputs {'text': \"Summarize this news:\\nSECTION 1. SCHOOL-BASED MENTAL HEALTH AND STUDENT SERVICE PROVIDERS.\\n\\n    (a) In General.--Subpart 14 of title V of the Elementary and \\nSecondary Education Act of 1965 (20 U.S.C. 7269 et seq.) is amended--\\n            (1) by inserting after the subpart heading the following:\\n\\n   ``CHAPTER A--SYSTEMS INTEGRATION; PROMOTION OF SCHOOL READINESS'';\\n\\n        and\\n            (2) by adding at the end the following:\\n\\n ``CHAPTER B--SCHOOL-BASED MENTAL HEALTH AND STUDENT SERVICE PROVIDERS\\n\\n``SEC. 5545. FINDINGS.\\n\\n    ``Congress finds the following:\\n            ``(1) The Surgeon General of the Public Health Service has \\n        found that although 1 in 10 children and adolescents suffer \\n        from mental illness severe enough to cause some level of \\n        impairment, in any given year fewer than 1 in 5 of these \\n        children receives needed treatment. The short- and long-term \\n        consequences of untreated childhood mental disorders are \\n        costly, in both human and fiscal terms.\\n            ``(2) School counselors, school social workers, and school \\n        psychologists are needed to help these children and to provide \\n        a variety of crucial support services.\\n            ``(3) Across the United States, there are insufficient \\n        resources for school-based counseling professionals, and often \\n        students do not get the help they need. The current national \\n        average ratio of students to school counselors in elementary \\n        and secondary schools is 561 to 1.\\n            ``(4) United States schools need more mental health \\n        professionals, and they need the flexibility to hire the \\n        professionals that will best serve their students.\\n            ``(5) According to the Institute of Medicine of the \\n        National Academy of Sciences, the maximum recommended ratio \\n        of--\\n                    ``(A) students to school counselors is 250 to 1;\\n                    ``(B) students to school psychologists is 1,000 to \\n                1; and\\n                    ``(C) students to school social workers is 800 to \\n                1.\\n            ``(6) In some States, 1 school counselor typically serves \\n        over 1,000 students. Ratios for school psychologists and school \\n        social workers are also extremely high. In some schools, no \\n        school-based mental health and student service provider is \\n        available to assist students in times of crisis, or at any \\n        other time.\\n            ``(7) The number of students is expected to grow \\n        significantly over the next few years. During this time, many \\n        school-based mental health professionals who currently serve \\n        the Nation's youth will retire.\\n            ``(8) Model programs using school-based mental health and \\n        student service providers have reduced school suspensions, \\n        reduced referrals to the principal's office, reduced the use of \\n        weapons, force, and threats, and increased students' feelings \\n        of safety.\\n\\n``SEC. 5546. PURPOSES.\\n\\n    ``The purposes of this chapter are to assist States and local \\neducational agencies in hiring additional school-based mental health \\nproviders, including additional school counselors, school \\npsychologists, and school social workers to achieve each of the \\nfollowing:\\n            ``(1) To reduce the ratios of school-based mental health \\n        and student service providers to students in elementary and \\n        secondary schools in the United States to the following minimum \\n        ratios recommended by the Institute of Medicine of the National \\n        Academy of Sciences in its 1997 report `Schools and Health: Our \\n        Nation's Investment':\\n                    ``(A) 1 school counselor for every 250 students;\\n                    ``(B) 1 school psychologist for every 1,000 \\n                students; and\\n                    ``(C) 1 school social worker for every 800 \\n                students.\\n            ``(2) To provide school-based mental health and student \\n        services.\\n            ``(3) To remove emotional, behavioral, and psychosocial \\n        barriers to learning so as to enhance students classroom \\n        preparedness and ability to learn.\\n            ``(4) To support school staff and teachers in improving \\n        classroom management, conducting behavioral interventions to \\n        improve school discipline, and developing the awareness and \\n        skills to identify early warning signs of violence and the need \\n        for mental health services.\\n            ``(5) To support parental involvement in improving the \\n        school behavior and academic success of their children.\\n\\n``SEC. 5547. DEFINITIONS.\\n\\n    ``In this chapter, the following definitions apply:\\n            ``(1) Child.--The term `child' means an individual who is \\n        not less than 5 years old and not more than 17 years old.\\n            ``(2) Child in poverty.--The term `child in poverty' means \\n        a child from a family with an income below the poverty line.\\n            ``(3) Mental health and student service provider.--The term \\n        `mental health and student service provider' means a qualified \\n        individual who provides mental health and student services, \\n        including any individual who is a qualified school counselor, a \\n        qualified school psychologist, or a qualified school social \\n        worker.\\n            ``(4) Mental health and student services.--The term `mental \\n        health and student services' includes direct, individual, and \\n        group services provided to students, parents, and school \\n        personnel by mental health and student service providers, and \\n        the coordination of prevention strategies in schools or \\n        community-based programs.\\n            ``(5) Poverty line.--The term `poverty line' means the \\n        poverty line (as defined by the Office of Management and \\n        Budget, and revised annually in accordance with section 673(2) \\n        of the Community Services Block Grant Act (42 U.S.C. 9902(2)) \\n        applicable to a family of the size involved.\\n            ``(6) School counselor.--The term `school counselor' means \\n        an individual who has documented competence in counseling \\n        children and adolescents in a school setting and who--\\n                    ``(A) possesses State licensure or certification \\n                granted by an independent professional regulatory \\n                authority;\\n                    ``(B) possesses national certification in school \\n                counseling or a specialty of counseling granted by an \\n                independent professional organization; or\\n                    ``(C) holds a minimum of a master's degree in \\n                school counseling from a program accredited by the \\n                Council for Accreditation of Counseling and Related \\n                Educational Programs or the equivalent.\\n            ``(7) School psychologist.--The term `school psychologist' \\n        means an individual who--\\n                    ``(A) possesses a minimum of 60 graduate semester \\n                hours in school psychology from an institution of \\n                higher education and has completed 1,200 clock hours in \\n                a supervised school psychology internship, of which 600 \\n                hours shall be in a school setting;\\n                    ``(B) possesses State licensure or certification in \\n                school psychology in the State in which the individual \\n                works; or\\n                    ``(C) possesses national certification by the \\n                National School Psychology Certification Board.\\n            ``(8) School social worker.--The term `school social \\n        worker' means an individual who--\\n                    ``(A) holds a master's degree in social work from a \\n                program accredited by the Council on Social Work \\n                Education;\\n                    ``(B) is licensed or certified by the State in \\n                which services are provided; or\\n                    ``(C) possesses a national credential or national \\n                certification as a school social work specialist \\n                granted by an independent professional organization.\\n            ``(9) State.--The term `State' means each of the several \\n        States, the District of Columbia, and the Commonwealth of \\n        Puerto Rico.\\n\\n``SEC. 5548. SCHOOL-BASED MENTAL HEALTH AND STUDENT SERVICE PROVIDER \\n              GRANT PROGRAM.\\n\\n    ``(a) In General.--In accordance with this chapter, the Secretary \\nshall make grants to eligible States to assist local educational \\nagencies in those States in hiring additional school-based mental \\nhealth and student service providers.\\n    ``(b) Allocation of Funds.--From the total amount appropriated for \\na fiscal year to carry out this chapter, the Secretary shall--\\n            ``(1) make available 1 percent of such amount to the \\n        Secretary of the Interior (on behalf of the Bureau of Indian \\n        Affairs) and the outlying areas for activities that carry out \\n        the purposes of this chapter; and\\n            ``(2) make available in the form of grants to each eligible \\n        State an amount equal to the sum of--\\n                    ``(A) an amount that bears the same relationship to \\n                50 percent of such total amount as the number of \\n                children in poverty who reside in the State bears to \\n                the number of such children in all States; and\\n                    ``(B) an amount that bears the same relationship to \\n                50 percent of such total amount as the number of \\n                children enrolled in public and private nonprofit \\n                elementary schools and secondary schools in the State \\n                bears to the number of children enrolled in all such \\n                schools in all States.\\n    ``(c) Minimum Grant.--Notwithstanding subsection (b), no grant \\nunder this section shall be for an amount less than $1,000,000.\\n    ``(d) Reallocation.--The Secretary shall reallocate to States that \\nhave received approval under subsection (e)(2) any funds allocated \\nunder subsection (b) to a State that fails to submit an application \\nthat is approved by the Secretary.\\n    ``(e) Application by State.--\\n            ``(1) In general.--To be eligible to receive a grant under \\n        this chapter, a State shall submit an application to the \\n        Secretary at such time, in such manner, and containing such \\n        information as the Secretary may require.\\n            ``(2) Approval.--The Secretary may not approve an \\n        application under this subsection unless the State submitting \\n        the application--\\n                    ``(A) presents a plan, which the Secretary \\n                considers to be reasonable, under which the State will \\n                make grants, in accordance with the purposes of this \\n                chapter, to local educational agencies to fund the \\n                hiring of additional school counselors, school \\n                psychologists, and school social workers; and\\n                    ``(B) provides an assurance that the State will \\n                provide the matching amount required under subsection \\n                (g).\\n    ``(f) Use of Funds by State.--\\n            ``(1) In general.--In accordance with this subsection, the \\n        total of the amounts made available to a State under this \\n        section and the amounts of the non-Federal match required under \\n        subsection (g) may only be used by a State to make grants to \\n        local educational agencies to assist such agencies in hiring \\n        additional school-based mental health and student service \\n        providers.\\n            ``(2) Administrative costs.--In each fiscal year, a State \\n        may use not more than 5 percent of the assistance made \\n        available to it under this chapter for the administrative costs \\n        of the State in carrying out the State's responsibilities under \\n        this chapter.\\n            ``(3) Allocation of funds.--In making grants in accordance \\n        with this subsection, the State shall allocate from the total \\n        described in paragraph (1) to each local educational agency an \\n        amount equal to the sum of--\\n                    ``(A) an amount that bears the same relationship to \\n                50 percent of such total as the number of children in \\n                poverty who reside in the school district served by the \\n                local educational agency bears to the number of such \\n                children who reside in all the school districts in the \\n                State; and\\n                    ``(B) an amount that bears the same relationship to \\n                50 percent of such total as the number of children \\n                enrolled in public and private nonprofit elementary \\n                schools and secondary schools in the school district \\n                served by the local educational agency bears to the \\n                number of children enrolled in all such schools in the \\n                State.\\n            ``(4) Minimum grant.--Notwithstanding paragraph (3), no \\n        grant made by a State in accordance with this subsection shall \\n        be for an amount less than $50,000.\\n            ``(5) Source of data.--For purposes of paragraph (3), the \\n        State shall use data from the most recent fiscal year for which \\n        satisfactory data are available, except that the State may \\n        adjust such data, or use alternative child poverty data, if the \\n        State demonstrates to the Secretary's satisfaction that such \\n        adjusted or alternative data more accurately reflect the \\n        relative incidence of children who are living in poverty and \\n        who reside in the school districts in the State.\\n            ``(6) Application by local educational agencies.--A State \\n        may require that, in order to be eligible for a grant made by \\n        the State in accordance with this subsection, a local \\n        educational agency shall submit an application to the State at \\n        such time, in such manner, and containing such information as \\n        the State may require.\\n    ``(g) Matching Funds.--\\n            ``(1) In general.--As a condition of receiving a grant \\n        under this section, the Secretary shall require that a State \\n        provide from non-Federal sources an amount equal to the amount \\n        of the grant.\\n            ``(2) Local contribution.--In making grants to local \\n        educational agencies in accordance with this subsection, a \\n        State may require that a local educational agency match a \\n        portion of the amount of the grant made to the agency.\\n            ``(3) Form.--The non-Federal share required by this \\n        subsection may be provided in cash or in kind, fairly \\n        evaluated, and may include facilities, equipment, or services.\\n    ``(h) Funds To Be Supplementary.--Assistance made available under \\nthis chapter shall be used to supplement, and may not supplant, \\nFederal, State, or local funds used for employing school-based mental \\nhealth and student service providers.\\n    ``(i) Data Collection and Report.--\\n            ``(1) In general.--For each fiscal year for which it \\n        receives assistance under this chapter, a State shall collect \\n        data describing how the assistance is used.\\n            ``(2) Report.--Not later than 1 year after assistance is \\n        made available to a State under this chapter, the State shall \\n        transmit to the Secretary a report on the data described in \\n        paragraph (1), including information with respect to each local \\n        educational agency to which the State made a grant with \\n        assistance made available under this chapter--\\n                    ``(A) the number of school counselors, school \\n                psychologists, and school social workers employed by \\n                local educational agency; and\\n                    ``(B) the ratio of students to school counselors, \\n                the ratio of students to school psychologists, and the \\n                ratio of students to school social workers.\\n            ``(3) Source of funds.--A State may use a portion of the \\n        assistance permitted to be used for administrative costs to \\n        carry out its responsibilities under this subsection.\\n            ``(4) Publication.--The Secretary shall make data received \\n        under this subsection publicly available on an annual basis.\\n\\n``SEC. 5549. AUTHORIZATION OF APPROPRIATIONS.\\n\\n    ``There are authorized to be appropriated to carry out this chapter \\n$100,000,000 for each of fiscal years 2004 through 2008.''.\\n    (b) Clerical Amendments.--The table of contents for the Elementary \\nand Secondary Education Act of 1965 (20 U.S.C. 6301 et seq.) is amended \\nby amending the items relating to subpart 14 of title V to read as \\nfollows:\\n\\n     ``Subpart 14--Grants to Improve the Mental Health of Children\\n\\n    ``CHAPTER A--SYSTEMS INTEGRATION; PROMOTION OF SCHOOL READINESS\\n\\n``Sec. 5541. Grants for the integration of schools and mental health \\n                            systems.\\n``Sec. 5542. Promotion of school readiness through early childhood \\n                            emotional and social development.\\n ``CHAPTER B--SCHOOL-BASED MENTAL HEALTH AND STUDENT SERVICE PROVIDERS\\n\\n``Sec. 5545. Findings.\\n``Sec. 5546. Purposes.\\n``Sec. 5547. Definitions.\\n``Sec. 5548. School-based mental health and student service provider \\n                            grant program.\\n``Sec. 5549. Authorization of appropriations.''.\"}\n",
            "Error Type: AttributeError, Message: 'InferenceClient' object has no attribute 'post'\n",
            "WARNING:langchain.smith.evaluation.runner_utils:LLM failed for example 91231239-5daf-4ed5-b146-450a5669bb92 with inputs {'text': \"Summarize this news:\\nSECTION 1. SHORT TITLE.\\n\\n    This Act may be cited as the ``Gallatin Land Consolidation Act of \\n1998''.\\n\\n SEC. 2. FINDINGS.\\n\\n    Congress finds that--\\n            (1) the land north of Yellowstone National Park possesses \\n        outstanding natural characteristics and wildlife habitats that \\n        make the land a valuable addition to the National Forest \\n        System;\\n            (2) it is in the interest of the United States to establish \\n        a logical and effective ownership pattern for the Gallatin \\n        National Forest, reducing long-term costs for taxpayers and \\n        increasing and improving public access to the forest;\\n            (3) it is in the interest of the United States for the \\n        Secretary of Agriculture to enter into an Option Agreement for \\n        the acquisition of land owned by Big Sky Lumber Co. to \\n        accomplish the purposes of this Act; and\\n            (4) other private property owners are willing to enter into \\n        exchanges that further improve the ownership pattern of the \\n        Gallatin National Forest.\\n\\n SEC. 3. DEFINITIONS.\\n\\n    In this Act:\\n            (1) BLM land.--The term ``BLM land'' means approximately \\n        2,000 acres of Bureau of Land Management land (including all \\n        appurtenances to the land) that is proposed to be acquired by \\n        BSL, as depicted in Exhibit B to the Option Agreement.\\n            (2) BSL.--The term ``BSL'' means Big Sky Lumber Co., an \\n        Oregon joint venture, and its successors and assigns, and any \\n        other entities having a property interest in the BSL land.\\n            (3) BSL land.--The term ``BSL land'' means approximately \\n        54,000 acres of land (including all appurtenances to the land \\n        except as provided in section 4(e)(1)(D)(i)) owned by BSL that \\n        is proposed to be acquired by the Secretary of Agriculture, as \\n        depicted in Exhibit A to the Option Agreement.\\n            (4) Eastside national forests.--The term ``Eastside \\n        National Forests'' means national forests east of the \\n        Continental Divide in the State of Montana, including the \\n        Beaverhead National Forest, Deerlodge National Forest, Helena \\n        National Forest, Custer National Forest, and Lewis and Clark \\n        National Forest.\\n            (5) National forest system land.--The term ``National \\n        Forest System land'' means approximately 29,000 acres of land \\n        (including all appurtenances to the land) owned by the United \\n        States in the Gallatin National Forest, Flathead National \\n        Forest, Deerlodge National Forest, Helena National Forest, Lolo \\n        National Forest, and Lewis and Clark National Forest that is \\n        proposed to be acquired by BSL, as depicted in Exhibit B to the \\n        Option Agreement.\\n            (6) Option agreement.--The term ``Option Agreement'' \\n        means--\\n                    (A) the document signed by BSL, dated July 29, 1998 \\n                and entitled ``Option Agreement for the Acquisition of \\n                Big Sky Lumber Co. Lands Pursuant to the Gallatin Range \\n                Consolidation and Protection Act of 1993'';\\n                    (B) the exhibits and maps attached to the document \\n                described in subparagraph (A); and\\n                    (C) an exchange agreement to be entered into \\n                between the Secretary and BSL and made part of the \\n                document described in subparagraph (A).\\n            (7) Secretary.--The ``Secretary'' means the Secretary of \\n        Agriculture.\\n\\n SEC. 4. GALLATIN LAND CONSOLIDATION COMPLETION.\\n\\n    (a) In General.--Notwithstanding any other provision of law, and \\nsubject to the terms and conditions of the Option Agreement--\\n            (1) if BSL offers title acceptable to the Secretary to the \\n        BSL land--\\n                    (A) the Secretary shall accept a warranty deed to \\n                the BSL land and a quit claim deed to agreed to mineral \\n                interests in the BSL land;\\n                    (B) the Secretary shall convey to BSL, subject to \\n                valid existing rights and to other terms, conditions, \\n                reservations, and exceptions as may be agreed to by the \\n                Secretary and BSL, fee title to the National Forest \\n                System land; and\\n                    (C) the Secretary of the Interior shall convey to \\n                BSL, by patent or otherwise, subject to valid existing \\n                rights and other terms, conditions, reservations, and \\n                exceptions as may be agreed to by the Secretary of the \\n                Interior and BSL, fee title to the BLM land;\\n            (2) if BSL places title in escrow acceptable to the \\n        Secretary to 11\\\\1/2\\\\ sections of the BSL land in the Taylor \\n        Fork area as set forth in the Option Agreement--\\n                    (A) the Secretary shall place Federal land in the \\n                Bangtail and Doe Creek areas of the Gallatin National \\n                Forest, as identified in the Option Agreement, in \\n                escrow pending conveyance to the Secretary of the \\n                Taylor Fork land, as identified in the Option Agreement \\n                in escrow;\\n                    (B) the Secretary, subject to the availability of \\n                funds, shall purchase 7\\\\1/2\\\\ sections of BSL land in \\n                the Taylor Fork area held in escrow and identified in \\n                the Option Agreement at a purchase price of $4,150,000; \\n                and\\n                    (C) the Secretary shall acquire the 4 Taylor Fork \\n                sections identified in the Option Agreement remaining \\n                in escrow, and any of the 6 sections referred to in \\n                subparagraph (B) for which funds are not available, by \\n                providing BSL with timber sale receipts from timber \\n                sales on the Gallatin National Forest and other \\n                eastside national forests in the State of Montana in \\n                accordance with subsection (c); and\\n            (3)(A) as funds or timber sale receipts are received by \\n        BSL--\\n                    (i) the deeds to an equivalent value of BSL Taylor \\n                Fork land held in escrow shall be released and conveyed \\n                to the Secretary; and\\n                    (ii) the escrow of deeds to an equivalent value of \\n                Federal land shall be released to the Secretary in \\n                accordance with the terms of the Option Agreement; or\\n            (B) if funds or timber sale receipts are not provided to \\n        BSL as provided in the Option Agreement, BSL shall be entitled \\n        to receive patents and deeds to an equivalent value of the \\n        Federal land held in escrow.\\n    (b) Valuation.--\\n            (1) In general.--The property and other assets exchanged or \\n        conveyed by BSL and the United States under subsection (a) \\n        shall be approximately equal in value, as determined by the \\n        Secretary.\\n            (2) Difference in value.--To the extent that the property \\n        and other assets exchanged or conveyed by BSL or the United \\n        States under subsection (a) are not approximately equal in \\n        value, as determined by the Secretary, the values shall be \\n        equalized in accordance with methods identified in the Option \\n        Agreement.\\n    (c) Timber Sale Program.--\\n            (1) In general.--The Secretary shall implement a timber \\n        sale program, according to the terms and conditions identified \\n        in the Option Agreement and subject to compliance with \\n        applicable environmental laws (including regulations), judicial \\n        decisions, memoranda of understanding, small business set-aside \\n        rules, and acts beyond the control of the Secretary, to \\n        generate sufficient timber receipts to purchase the portions of \\n        the BSL land in Taylor Fork identified in the Option Agreement.\\n            (2) Implementation.--In implementing the timber sale \\n        program--\\n                    (A) the Secretary shall provide BSL with a proposed \\n                annual schedule of timber sales;\\n                    (B) as set forth in the Option Agreement, receipts \\n                generated from the timber sale program shall be \\n                deposited by the Secretary in a special account \\n                established by the Secretary and paid by the Secretary \\n                to BSL;\\n                    (C) receipts from the Gallatin National Forest \\n                shall not be subject to the Act of May 23, 1908 (16 \\n                U.S.C. 500); and\\n                    (D) the Secretary shall fund the timber sale \\n                program at levels determined by the Secretary to be \\n                commensurate with the preparation and administration of \\n                the identified timber sale program.\\n    (d) Rights-of-Way.--As specified in the Option Agreement--\\n            (1) the Secretary, under the authority of the Federal Land \\n        Policy and Management Act of 1976 (43 U.S.C. 1701 et seq.), \\n        shall convey to BSL such easements in or other rights-of-way \\n        over National Forest System land for access to the land \\n        acquired by BSL under this Act for all lawful purposes; and\\n            (2) BSL shall convey to the United States such easements in \\n        or other rights-of-way over land owned by BSL for all lawful \\n        purposes, as may be agreed to by the Secretary and BSL.\\n    (e) Quality of Title.--\\n            (1) Determination.--The Secretary shall review the title \\n        for the BSL land described in subsection (a) and, within 45 \\n        days after receipt of all applicable title documents from BSL, \\n        determine whether--\\n                    (A) the applicable title standards for Federal land \\n                acquisition have been satisfied and the quality of the \\n                title is otherwise acceptable to the Secretary of \\n                Agriculture;\\n                    (B) all draft conveyances and closing documents \\n                have been received and approved;\\n                    (C) a current title commitment verifying compliance \\n                with applicable title standards has been issued to the \\n                Secretary; and\\n                    (D) the title includes both the surface and \\n                subsurface estates without reservation or exception \\n                (except as specifically provided in this Act), \\n                including--\\n                            (i) minerals, mineral rights, and mineral \\n                        interests (including severed oil and gas \\n                        surface rights), subject to and excepting other \\n                        outstanding or reserved oil and gas rights;\\n                            (ii) timber, timber rights, and timber \\n                        interests (except those reserved subject to \\n                        section 251.14 of title 36, Code of Federal \\n                        Regulations, by BSL and agreed to by the \\n                        Secretary);\\n                            (iii) water, water rights, ditch, and ditch \\n                        rights;\\n                            (iv) geothermal rights; and\\n                            (v) any other interest in the property.\\n            (2) Conveyance of title.--\\n                    (A) In general.--If the quality of title does not \\n                meet Federal standards or is otherwise determined to be \\n                unacceptable to the Secretary of Agriculture, the \\n                Secretary shall advise BSL regarding corrective actions \\n                necessary to make an affirmative determination under \\n                paragraph (1).\\n                    (B) Title to subsurface estate.--Title to the \\n                subsurface estate shall be conveyed by BSL to the \\n                Secretary in the same form and content as that estate \\n                is received by BSL from Burlington Resources Oil & Gas \\n                Company Inc. and Glacier Park Company.\\n    (f) Timing of Implementation.--\\n            (1) Land-for-land exchange.--The Secretary shall accept the \\n        conveyance of land described in subsection (a) not later than \\n        45 days after the Secretary has made an affirmative \\n        determination of quality of title.\\n            (2) Land-for-timber sale receipt exchange.--As provided in \\n        subsection (c) and the Option Agreement, the Secretary shall \\n        make timber receipts described in subsection (a)(3) available \\n        not later than December 31 of the fifth full calendar year that \\n        begins after the date of enactment of this Act.\\n            (3) Purchase.--The Secretary shall complete the purchase of \\n        BSL land under subsection (a)(3)(B) not later than 30 days \\n        after the date on which appropriated funds are made available \\n        and an affirmative determination of quality of title is made \\n        with respect to the BSL land.\\n\\nSEC. 5. OTHER FACILITATED EXCHANGES.\\n\\n    (a) Authorized Exchanges.--\\n            (1) In general.--The Secretary shall enter into the \\n        following land exchanges if the landowners are willing:\\n                    (A) Wapiti land exchange, as outlined in the \\n                documents entitled ``Non-Federal Lands in Facilitated \\n                Exchanges'' and ``Federal Lands in Facilitated \\n                Exchanges'' and dated July 1998.\\n                    (B) Eightmile/West Pine land exchange as outlined \\n                in the documents entitled ``Non-Federal Lands in \\n                Facilitated Exchanges'' and ``Federal Lands in \\n                Facilitated Exchanges'' and dated July 1998.\\n            (2) Equal Value.--Before entering into an exchange under \\n        paragraph (1), the Secretary shall determine that the parcels \\n        of land to be exchanged are of approximately equal value, based \\n        on an appraisal.\\n    (b) Section 1 of the Taylor Fork Land.--\\n            (1) In general.--The Secretary is encouraged to pursue a \\n        land exchange with the owner of section 1 of the Taylor Fork \\n        land after completing a full public process and an appraisal.\\n            (2) Report.--The Secretary shall report to Congress on the \\n        implementation of paragraph (1) not later than 180 days after \\n        the date of enactment of this Act.\\n\\nSEC. 6. GENERAL PROVISIONS.\\n\\n    (a) Minor Corrections.--\\n            (1) In general.--The Option Agreement shall be subject to \\n        such minor corrections and supplemental provisions as may be \\n        agreed to by the Secretary and BSL.\\n            (2) Notification.--The Secretary shall notify the Committee \\n        on Energy and Natural Resources of the Senate, the Committee on \\n        Resources of the House of Representatives, and each member of \\n        the Montana congressional delegation of any changes made under \\n        this subsection.\\n            (3) Boundary adjustment.--\\n                    (A) In general.--The boundary of the Gallatin \\n                National Forest is adjusted in the Wineglass and North \\n                Bridger area, as described on maps dated July 1998, \\n                upon completion of the conveyances.\\n                    (B) No limitation.--Nothing in this subsection \\n                limits the authority of the Secretary to adjust the \\n                boundary pursuant to section 11 of the Act of March 1, \\n                1911 (commonly known as the ``Weeks Act'') (16 U.S.C. \\n                521).\\n                    (C) Allocation of land and water conservation fund \\n                moneys.--For the purposes of section 7 of the Land and \\n                Water Conservation Fund Act of 1965 (16 U.S.C. 460l-9), \\n                boundaries of the Gallatin National Forest shall be \\n                considered to be the boundaries of the National Forest \\n                as of January 1, 1965.\\n    (b) Public Availability.--The Option Agreement--\\n            (1) shall be on file and available for public inspection in \\n        the office of the Supervisor of the Gallatin National Forest; \\n        and\\n            (2) shall be filed with the county clerk of each of \\n        Gallatin County, Park County, Madison County, Granite County, \\n        Broadwater County, Meagher County, Flathead County, and \\n        Missoula County, Montana.\\n    (c) Compliance With Option Agreement.--The Secretary, the Secretary \\nof the Interior, and BSL shall comply with the terms and conditions of \\nthe Option Agreement except to the extent that any provision of the \\nOption Agreement conflicts with this Act.\\n    (d) Status of Land.--All land conveyed to the United States under \\nthis Act shall be added to and administered as part of the Gallatin \\nNational Forest and Deerlodge National Forest, as appropriate, in \\naccordance with the Act of March 1, 1911 (5 U.S.C. 515 et seq.), and \\nother laws (including regulations) pertaining to the National Forest \\nSystem.\\n    (e) Management.--\\n            (1) Public process.--Not later than 30 days after the date \\n        of completion of the land-for-land exchange under section \\n        4(f)(1), the Secretary shall initiate a public process to amend \\n        the Gallatin National Forest Plan and the Deerlodge National \\n        Forest Plan to integrate the acquired land into the plans.\\n            (2) Process time.--The amendment process under paragraph \\n        (1) shall be completed as soon as practicable, and in no event \\n        later than 540 days after the date on which the amendment \\n        process is initiated.\\n            (3) Limitation.--An amended management plan shall not \\n        permit surface occupancy on the acquired land for access to \\n        reserved or outstanding oil and gas rights or for exploration \\n        or development of oil and gas.\\n            (4) Interim management.--Pending completion of the forest \\n        plan amendment process under paragraph (1), the Secretary \\n        shall--\\n                    (A) manage the acquired land under the standards \\n                and guidelines in the applicable land and resource \\n                management plans for adjacent land managed by the \\n                Forest Service; and\\n                    (B) maintain all existing public access to the \\n                acquired land.\\n    (f) Restoration.--\\n            (1) In general.--The Secretary shall implement a \\n        restoration program including reforestation and watershed \\n        enhancements to bring the acquired land and surrounding \\n        national forest land into compliance with Forest Service \\n        standards and guidelines.\\n            (2) State and local conservation corps.--In implementing \\n        the restoration program, the Secretary shall, when practicable, \\n        use partnerships with State and local conservation corps, \\n        including the Montana Conservation Corps, under the Public \\n        Lands Corps Act of 1993 (16 U.S.C. 1721 et seq.).\\n    (g) Implementation.--The Secretary of Agriculture shall ensure that \\nsufficient funds are made available to the Gallatin National Forest to \\ncarry out this Act.\\n    (i) Revocations.--Notwithstanding any other provision of law, any \\npublic orders withdrawing lands identified in the Option Agreement from \\nall forms of appropriation under the public land laws are revoked upon \\nconveyance of the lands by the Secretary.\\n\\nSEC. 7. AUTHORIZATION OF APPROPRIATIONS.\\n\\n    There are authorized to be appropriated such sums as are necessary \\nto carry out this Act.\\n\\n            Passed the Senate October 2, 1998.\\n\\n            Attest:\\n\\n                                                    GARY SISCO,\\n\\n                                                             Secretary.\"}\n",
            "Error Type: AttributeError, Message: 'InferenceClient' object has no attribute 'post'\n"
          ]
        },
        {
          "output_type": "stream",
          "name": "stdout",
          "text": [
            "\r[--------------------------------------->          ] 8/10\r[-------------------------------------------->     ] 9/10"
          ]
        },
        {
          "output_type": "stream",
          "name": "stderr",
          "text": [
            "WARNING:langchain.smith.evaluation.runner_utils:LLM failed for example e497d28a-a57e-46f0-a7e3-7d8ed3969ddb with inputs {'text': \"Summarize this news:\\nSECTION 1. SHORT TITLE.\\n\\n    This Act may be cited as the ``Jackie Robinson Commemorative Coin \\nAct''.\\n\\nSEC. 2. COIN SPECIFICATIONS.\\n\\n    (a) $1 Silver Coins.--In commemoration of the 50th anniversary of \\nthe breaking of the color barrier in major league baseball by Jackie \\nRobinson, the Secretary of the Treasury (hereafter in this Act referred \\nto as the ``Secretary'') shall mint and issue not more than 500,000 1 \\ndollar coins, which shall--\\n            (1) weigh 26.73 grams;\\n            (2) have a diameter of 1.500 inches; and\\n            (3) contain 90 percent silver and 10 percent copper.\\n    (b) Legal Tender.--The coins minted under this Act shall be legal \\ntender, as provided in section 5103 of title 31, United States Code.\\n    (c) Numismatic Items.--For purposes of section 5136 of title 31, \\nUnited States Code, all coins minted under this Act shall be considered \\nto be numismatic items.\\n\\nSEC. 3. SOURCES OF BULLION.\\n\\n    The Secretary shall obtain silver for minting coins under this Act \\nonly from stockpiles established under the Strategic and Critical \\nMaterials Stock Piling Act.\\n\\nSEC. 4. DESIGN OF COINS.\\n\\n    (a) Design Requirements.--\\n            (1) In general.--The design--\\n                    (A) on the obverse side of the coins minted under \\n                this Act shall be emblematic of Jackie Robinson; and\\n                    (B) on the reverse side of such coins shall be \\n                emblematic of Jackie Robinson's association with and \\n                contributions to major league baseball.\\n            (2) Designation and inscriptions.--On each coin minted \\n        under this Act there shall be--\\n                    (A) a designation of the value of the coin;\\n                    (B) an inscription of the year ``1997''; and\\n                    (C) inscriptions of the words ``Liberty'', ``In God \\n                We Trust'', ``United States of America'', and ``E \\n                Pluribus Unum''.\\n    (b) Selection.--The design for the coins minted under this Act \\nshall be--\\n            (1) selected by the Secretary after consultation with the \\n        Jackie Robinson Foundation and the Commission of Fine Arts; and\\n            (2) reviewed by the Citizens Commemorative Coin Advisory \\n        Committee.\\n\\nSEC. 5. ISSUANCE OF COINS.\\n\\n    (a) Quality of Coins.--Coins minted under this Act shall be issued \\nin uncirculated and proof qualities.\\n    (b) Mint Facility.--Only 1 facility of the United States Mint may \\nbe used to strike any particular quality of the coins minted under this \\nAct.\\n    (c) Commencement of Issuance.--The Secretary may issue coins minted \\nunder this Act beginning April 15, 1997.\\n    (d) Termination of Minting Authority.--No coins may be minted under \\nthis Act after December 15, 1998.\\n\\nSEC. 6. SALE OF COINS.\\n\\n    (a) Sale Price.--The coins issued under this Act shall be sold by \\nthe Secretary at a price equal to the sum of--\\n            (1) the face value of the coins;\\n            (2) the surcharge provided in subsection (d) with respect \\n        to such coins; and\\n            (3) the cost of designing and issuing the coins (including \\n        labor, materials, dies, use of machinery, overhead expenses, \\n        marketing, and shipping).\\n    (b) Bulk Sales.--The Secretary shall make bulk sales of the coins \\nissued under this Act at a reasonable discount.\\n    (c) Prepaid Orders.--\\n            (1) In general.--The Secretary shall accept prepaid orders \\n        for the coins minted under this Act before the issuance of such \\n        coins.\\n            (2) Discount.--Sale prices with respect to prepaid orders \\n        under paragraph (1) shall be at a reasonable discount.\\n    (d) Surcharges.--All sales shall include a surcharge of $10 per \\ncoin.\\n\\nSEC. 7. GENERAL WAIVER OF PROCUREMENT REGULATIONS.\\n\\n    (a) In General.--Except as provided in subsection (b), no provision \\nof law governing procurement or public contracts shall be applicable to \\nthe procurement of goods and services necessary for carrying out the \\nprovisions of this Act.\\n    (b) Equal Employment Opportunity.--Subsection (a) shall not relieve \\nany person entering into a contract under the authority of this Act \\nfrom complying with any law relating to equal employment opportunity.\\n\\nSEC. 8. DISTRIBUTION OF SURCHARGES.\\n\\n    Subject to section 10(a), all surcharges received by the Secretary \\nfrom the sale of coins issued under this Act shall be promptly paid by \\nthe Secretary to the Jackie Robinson Foundation (hereafter in this Act \\nreferred to as the Foundation'') for the purpose of--\\n            (1) enhancing the programs of the Foundation in the field \\n        of education and youth leadership skills development; and\\n            (2) increasing the availability of scholarships for youth \\n        with the greatest need.\\n\\nSEC. 9. FINANCIAL ASSURANCES.\\n\\n    (a) No Net Cost to the Government.--The Secretary shall take such \\nactions as may be necessary to ensure that minting and issuing coins \\nunder this Act will not result in any net cost to the United States \\nGovernment.\\n    (b) Payment for Coins.--A coin shall not be issued under this Act \\nunless the Secretary has received--\\n            (1) full payment for the coin;\\n            (2) security satisfactory to the Secretary to indemnify the \\n        United States for full payment; or\\n            (3) a guarantee of full payment satisfactory to the \\n        Secretary from a depository institution whose deposits are \\n        insured by the Federal Deposit Insurance Corporation or the \\n        National Credit Union Administration Board.\\n\\nSEC. 10. CONDITIONS ON PAYMENT OF SURCHARGES.\\n\\n    (a) Payment of Surcharges.--Notwithstanding any other provision of \\nlaw, no amount derived from the proceeds of any surcharge imposed on \\nthe sale of coins issued under this Act shall be paid to the Foundation \\nunless--\\n            (1) all numismatic operation and program costs allocable to \\n        the program under which such coins are produced and sold have \\n        been recovered; and\\n            (2) the Foundation submits an audited financial statement \\n        which demonstrates to the satisfaction of the Secretary that, \\n        with respect to all projects or purposes for which the proceeds \\n        of such surcharge may be used, the Foundation has raised funds \\n        from private sources for such projects and purposes in an \\n        amount which is equal to or greater than the maximum amount the \\n        Foundation may receive from the proceeds of such surcharge.\\n    (b) Annual Audits.--\\n            (1) Annual audits of recipients required.--The Foundation \\n        shall provide, as a condition for receiving any amount derived \\n        from the proceeds of any surcharge imposed on the sale of coins \\n        issued under this Act, for an annual audit, in accordance with \\n        generally accepted government auditing standards by an \\n        independent public accountant selected by the Foundation, of \\n        all such payments to the Foundation beginning in the first \\n        fiscal year of the Foundation in which any such amount is \\n        received and continuing until all such amounts received by the \\n        Foundation with respect to such surcharges are fully expended \\n        or placed in trust.\\n            (2) Minimum requirements for annual audits.--At a minimum, \\n        each audit of the Foundation pursuant to paragraph (1) shall \\n        report--\\n                    (A) the amount of payments received by the \\n                Foundation during the fiscal year of the Foundation for \\n                which the audit is conducted which are derived from the \\n                proceeds of any surcharge imposed on the sale of coins \\n                issued under this Act;\\n                    (B) the amount expended by the Foundation from the \\n                proceeds of such surcharges during the fiscal year of \\n                the Foundation for which the audit is conducted; and\\n                    (C) whether all expenditures by the Foundation from \\n                the proceeds of such surcharges during the fiscal year \\n                of the Foundation for which the audit is conducted were \\n                for authorized purposes.\\n            (3) Responsibility of foundation to account for \\n        expenditures of surcharges.--The Foundation shall take \\n        appropriate steps, as a condition for receiving any payment of \\n        any amount derived from the proceeds of any surcharge imposed \\n        on the sale of coins issued under this Act, to ensure that the \\n        receipt of the payment and the expenditure of the proceeds of \\n        such surcharge by the Foundation in each fiscal year of the \\n        Foundation can be accounted for separately from all other \\n        revenues and expenditures of the Foundation.\\n            (4) Submission of audit report.--Not later than 90 days \\n        after the end of any fiscal year of the Foundation for which an \\n        audit is required under paragraph (1), the Foundation shall--\\n                    (A) submit a copy of the report to the Secretary; \\n                and\\n                    (B) make a copy of the report available to the \\n                public.\\n            (5) Use of surcharges for audits.--The Foundation may use \\n        any amount received from payments derived from the proceeds of \\n        any surcharge imposed on the sale of coins issued under this \\n        Act to pay the cost of an audit required under paragraph (1).\\n            (6) Waiver of subsection.--The Secretary may waive the \\n        application of any paragraph of this subsection to the \\n        Foundation for any fiscal year after taking into account the \\n        amount of surcharges which such Foundation received or expended \\n        during such year.\\n            (7) Availability of books and records.--The Foundation \\n        shall provide, as a condition for receiving any payment derived \\n        from the proceeds of any surcharge imposed on the sale of coins \\n        issued under this Act, to the Inspector General of the \\n        Department of the Treasury or the Comptroller General of the \\n        United States, upon the request of such Inspector General or \\n        the Comptroller General, all books, records, and workpapers \\n        belonging to or used by the Foundation, or by any independent \\n        public accountant who audited the Foundation in accordance with \\n        paragraph (1), which may relate to the receipt or expenditure \\n        of any such amount by the Foundation.\\n    (c) Use of Agents or Attorneys to Influence Commemorative Coin \\nLegislation.--No portion of any payment to the Foundation from amounts \\nderived from the proceeds of surcharges imposed on the sale of coins \\nissued under this Act may be used, directly or indirectly, by the \\nFoundation to compensate any agent or attorney for services rendered to \\nsupport or influence in any way legislative action of the Congress \\nrelating to the coins minted and issued under this Act.\"}\n",
            "Error Type: AttributeError, Message: 'InferenceClient' object has no attribute 'post'\n"
          ]
        },
        {
          "output_type": "stream",
          "name": "stdout",
          "text": [
            "\r[------------------------------------------------->] 10/10\n"
          ]
        }
      ],
      "source": [
        "#Ignore the error shown below\n",
        "project_name = f\"T5-FineTuned {datetime.datetime.now().strftime('%Y-%m-%d %H:%M:%S')}\"\n",
        "\n",
        "finetuned_t5_results = run_on_dataset(\n",
        "    client=client,\n",
        "    project_name=project_name,\n",
        "    dataset_name=NAME_DATASET,\n",
        "    llm_or_chain_factory=summarizer_finetuned,\n",
        "    evaluation=evaluation_config,\n",
        ")"
      ]
    },
    {
      "cell_type": "markdown",
      "id": "953211fe-b8a4-4a2c-91e3-3c6242a2f159",
      "metadata": {
        "id": "953211fe-b8a4-4a2c-91e3-3c6242a2f159"
      },
      "source": [
        "<img src=\"https://github.com/peremartra/Large-Language-Model-Notebooks-Course/blob/main/img/Martra_Figure_4_2SDL_Tests.jpg?raw=true\">\n",
        "\n",
        "In the image below you can see the comparision between two tests.\n",
        "<img src=\"https://github.com/peremartra/Large-Language-Model-Notebooks-Course/blob/main/img/Martra_Figure_4_2SDL_CompareTestst.jpg?raw=true\">"
      ]
    },
    {
      "cell_type": "markdown",
      "id": "Xn6jeX7u_4MR",
      "metadata": {
        "id": "Xn6jeX7u_4MR"
      },
      "source": [
        "Well, since it has been so straightforward, why don't we try to make the comparison with an OpenAI model?"
      ]
    },
    {
      "cell_type": "code",
      "execution_count": 37,
      "id": "84a97ac1-623e-4d28-a78b-c807af89c918",
      "metadata": {
        "id": "84a97ac1-623e-4d28-a78b-c807af89c918"
      },
      "outputs": [],
      "source": [
        "from langchain_openai import OpenAI\n",
        "open_aillm=OpenAI(temperature=0.0)"
      ]
    },
    {
      "cell_type": "code",
      "execution_count": 38,
      "id": "suc0G-9W94Qj",
      "metadata": {
        "colab": {
          "base_uri": "https://localhost:8080/"
        },
        "id": "suc0G-9W94Qj",
        "outputId": "88cfdd37-db22-4271-c196-31b467f1de0a",
        "tags": []
      },
      "outputs": [
        {
          "output_type": "stream",
          "name": "stdout",
          "text": [
            "View the evaluation results for project 'OpenAI 2025-09-08 13:39:20' at:\n",
            "https://smith.langchain.com/o/dbfa5d30-7b5a-4be6-9c3b-7b1d8cb19c7a/datasets/3b28ceeb-33ec-42ab-afe0-a68accb8813b/compare?selectedSessions=025b505b-c1f6-4b76-b221-b24216d21eb4\n",
            "\n",
            "View all tests for Dataset Summarize_dataset_2025-09-08 13:33:47 at:\n",
            "https://smith.langchain.com/o/dbfa5d30-7b5a-4be6-9c3b-7b1d8cb19c7a/datasets/3b28ceeb-33ec-42ab-afe0-a68accb8813b\n",
            "[------------------------>                         ] 5/10"
          ]
        },
        {
          "output_type": "stream",
          "name": "stderr",
          "text": [
            "WARNING:langchain.smith.evaluation.runner_utils:LLM failed for example 91231239-5daf-4ed5-b146-450a5669bb92 with inputs {'text': \"Summarize this news:\\nSECTION 1. SHORT TITLE.\\n\\n    This Act may be cited as the ``Gallatin Land Consolidation Act of \\n1998''.\\n\\n SEC. 2. FINDINGS.\\n\\n    Congress finds that--\\n            (1) the land north of Yellowstone National Park possesses \\n        outstanding natural characteristics and wildlife habitats that \\n        make the land a valuable addition to the National Forest \\n        System;\\n            (2) it is in the interest of the United States to establish \\n        a logical and effective ownership pattern for the Gallatin \\n        National Forest, reducing long-term costs for taxpayers and \\n        increasing and improving public access to the forest;\\n            (3) it is in the interest of the United States for the \\n        Secretary of Agriculture to enter into an Option Agreement for \\n        the acquisition of land owned by Big Sky Lumber Co. to \\n        accomplish the purposes of this Act; and\\n            (4) other private property owners are willing to enter into \\n        exchanges that further improve the ownership pattern of the \\n        Gallatin National Forest.\\n\\n SEC. 3. DEFINITIONS.\\n\\n    In this Act:\\n            (1) BLM land.--The term ``BLM land'' means approximately \\n        2,000 acres of Bureau of Land Management land (including all \\n        appurtenances to the land) that is proposed to be acquired by \\n        BSL, as depicted in Exhibit B to the Option Agreement.\\n            (2) BSL.--The term ``BSL'' means Big Sky Lumber Co., an \\n        Oregon joint venture, and its successors and assigns, and any \\n        other entities having a property interest in the BSL land.\\n            (3) BSL land.--The term ``BSL land'' means approximately \\n        54,000 acres of land (including all appurtenances to the land \\n        except as provided in section 4(e)(1)(D)(i)) owned by BSL that \\n        is proposed to be acquired by the Secretary of Agriculture, as \\n        depicted in Exhibit A to the Option Agreement.\\n            (4) Eastside national forests.--The term ``Eastside \\n        National Forests'' means national forests east of the \\n        Continental Divide in the State of Montana, including the \\n        Beaverhead National Forest, Deerlodge National Forest, Helena \\n        National Forest, Custer National Forest, and Lewis and Clark \\n        National Forest.\\n            (5) National forest system land.--The term ``National \\n        Forest System land'' means approximately 29,000 acres of land \\n        (including all appurtenances to the land) owned by the United \\n        States in the Gallatin National Forest, Flathead National \\n        Forest, Deerlodge National Forest, Helena National Forest, Lolo \\n        National Forest, and Lewis and Clark National Forest that is \\n        proposed to be acquired by BSL, as depicted in Exhibit B to the \\n        Option Agreement.\\n            (6) Option agreement.--The term ``Option Agreement'' \\n        means--\\n                    (A) the document signed by BSL, dated July 29, 1998 \\n                and entitled ``Option Agreement for the Acquisition of \\n                Big Sky Lumber Co. Lands Pursuant to the Gallatin Range \\n                Consolidation and Protection Act of 1993'';\\n                    (B) the exhibits and maps attached to the document \\n                described in subparagraph (A); and\\n                    (C) an exchange agreement to be entered into \\n                between the Secretary and BSL and made part of the \\n                document described in subparagraph (A).\\n            (7) Secretary.--The ``Secretary'' means the Secretary of \\n        Agriculture.\\n\\n SEC. 4. GALLATIN LAND CONSOLIDATION COMPLETION.\\n\\n    (a) In General.--Notwithstanding any other provision of law, and \\nsubject to the terms and conditions of the Option Agreement--\\n            (1) if BSL offers title acceptable to the Secretary to the \\n        BSL land--\\n                    (A) the Secretary shall accept a warranty deed to \\n                the BSL land and a quit claim deed to agreed to mineral \\n                interests in the BSL land;\\n                    (B) the Secretary shall convey to BSL, subject to \\n                valid existing rights and to other terms, conditions, \\n                reservations, and exceptions as may be agreed to by the \\n                Secretary and BSL, fee title to the National Forest \\n                System land; and\\n                    (C) the Secretary of the Interior shall convey to \\n                BSL, by patent or otherwise, subject to valid existing \\n                rights and other terms, conditions, reservations, and \\n                exceptions as may be agreed to by the Secretary of the \\n                Interior and BSL, fee title to the BLM land;\\n            (2) if BSL places title in escrow acceptable to the \\n        Secretary to 11\\\\1/2\\\\ sections of the BSL land in the Taylor \\n        Fork area as set forth in the Option Agreement--\\n                    (A) the Secretary shall place Federal land in the \\n                Bangtail and Doe Creek areas of the Gallatin National \\n                Forest, as identified in the Option Agreement, in \\n                escrow pending conveyance to the Secretary of the \\n                Taylor Fork land, as identified in the Option Agreement \\n                in escrow;\\n                    (B) the Secretary, subject to the availability of \\n                funds, shall purchase 7\\\\1/2\\\\ sections of BSL land in \\n                the Taylor Fork area held in escrow and identified in \\n                the Option Agreement at a purchase price of $4,150,000; \\n                and\\n                    (C) the Secretary shall acquire the 4 Taylor Fork \\n                sections identified in the Option Agreement remaining \\n                in escrow, and any of the 6 sections referred to in \\n                subparagraph (B) for which funds are not available, by \\n                providing BSL with timber sale receipts from timber \\n                sales on the Gallatin National Forest and other \\n                eastside national forests in the State of Montana in \\n                accordance with subsection (c); and\\n            (3)(A) as funds or timber sale receipts are received by \\n        BSL--\\n                    (i) the deeds to an equivalent value of BSL Taylor \\n                Fork land held in escrow shall be released and conveyed \\n                to the Secretary; and\\n                    (ii) the escrow of deeds to an equivalent value of \\n                Federal land shall be released to the Secretary in \\n                accordance with the terms of the Option Agreement; or\\n            (B) if funds or timber sale receipts are not provided to \\n        BSL as provided in the Option Agreement, BSL shall be entitled \\n        to receive patents and deeds to an equivalent value of the \\n        Federal land held in escrow.\\n    (b) Valuation.--\\n            (1) In general.--The property and other assets exchanged or \\n        conveyed by BSL and the United States under subsection (a) \\n        shall be approximately equal in value, as determined by the \\n        Secretary.\\n            (2) Difference in value.--To the extent that the property \\n        and other assets exchanged or conveyed by BSL or the United \\n        States under subsection (a) are not approximately equal in \\n        value, as determined by the Secretary, the values shall be \\n        equalized in accordance with methods identified in the Option \\n        Agreement.\\n    (c) Timber Sale Program.--\\n            (1) In general.--The Secretary shall implement a timber \\n        sale program, according to the terms and conditions identified \\n        in the Option Agreement and subject to compliance with \\n        applicable environmental laws (including regulations), judicial \\n        decisions, memoranda of understanding, small business set-aside \\n        rules, and acts beyond the control of the Secretary, to \\n        generate sufficient timber receipts to purchase the portions of \\n        the BSL land in Taylor Fork identified in the Option Agreement.\\n            (2) Implementation.--In implementing the timber sale \\n        program--\\n                    (A) the Secretary shall provide BSL with a proposed \\n                annual schedule of timber sales;\\n                    (B) as set forth in the Option Agreement, receipts \\n                generated from the timber sale program shall be \\n                deposited by the Secretary in a special account \\n                established by the Secretary and paid by the Secretary \\n                to BSL;\\n                    (C) receipts from the Gallatin National Forest \\n                shall not be subject to the Act of May 23, 1908 (16 \\n                U.S.C. 500); and\\n                    (D) the Secretary shall fund the timber sale \\n                program at levels determined by the Secretary to be \\n                commensurate with the preparation and administration of \\n                the identified timber sale program.\\n    (d) Rights-of-Way.--As specified in the Option Agreement--\\n            (1) the Secretary, under the authority of the Federal Land \\n        Policy and Management Act of 1976 (43 U.S.C. 1701 et seq.), \\n        shall convey to BSL such easements in or other rights-of-way \\n        over National Forest System land for access to the land \\n        acquired by BSL under this Act for all lawful purposes; and\\n            (2) BSL shall convey to the United States such easements in \\n        or other rights-of-way over land owned by BSL for all lawful \\n        purposes, as may be agreed to by the Secretary and BSL.\\n    (e) Quality of Title.--\\n            (1) Determination.--The Secretary shall review the title \\n        for the BSL land described in subsection (a) and, within 45 \\n        days after receipt of all applicable title documents from BSL, \\n        determine whether--\\n                    (A) the applicable title standards for Federal land \\n                acquisition have been satisfied and the quality of the \\n                title is otherwise acceptable to the Secretary of \\n                Agriculture;\\n                    (B) all draft conveyances and closing documents \\n                have been received and approved;\\n                    (C) a current title commitment verifying compliance \\n                with applicable title standards has been issued to the \\n                Secretary; and\\n                    (D) the title includes both the surface and \\n                subsurface estates without reservation or exception \\n                (except as specifically provided in this Act), \\n                including--\\n                            (i) minerals, mineral rights, and mineral \\n                        interests (including severed oil and gas \\n                        surface rights), subject to and excepting other \\n                        outstanding or reserved oil and gas rights;\\n                            (ii) timber, timber rights, and timber \\n                        interests (except those reserved subject to \\n                        section 251.14 of title 36, Code of Federal \\n                        Regulations, by BSL and agreed to by the \\n                        Secretary);\\n                            (iii) water, water rights, ditch, and ditch \\n                        rights;\\n                            (iv) geothermal rights; and\\n                            (v) any other interest in the property.\\n            (2) Conveyance of title.--\\n                    (A) In general.--If the quality of title does not \\n                meet Federal standards or is otherwise determined to be \\n                unacceptable to the Secretary of Agriculture, the \\n                Secretary shall advise BSL regarding corrective actions \\n                necessary to make an affirmative determination under \\n                paragraph (1).\\n                    (B) Title to subsurface estate.--Title to the \\n                subsurface estate shall be conveyed by BSL to the \\n                Secretary in the same form and content as that estate \\n                is received by BSL from Burlington Resources Oil & Gas \\n                Company Inc. and Glacier Park Company.\\n    (f) Timing of Implementation.--\\n            (1) Land-for-land exchange.--The Secretary shall accept the \\n        conveyance of land described in subsection (a) not later than \\n        45 days after the Secretary has made an affirmative \\n        determination of quality of title.\\n            (2) Land-for-timber sale receipt exchange.--As provided in \\n        subsection (c) and the Option Agreement, the Secretary shall \\n        make timber receipts described in subsection (a)(3) available \\n        not later than December 31 of the fifth full calendar year that \\n        begins after the date of enactment of this Act.\\n            (3) Purchase.--The Secretary shall complete the purchase of \\n        BSL land under subsection (a)(3)(B) not later than 30 days \\n        after the date on which appropriated funds are made available \\n        and an affirmative determination of quality of title is made \\n        with respect to the BSL land.\\n\\nSEC. 5. OTHER FACILITATED EXCHANGES.\\n\\n    (a) Authorized Exchanges.--\\n            (1) In general.--The Secretary shall enter into the \\n        following land exchanges if the landowners are willing:\\n                    (A) Wapiti land exchange, as outlined in the \\n                documents entitled ``Non-Federal Lands in Facilitated \\n                Exchanges'' and ``Federal Lands in Facilitated \\n                Exchanges'' and dated July 1998.\\n                    (B) Eightmile/West Pine land exchange as outlined \\n                in the documents entitled ``Non-Federal Lands in \\n                Facilitated Exchanges'' and ``Federal Lands in \\n                Facilitated Exchanges'' and dated July 1998.\\n            (2) Equal Value.--Before entering into an exchange under \\n        paragraph (1), the Secretary shall determine that the parcels \\n        of land to be exchanged are of approximately equal value, based \\n        on an appraisal.\\n    (b) Section 1 of the Taylor Fork Land.--\\n            (1) In general.--The Secretary is encouraged to pursue a \\n        land exchange with the owner of section 1 of the Taylor Fork \\n        land after completing a full public process and an appraisal.\\n            (2) Report.--The Secretary shall report to Congress on the \\n        implementation of paragraph (1) not later than 180 days after \\n        the date of enactment of this Act.\\n\\nSEC. 6. GENERAL PROVISIONS.\\n\\n    (a) Minor Corrections.--\\n            (1) In general.--The Option Agreement shall be subject to \\n        such minor corrections and supplemental provisions as may be \\n        agreed to by the Secretary and BSL.\\n            (2) Notification.--The Secretary shall notify the Committee \\n        on Energy and Natural Resources of the Senate, the Committee on \\n        Resources of the House of Representatives, and each member of \\n        the Montana congressional delegation of any changes made under \\n        this subsection.\\n            (3) Boundary adjustment.--\\n                    (A) In general.--The boundary of the Gallatin \\n                National Forest is adjusted in the Wineglass and North \\n                Bridger area, as described on maps dated July 1998, \\n                upon completion of the conveyances.\\n                    (B) No limitation.--Nothing in this subsection \\n                limits the authority of the Secretary to adjust the \\n                boundary pursuant to section 11 of the Act of March 1, \\n                1911 (commonly known as the ``Weeks Act'') (16 U.S.C. \\n                521).\\n                    (C) Allocation of land and water conservation fund \\n                moneys.--For the purposes of section 7 of the Land and \\n                Water Conservation Fund Act of 1965 (16 U.S.C. 460l-9), \\n                boundaries of the Gallatin National Forest shall be \\n                considered to be the boundaries of the National Forest \\n                as of January 1, 1965.\\n    (b) Public Availability.--The Option Agreement--\\n            (1) shall be on file and available for public inspection in \\n        the office of the Supervisor of the Gallatin National Forest; \\n        and\\n            (2) shall be filed with the county clerk of each of \\n        Gallatin County, Park County, Madison County, Granite County, \\n        Broadwater County, Meagher County, Flathead County, and \\n        Missoula County, Montana.\\n    (c) Compliance With Option Agreement.--The Secretary, the Secretary \\nof the Interior, and BSL shall comply with the terms and conditions of \\nthe Option Agreement except to the extent that any provision of the \\nOption Agreement conflicts with this Act.\\n    (d) Status of Land.--All land conveyed to the United States under \\nthis Act shall be added to and administered as part of the Gallatin \\nNational Forest and Deerlodge National Forest, as appropriate, in \\naccordance with the Act of March 1, 1911 (5 U.S.C. 515 et seq.), and \\nother laws (including regulations) pertaining to the National Forest \\nSystem.\\n    (e) Management.--\\n            (1) Public process.--Not later than 30 days after the date \\n        of completion of the land-for-land exchange under section \\n        4(f)(1), the Secretary shall initiate a public process to amend \\n        the Gallatin National Forest Plan and the Deerlodge National \\n        Forest Plan to integrate the acquired land into the plans.\\n            (2) Process time.--The amendment process under paragraph \\n        (1) shall be completed as soon as practicable, and in no event \\n        later than 540 days after the date on which the amendment \\n        process is initiated.\\n            (3) Limitation.--An amended management plan shall not \\n        permit surface occupancy on the acquired land for access to \\n        reserved or outstanding oil and gas rights or for exploration \\n        or development of oil and gas.\\n            (4) Interim management.--Pending completion of the forest \\n        plan amendment process under paragraph (1), the Secretary \\n        shall--\\n                    (A) manage the acquired land under the standards \\n                and guidelines in the applicable land and resource \\n                management plans for adjacent land managed by the \\n                Forest Service; and\\n                    (B) maintain all existing public access to the \\n                acquired land.\\n    (f) Restoration.--\\n            (1) In general.--The Secretary shall implement a \\n        restoration program including reforestation and watershed \\n        enhancements to bring the acquired land and surrounding \\n        national forest land into compliance with Forest Service \\n        standards and guidelines.\\n            (2) State and local conservation corps.--In implementing \\n        the restoration program, the Secretary shall, when practicable, \\n        use partnerships with State and local conservation corps, \\n        including the Montana Conservation Corps, under the Public \\n        Lands Corps Act of 1993 (16 U.S.C. 1721 et seq.).\\n    (g) Implementation.--The Secretary of Agriculture shall ensure that \\nsufficient funds are made available to the Gallatin National Forest to \\ncarry out this Act.\\n    (i) Revocations.--Notwithstanding any other provision of law, any \\npublic orders withdrawing lands identified in the Option Agreement from \\nall forms of appropriation under the public land laws are revoked upon \\nconveyance of the lands by the Secretary.\\n\\nSEC. 7. AUTHORIZATION OF APPROPRIATIONS.\\n\\n    There are authorized to be appropriated such sums as are necessary \\nto carry out this Act.\\n\\n            Passed the Senate October 2, 1998.\\n\\n            Attest:\\n\\n                                                    GARY SISCO,\\n\\n                                                             Secretary.\"}\n",
            "Error Type: BadRequestError, Message: Error code: 400 - {'error': {'message': \"This model's maximum context length is 4097 tokens, however you requested 4212 tokens (3956 in your prompt; 256 for the completion). Please reduce your prompt; or completion length.\", 'type': 'invalid_request_error', 'param': None, 'code': None}}\n"
          ]
        },
        {
          "output_type": "stream",
          "name": "stdout",
          "text": [
            "[------------------------------------------------->] 10/10\n"
          ]
        }
      ],
      "source": [
        "project_name = f\"OpenAI {datetime.datetime.now().strftime('%Y-%m-%d %H:%M:%S')}\"\n",
        "\n",
        "finetuned_t5_results = run_on_dataset(\n",
        "    client=client,\n",
        "    project_name=project_name,\n",
        "    dataset_name=NAME_DATASET,\n",
        "    llm_or_chain_factory=open_aillm,\n",
        "    evaluation=evaluation_config,\n",
        ")"
      ]
    },
    {
      "cell_type": "markdown",
      "id": "B15V_-3pBvOK",
      "metadata": {
        "id": "B15V_-3pBvOK"
      },
      "source": [
        "<img src=\"https://github.com/peremartra/Large-Language-Model-Notebooks-Course/blob/main/img/Martra_Figure_4_2SDL_CompareOpenAI_HF.jpg?raw=true\">"
      ]
    },
    {
      "cell_type": "markdown",
      "id": "fUeZWvLMCOBw",
      "metadata": {
        "id": "fUeZWvLMCOBw"
      },
      "source": [
        "The experiment with the OpenAI model has yielded the best results. But, be aware! As we can see, there is a cost involved since we are using an API, and it needs to be paid for.\n",
        "\n",
        "Another crucial piece of information is that we can view performance data for the models. This data could also be useful for minimally evaluating our inference server."
      ]
    },
    {
      "cell_type": "code",
      "metadata": {
        "colab": {
          "base_uri": "https://localhost:8080/"
        },
        "id": "7eeab98a",
        "outputId": "32d5a661-a761-418d-b3e6-192f8b815b69"
      },
      "source": [
        "%pip install -q langchain-community"
      ],
      "id": "7eeab98a",
      "execution_count": 25,
      "outputs": [
        {
          "output_type": "stream",
          "name": "stdout",
          "text": [
            "\u001b[?25l   \u001b[90m━━━━━━━━━━━━━━━━━━━━━━━━━━━━━━━━━━━━━━━━\u001b[0m \u001b[32m0.0/2.5 MB\u001b[0m \u001b[31m?\u001b[0m eta \u001b[36m-:--:--\u001b[0m\r\u001b[2K   \u001b[91m━━━━━━━━━━━━━━━━━━━━━━━━━━━━━━━━━━━━━━\u001b[0m\u001b[91m╸\u001b[0m\u001b[90m━\u001b[0m \u001b[32m2.5/2.5 MB\u001b[0m \u001b[31m81.5 MB/s\u001b[0m eta \u001b[36m0:00:01\u001b[0m\r\u001b[2K   \u001b[90m━━━━━━━━━━━━━━━━━━━━━━━━━━━━━━━━━━━━━━━━\u001b[0m \u001b[32m2.5/2.5 MB\u001b[0m \u001b[31m38.4 MB/s\u001b[0m eta \u001b[36m0:00:00\u001b[0m\n",
            "\u001b[2K   \u001b[90m━━━━━━━━━━━━━━━━━━━━━━━━━━━━━━━━━━━━━━━━\u001b[0m \u001b[32m64.7/64.7 kB\u001b[0m \u001b[31m3.6 MB/s\u001b[0m eta \u001b[36m0:00:00\u001b[0m\n",
            "\u001b[2K   \u001b[90m━━━━━━━━━━━━━━━━━━━━━━━━━━━━━━━━━━━━━━━━\u001b[0m \u001b[32m50.9/50.9 kB\u001b[0m \u001b[31m2.1 MB/s\u001b[0m eta \u001b[36m0:00:00\u001b[0m\n",
            "\u001b[?25h\u001b[31mERROR: pip's dependency resolver does not currently take into account all the packages that are installed. This behaviour is the source of the following dependency conflicts.\n",
            "google-colab 1.0.0 requires requests==2.32.4, but you have requests 2.32.5 which is incompatible.\u001b[0m\u001b[31m\n",
            "\u001b[0m"
          ]
        }
      ]
    },
    {
      "cell_type": "code",
      "metadata": {
        "id": "cd94673b"
      },
      "source": [
        "import os\n",
        "os.environ[\"OPENAI_API_KEY\"] = OPENAI_API_KEY"
      ],
      "id": "cd94673b",
      "execution_count": 32,
      "outputs": []
    },
    {
      "cell_type": "code",
      "metadata": {
        "colab": {
          "base_uri": "https://localhost:8080/"
        },
        "id": "97b82415",
        "outputId": "054b32d4-8875-402b-f17c-688a8fd381e3"
      },
      "source": [
        "%pip install -q langchain-openai"
      ],
      "id": "97b82415",
      "execution_count": 36,
      "outputs": [
        {
          "output_type": "stream",
          "name": "stdout",
          "text": [
            "\u001b[?25l   \u001b[90m━━━━━━━━━━━━━━━━━━━━━━━━━━━━━━━━━━━━━━━━\u001b[0m \u001b[32m0.0/74.5 kB\u001b[0m \u001b[31m?\u001b[0m eta \u001b[36m-:--:--\u001b[0m\r\u001b[2K   \u001b[90m━━━━━━━━━━━━━━━━━━━━━━━━━━━━━━━━━━━━━━━━\u001b[0m \u001b[32m74.5/74.5 kB\u001b[0m \u001b[31m3.6 MB/s\u001b[0m eta \u001b[36m0:00:00\u001b[0m\n",
            "\u001b[?25h"
          ]
        }
      ]
    }
  ],
  "metadata": {
    "colab": {
      "provenance": []
    },
    "kernelspec": {
      "display_name": "Python 3 (ipykernel)",
      "language": "python",
      "name": "python3"
    },
    "language_info": {
      "codemirror_mode": {
        "name": "ipython",
        "version": 3
      },
      "file_extension": ".py",
      "mimetype": "text/x-python",
      "name": "python",
      "nbconvert_exporter": "python",
      "pygments_lexer": "ipython3",
      "version": "3.11.8"
    },
    "widgets": {
      "application/vnd.jupyter.widget-state+json": {
        "e8b3fd29e52047c2ba301d61d4b4b86a": {
          "model_module": "@jupyter-widgets/controls",
          "model_name": "HBoxModel",
          "model_module_version": "1.5.0",
          "state": {
            "_dom_classes": [],
            "_model_module": "@jupyter-widgets/controls",
            "_model_module_version": "1.5.0",
            "_model_name": "HBoxModel",
            "_view_count": null,
            "_view_module": "@jupyter-widgets/controls",
            "_view_module_version": "1.5.0",
            "_view_name": "HBoxView",
            "box_style": "",
            "children": [
              "IPY_MODEL_80d7b069b9304445ba9494ea385206df",
              "IPY_MODEL_e0a95404c6024971a7a6de2dfa566c5d",
              "IPY_MODEL_be0a7e8c230c4875b28e81b3fcdc3172"
            ],
            "layout": "IPY_MODEL_24b3d87253f14188badfbcfeeb170df4"
          }
        },
        "80d7b069b9304445ba9494ea385206df": {
          "model_module": "@jupyter-widgets/controls",
          "model_name": "HTMLModel",
          "model_module_version": "1.5.0",
          "state": {
            "_dom_classes": [],
            "_model_module": "@jupyter-widgets/controls",
            "_model_module_version": "1.5.0",
            "_model_name": "HTMLModel",
            "_view_count": null,
            "_view_module": "@jupyter-widgets/controls",
            "_view_module_version": "1.5.0",
            "_view_name": "HTMLView",
            "description": "",
            "description_tooltip": null,
            "layout": "IPY_MODEL_7d5982f69bc74fcba80f2bd238311381",
            "placeholder": "​",
            "style": "IPY_MODEL_89db25646c1e4201b87d664684575150",
            "value": "README.md: "
          }
        },
        "e0a95404c6024971a7a6de2dfa566c5d": {
          "model_module": "@jupyter-widgets/controls",
          "model_name": "FloatProgressModel",
          "model_module_version": "1.5.0",
          "state": {
            "_dom_classes": [],
            "_model_module": "@jupyter-widgets/controls",
            "_model_module_version": "1.5.0",
            "_model_name": "FloatProgressModel",
            "_view_count": null,
            "_view_module": "@jupyter-widgets/controls",
            "_view_module_version": "1.5.0",
            "_view_name": "ProgressView",
            "bar_style": "success",
            "description": "",
            "description_tooltip": null,
            "layout": "IPY_MODEL_70ed5c57218f438a91276b7c4e465b08",
            "max": 1,
            "min": 0,
            "orientation": "horizontal",
            "style": "IPY_MODEL_7d6d831c811f4a628f9bbbf3da21d422",
            "value": 1
          }
        },
        "be0a7e8c230c4875b28e81b3fcdc3172": {
          "model_module": "@jupyter-widgets/controls",
          "model_name": "HTMLModel",
          "model_module_version": "1.5.0",
          "state": {
            "_dom_classes": [],
            "_model_module": "@jupyter-widgets/controls",
            "_model_module_version": "1.5.0",
            "_model_name": "HTMLModel",
            "_view_count": null,
            "_view_module": "@jupyter-widgets/controls",
            "_view_module_version": "1.5.0",
            "_view_name": "HTMLView",
            "description": "",
            "description_tooltip": null,
            "layout": "IPY_MODEL_1eacaab640cd4e7c800c75cd6f053560",
            "placeholder": "​",
            "style": "IPY_MODEL_8dc2d44e25a84af8a6ef5f93f7405276",
            "value": " 7.27k/? [00:00&lt;00:00, 318kB/s]"
          }
        },
        "24b3d87253f14188badfbcfeeb170df4": {
          "model_module": "@jupyter-widgets/base",
          "model_name": "LayoutModel",
          "model_module_version": "1.2.0",
          "state": {
            "_model_module": "@jupyter-widgets/base",
            "_model_module_version": "1.2.0",
            "_model_name": "LayoutModel",
            "_view_count": null,
            "_view_module": "@jupyter-widgets/base",
            "_view_module_version": "1.2.0",
            "_view_name": "LayoutView",
            "align_content": null,
            "align_items": null,
            "align_self": null,
            "border": null,
            "bottom": null,
            "display": null,
            "flex": null,
            "flex_flow": null,
            "grid_area": null,
            "grid_auto_columns": null,
            "grid_auto_flow": null,
            "grid_auto_rows": null,
            "grid_column": null,
            "grid_gap": null,
            "grid_row": null,
            "grid_template_areas": null,
            "grid_template_columns": null,
            "grid_template_rows": null,
            "height": null,
            "justify_content": null,
            "justify_items": null,
            "left": null,
            "margin": null,
            "max_height": null,
            "max_width": null,
            "min_height": null,
            "min_width": null,
            "object_fit": null,
            "object_position": null,
            "order": null,
            "overflow": null,
            "overflow_x": null,
            "overflow_y": null,
            "padding": null,
            "right": null,
            "top": null,
            "visibility": null,
            "width": null
          }
        },
        "7d5982f69bc74fcba80f2bd238311381": {
          "model_module": "@jupyter-widgets/base",
          "model_name": "LayoutModel",
          "model_module_version": "1.2.0",
          "state": {
            "_model_module": "@jupyter-widgets/base",
            "_model_module_version": "1.2.0",
            "_model_name": "LayoutModel",
            "_view_count": null,
            "_view_module": "@jupyter-widgets/base",
            "_view_module_version": "1.2.0",
            "_view_name": "LayoutView",
            "align_content": null,
            "align_items": null,
            "align_self": null,
            "border": null,
            "bottom": null,
            "display": null,
            "flex": null,
            "flex_flow": null,
            "grid_area": null,
            "grid_auto_columns": null,
            "grid_auto_flow": null,
            "grid_auto_rows": null,
            "grid_column": null,
            "grid_gap": null,
            "grid_row": null,
            "grid_template_areas": null,
            "grid_template_columns": null,
            "grid_template_rows": null,
            "height": null,
            "justify_content": null,
            "justify_items": null,
            "left": null,
            "margin": null,
            "max_height": null,
            "max_width": null,
            "min_height": null,
            "min_width": null,
            "object_fit": null,
            "object_position": null,
            "order": null,
            "overflow": null,
            "overflow_x": null,
            "overflow_y": null,
            "padding": null,
            "right": null,
            "top": null,
            "visibility": null,
            "width": null
          }
        },
        "89db25646c1e4201b87d664684575150": {
          "model_module": "@jupyter-widgets/controls",
          "model_name": "DescriptionStyleModel",
          "model_module_version": "1.5.0",
          "state": {
            "_model_module": "@jupyter-widgets/controls",
            "_model_module_version": "1.5.0",
            "_model_name": "DescriptionStyleModel",
            "_view_count": null,
            "_view_module": "@jupyter-widgets/base",
            "_view_module_version": "1.2.0",
            "_view_name": "StyleView",
            "description_width": ""
          }
        },
        "70ed5c57218f438a91276b7c4e465b08": {
          "model_module": "@jupyter-widgets/base",
          "model_name": "LayoutModel",
          "model_module_version": "1.2.0",
          "state": {
            "_model_module": "@jupyter-widgets/base",
            "_model_module_version": "1.2.0",
            "_model_name": "LayoutModel",
            "_view_count": null,
            "_view_module": "@jupyter-widgets/base",
            "_view_module_version": "1.2.0",
            "_view_name": "LayoutView",
            "align_content": null,
            "align_items": null,
            "align_self": null,
            "border": null,
            "bottom": null,
            "display": null,
            "flex": null,
            "flex_flow": null,
            "grid_area": null,
            "grid_auto_columns": null,
            "grid_auto_flow": null,
            "grid_auto_rows": null,
            "grid_column": null,
            "grid_gap": null,
            "grid_row": null,
            "grid_template_areas": null,
            "grid_template_columns": null,
            "grid_template_rows": null,
            "height": null,
            "justify_content": null,
            "justify_items": null,
            "left": null,
            "margin": null,
            "max_height": null,
            "max_width": null,
            "min_height": null,
            "min_width": null,
            "object_fit": null,
            "object_position": null,
            "order": null,
            "overflow": null,
            "overflow_x": null,
            "overflow_y": null,
            "padding": null,
            "right": null,
            "top": null,
            "visibility": null,
            "width": "20px"
          }
        },
        "7d6d831c811f4a628f9bbbf3da21d422": {
          "model_module": "@jupyter-widgets/controls",
          "model_name": "ProgressStyleModel",
          "model_module_version": "1.5.0",
          "state": {
            "_model_module": "@jupyter-widgets/controls",
            "_model_module_version": "1.5.0",
            "_model_name": "ProgressStyleModel",
            "_view_count": null,
            "_view_module": "@jupyter-widgets/base",
            "_view_module_version": "1.2.0",
            "_view_name": "StyleView",
            "bar_color": null,
            "description_width": ""
          }
        },
        "1eacaab640cd4e7c800c75cd6f053560": {
          "model_module": "@jupyter-widgets/base",
          "model_name": "LayoutModel",
          "model_module_version": "1.2.0",
          "state": {
            "_model_module": "@jupyter-widgets/base",
            "_model_module_version": "1.2.0",
            "_model_name": "LayoutModel",
            "_view_count": null,
            "_view_module": "@jupyter-widgets/base",
            "_view_module_version": "1.2.0",
            "_view_name": "LayoutView",
            "align_content": null,
            "align_items": null,
            "align_self": null,
            "border": null,
            "bottom": null,
            "display": null,
            "flex": null,
            "flex_flow": null,
            "grid_area": null,
            "grid_auto_columns": null,
            "grid_auto_flow": null,
            "grid_auto_rows": null,
            "grid_column": null,
            "grid_gap": null,
            "grid_row": null,
            "grid_template_areas": null,
            "grid_template_columns": null,
            "grid_template_rows": null,
            "height": null,
            "justify_content": null,
            "justify_items": null,
            "left": null,
            "margin": null,
            "max_height": null,
            "max_width": null,
            "min_height": null,
            "min_width": null,
            "object_fit": null,
            "object_position": null,
            "order": null,
            "overflow": null,
            "overflow_x": null,
            "overflow_y": null,
            "padding": null,
            "right": null,
            "top": null,
            "visibility": null,
            "width": null
          }
        },
        "8dc2d44e25a84af8a6ef5f93f7405276": {
          "model_module": "@jupyter-widgets/controls",
          "model_name": "DescriptionStyleModel",
          "model_module_version": "1.5.0",
          "state": {
            "_model_module": "@jupyter-widgets/controls",
            "_model_module_version": "1.5.0",
            "_model_name": "DescriptionStyleModel",
            "_view_count": null,
            "_view_module": "@jupyter-widgets/base",
            "_view_module_version": "1.2.0",
            "_view_name": "StyleView",
            "description_width": ""
          }
        },
        "ed65c39c96d94c8b8d0b237422d5b105": {
          "model_module": "@jupyter-widgets/controls",
          "model_name": "HBoxModel",
          "model_module_version": "1.5.0",
          "state": {
            "_dom_classes": [],
            "_model_module": "@jupyter-widgets/controls",
            "_model_module_version": "1.5.0",
            "_model_name": "HBoxModel",
            "_view_count": null,
            "_view_module": "@jupyter-widgets/controls",
            "_view_module_version": "1.5.0",
            "_view_name": "HBoxView",
            "box_style": "",
            "children": [
              "IPY_MODEL_2c1a188614f74be6b82ed3c01d6483ae",
              "IPY_MODEL_10c8d45361754a1aaf9e0e2088284759",
              "IPY_MODEL_5d97403d1b9a45a9bf66ad8f28b277b8"
            ],
            "layout": "IPY_MODEL_eb82122bdc4a4849bf9d2ffa20650384"
          }
        },
        "2c1a188614f74be6b82ed3c01d6483ae": {
          "model_module": "@jupyter-widgets/controls",
          "model_name": "HTMLModel",
          "model_module_version": "1.5.0",
          "state": {
            "_dom_classes": [],
            "_model_module": "@jupyter-widgets/controls",
            "_model_module_version": "1.5.0",
            "_model_name": "HTMLModel",
            "_view_count": null,
            "_view_module": "@jupyter-widgets/controls",
            "_view_module_version": "1.5.0",
            "_view_name": "HTMLView",
            "description": "",
            "description_tooltip": null,
            "layout": "IPY_MODEL_2a0dccd97a7946f68c309a36d02a7f0d",
            "placeholder": "​",
            "style": "IPY_MODEL_31d205d546364167a46e820ea83b8564",
            "value": "data/train-00000-of-00001.parquet: 100%"
          }
        },
        "10c8d45361754a1aaf9e0e2088284759": {
          "model_module": "@jupyter-widgets/controls",
          "model_name": "FloatProgressModel",
          "model_module_version": "1.5.0",
          "state": {
            "_dom_classes": [],
            "_model_module": "@jupyter-widgets/controls",
            "_model_module_version": "1.5.0",
            "_model_name": "FloatProgressModel",
            "_view_count": null,
            "_view_module": "@jupyter-widgets/controls",
            "_view_module_version": "1.5.0",
            "_view_name": "ProgressView",
            "bar_style": "success",
            "description": "",
            "description_tooltip": null,
            "layout": "IPY_MODEL_dc227bca5b394bbf900ae4c41fa97b73",
            "max": 91811112,
            "min": 0,
            "orientation": "horizontal",
            "style": "IPY_MODEL_a4fa5d137da44dc8bc38fbdf25c8c98c",
            "value": 91811112
          }
        },
        "5d97403d1b9a45a9bf66ad8f28b277b8": {
          "model_module": "@jupyter-widgets/controls",
          "model_name": "HTMLModel",
          "model_module_version": "1.5.0",
          "state": {
            "_dom_classes": [],
            "_model_module": "@jupyter-widgets/controls",
            "_model_module_version": "1.5.0",
            "_model_name": "HTMLModel",
            "_view_count": null,
            "_view_module": "@jupyter-widgets/controls",
            "_view_module_version": "1.5.0",
            "_view_name": "HTMLView",
            "description": "",
            "description_tooltip": null,
            "layout": "IPY_MODEL_d1244215d9e4492faf2d9e552b162cca",
            "placeholder": "​",
            "style": "IPY_MODEL_6493b2ab5d0c41a991d9fccddc229c3c",
            "value": " 91.8M/91.8M [00:01&lt;00:00, 59.2MB/s]"
          }
        },
        "eb82122bdc4a4849bf9d2ffa20650384": {
          "model_module": "@jupyter-widgets/base",
          "model_name": "LayoutModel",
          "model_module_version": "1.2.0",
          "state": {
            "_model_module": "@jupyter-widgets/base",
            "_model_module_version": "1.2.0",
            "_model_name": "LayoutModel",
            "_view_count": null,
            "_view_module": "@jupyter-widgets/base",
            "_view_module_version": "1.2.0",
            "_view_name": "LayoutView",
            "align_content": null,
            "align_items": null,
            "align_self": null,
            "border": null,
            "bottom": null,
            "display": null,
            "flex": null,
            "flex_flow": null,
            "grid_area": null,
            "grid_auto_columns": null,
            "grid_auto_flow": null,
            "grid_auto_rows": null,
            "grid_column": null,
            "grid_gap": null,
            "grid_row": null,
            "grid_template_areas": null,
            "grid_template_columns": null,
            "grid_template_rows": null,
            "height": null,
            "justify_content": null,
            "justify_items": null,
            "left": null,
            "margin": null,
            "max_height": null,
            "max_width": null,
            "min_height": null,
            "min_width": null,
            "object_fit": null,
            "object_position": null,
            "order": null,
            "overflow": null,
            "overflow_x": null,
            "overflow_y": null,
            "padding": null,
            "right": null,
            "top": null,
            "visibility": null,
            "width": null
          }
        },
        "2a0dccd97a7946f68c309a36d02a7f0d": {
          "model_module": "@jupyter-widgets/base",
          "model_name": "LayoutModel",
          "model_module_version": "1.2.0",
          "state": {
            "_model_module": "@jupyter-widgets/base",
            "_model_module_version": "1.2.0",
            "_model_name": "LayoutModel",
            "_view_count": null,
            "_view_module": "@jupyter-widgets/base",
            "_view_module_version": "1.2.0",
            "_view_name": "LayoutView",
            "align_content": null,
            "align_items": null,
            "align_self": null,
            "border": null,
            "bottom": null,
            "display": null,
            "flex": null,
            "flex_flow": null,
            "grid_area": null,
            "grid_auto_columns": null,
            "grid_auto_flow": null,
            "grid_auto_rows": null,
            "grid_column": null,
            "grid_gap": null,
            "grid_row": null,
            "grid_template_areas": null,
            "grid_template_columns": null,
            "grid_template_rows": null,
            "height": null,
            "justify_content": null,
            "justify_items": null,
            "left": null,
            "margin": null,
            "max_height": null,
            "max_width": null,
            "min_height": null,
            "min_width": null,
            "object_fit": null,
            "object_position": null,
            "order": null,
            "overflow": null,
            "overflow_x": null,
            "overflow_y": null,
            "padding": null,
            "right": null,
            "top": null,
            "visibility": null,
            "width": null
          }
        },
        "31d205d546364167a46e820ea83b8564": {
          "model_module": "@jupyter-widgets/controls",
          "model_name": "DescriptionStyleModel",
          "model_module_version": "1.5.0",
          "state": {
            "_model_module": "@jupyter-widgets/controls",
            "_model_module_version": "1.5.0",
            "_model_name": "DescriptionStyleModel",
            "_view_count": null,
            "_view_module": "@jupyter-widgets/base",
            "_view_module_version": "1.2.0",
            "_view_name": "StyleView",
            "description_width": ""
          }
        },
        "dc227bca5b394bbf900ae4c41fa97b73": {
          "model_module": "@jupyter-widgets/base",
          "model_name": "LayoutModel",
          "model_module_version": "1.2.0",
          "state": {
            "_model_module": "@jupyter-widgets/base",
            "_model_module_version": "1.2.0",
            "_model_name": "LayoutModel",
            "_view_count": null,
            "_view_module": "@jupyter-widgets/base",
            "_view_module_version": "1.2.0",
            "_view_name": "LayoutView",
            "align_content": null,
            "align_items": null,
            "align_self": null,
            "border": null,
            "bottom": null,
            "display": null,
            "flex": null,
            "flex_flow": null,
            "grid_area": null,
            "grid_auto_columns": null,
            "grid_auto_flow": null,
            "grid_auto_rows": null,
            "grid_column": null,
            "grid_gap": null,
            "grid_row": null,
            "grid_template_areas": null,
            "grid_template_columns": null,
            "grid_template_rows": null,
            "height": null,
            "justify_content": null,
            "justify_items": null,
            "left": null,
            "margin": null,
            "max_height": null,
            "max_width": null,
            "min_height": null,
            "min_width": null,
            "object_fit": null,
            "object_position": null,
            "order": null,
            "overflow": null,
            "overflow_x": null,
            "overflow_y": null,
            "padding": null,
            "right": null,
            "top": null,
            "visibility": null,
            "width": null
          }
        },
        "a4fa5d137da44dc8bc38fbdf25c8c98c": {
          "model_module": "@jupyter-widgets/controls",
          "model_name": "ProgressStyleModel",
          "model_module_version": "1.5.0",
          "state": {
            "_model_module": "@jupyter-widgets/controls",
            "_model_module_version": "1.5.0",
            "_model_name": "ProgressStyleModel",
            "_view_count": null,
            "_view_module": "@jupyter-widgets/base",
            "_view_module_version": "1.2.0",
            "_view_name": "StyleView",
            "bar_color": null,
            "description_width": ""
          }
        },
        "d1244215d9e4492faf2d9e552b162cca": {
          "model_module": "@jupyter-widgets/base",
          "model_name": "LayoutModel",
          "model_module_version": "1.2.0",
          "state": {
            "_model_module": "@jupyter-widgets/base",
            "_model_module_version": "1.2.0",
            "_model_name": "LayoutModel",
            "_view_count": null,
            "_view_module": "@jupyter-widgets/base",
            "_view_module_version": "1.2.0",
            "_view_name": "LayoutView",
            "align_content": null,
            "align_items": null,
            "align_self": null,
            "border": null,
            "bottom": null,
            "display": null,
            "flex": null,
            "flex_flow": null,
            "grid_area": null,
            "grid_auto_columns": null,
            "grid_auto_flow": null,
            "grid_auto_rows": null,
            "grid_column": null,
            "grid_gap": null,
            "grid_row": null,
            "grid_template_areas": null,
            "grid_template_columns": null,
            "grid_template_rows": null,
            "height": null,
            "justify_content": null,
            "justify_items": null,
            "left": null,
            "margin": null,
            "max_height": null,
            "max_width": null,
            "min_height": null,
            "min_width": null,
            "object_fit": null,
            "object_position": null,
            "order": null,
            "overflow": null,
            "overflow_x": null,
            "overflow_y": null,
            "padding": null,
            "right": null,
            "top": null,
            "visibility": null,
            "width": null
          }
        },
        "6493b2ab5d0c41a991d9fccddc229c3c": {
          "model_module": "@jupyter-widgets/controls",
          "model_name": "DescriptionStyleModel",
          "model_module_version": "1.5.0",
          "state": {
            "_model_module": "@jupyter-widgets/controls",
            "_model_module_version": "1.5.0",
            "_model_name": "DescriptionStyleModel",
            "_view_count": null,
            "_view_module": "@jupyter-widgets/base",
            "_view_module_version": "1.2.0",
            "_view_name": "StyleView",
            "description_width": ""
          }
        },
        "25bf6c2a62864932845444cc9dcfa888": {
          "model_module": "@jupyter-widgets/controls",
          "model_name": "HBoxModel",
          "model_module_version": "1.5.0",
          "state": {
            "_dom_classes": [],
            "_model_module": "@jupyter-widgets/controls",
            "_model_module_version": "1.5.0",
            "_model_name": "HBoxModel",
            "_view_count": null,
            "_view_module": "@jupyter-widgets/controls",
            "_view_module_version": "1.5.0",
            "_view_name": "HBoxView",
            "box_style": "",
            "children": [
              "IPY_MODEL_f36e1fda2c3d4453b7b4951e5179cef0",
              "IPY_MODEL_83ad30f97c3f4a3298a3839d3dde25bf",
              "IPY_MODEL_39f73c2830eb4303826dce3abbe1790a"
            ],
            "layout": "IPY_MODEL_5d7b25761f0d4fad97901fba22aa0d19"
          }
        },
        "f36e1fda2c3d4453b7b4951e5179cef0": {
          "model_module": "@jupyter-widgets/controls",
          "model_name": "HTMLModel",
          "model_module_version": "1.5.0",
          "state": {
            "_dom_classes": [],
            "_model_module": "@jupyter-widgets/controls",
            "_model_module_version": "1.5.0",
            "_model_name": "HTMLModel",
            "_view_count": null,
            "_view_module": "@jupyter-widgets/controls",
            "_view_module_version": "1.5.0",
            "_view_name": "HTMLView",
            "description": "",
            "description_tooltip": null,
            "layout": "IPY_MODEL_d8dc5054f0a84bc2902cb16cf5efc6a1",
            "placeholder": "​",
            "style": "IPY_MODEL_3ebafc0083264574867a829a21c6e2f6",
            "value": "data/test-00000-of-00001.parquet: 100%"
          }
        },
        "83ad30f97c3f4a3298a3839d3dde25bf": {
          "model_module": "@jupyter-widgets/controls",
          "model_name": "FloatProgressModel",
          "model_module_version": "1.5.0",
          "state": {
            "_dom_classes": [],
            "_model_module": "@jupyter-widgets/controls",
            "_model_module_version": "1.5.0",
            "_model_name": "FloatProgressModel",
            "_view_count": null,
            "_view_module": "@jupyter-widgets/controls",
            "_view_module_version": "1.5.0",
            "_view_name": "ProgressView",
            "bar_style": "success",
            "description": "",
            "description_tooltip": null,
            "layout": "IPY_MODEL_8333affe32fc4e7b808c2be9948ee82c",
            "max": 15797079,
            "min": 0,
            "orientation": "horizontal",
            "style": "IPY_MODEL_21bc7da9fb4c4e3490b42274a49e6ec9",
            "value": 15797079
          }
        },
        "39f73c2830eb4303826dce3abbe1790a": {
          "model_module": "@jupyter-widgets/controls",
          "model_name": "HTMLModel",
          "model_module_version": "1.5.0",
          "state": {
            "_dom_classes": [],
            "_model_module": "@jupyter-widgets/controls",
            "_model_module_version": "1.5.0",
            "_model_name": "HTMLModel",
            "_view_count": null,
            "_view_module": "@jupyter-widgets/controls",
            "_view_module_version": "1.5.0",
            "_view_name": "HTMLView",
            "description": "",
            "description_tooltip": null,
            "layout": "IPY_MODEL_a83667858cfa4d93b08a631ea650b245",
            "placeholder": "​",
            "style": "IPY_MODEL_df1a86ab211b418ea6e1698ba0e69ea5",
            "value": " 15.8M/15.8M [00:00&lt;00:00, 37.6MB/s]"
          }
        },
        "5d7b25761f0d4fad97901fba22aa0d19": {
          "model_module": "@jupyter-widgets/base",
          "model_name": "LayoutModel",
          "model_module_version": "1.2.0",
          "state": {
            "_model_module": "@jupyter-widgets/base",
            "_model_module_version": "1.2.0",
            "_model_name": "LayoutModel",
            "_view_count": null,
            "_view_module": "@jupyter-widgets/base",
            "_view_module_version": "1.2.0",
            "_view_name": "LayoutView",
            "align_content": null,
            "align_items": null,
            "align_self": null,
            "border": null,
            "bottom": null,
            "display": null,
            "flex": null,
            "flex_flow": null,
            "grid_area": null,
            "grid_auto_columns": null,
            "grid_auto_flow": null,
            "grid_auto_rows": null,
            "grid_column": null,
            "grid_gap": null,
            "grid_row": null,
            "grid_template_areas": null,
            "grid_template_columns": null,
            "grid_template_rows": null,
            "height": null,
            "justify_content": null,
            "justify_items": null,
            "left": null,
            "margin": null,
            "max_height": null,
            "max_width": null,
            "min_height": null,
            "min_width": null,
            "object_fit": null,
            "object_position": null,
            "order": null,
            "overflow": null,
            "overflow_x": null,
            "overflow_y": null,
            "padding": null,
            "right": null,
            "top": null,
            "visibility": null,
            "width": null
          }
        },
        "d8dc5054f0a84bc2902cb16cf5efc6a1": {
          "model_module": "@jupyter-widgets/base",
          "model_name": "LayoutModel",
          "model_module_version": "1.2.0",
          "state": {
            "_model_module": "@jupyter-widgets/base",
            "_model_module_version": "1.2.0",
            "_model_name": "LayoutModel",
            "_view_count": null,
            "_view_module": "@jupyter-widgets/base",
            "_view_module_version": "1.2.0",
            "_view_name": "LayoutView",
            "align_content": null,
            "align_items": null,
            "align_self": null,
            "border": null,
            "bottom": null,
            "display": null,
            "flex": null,
            "flex_flow": null,
            "grid_area": null,
            "grid_auto_columns": null,
            "grid_auto_flow": null,
            "grid_auto_rows": null,
            "grid_column": null,
            "grid_gap": null,
            "grid_row": null,
            "grid_template_areas": null,
            "grid_template_columns": null,
            "grid_template_rows": null,
            "height": null,
            "justify_content": null,
            "justify_items": null,
            "left": null,
            "margin": null,
            "max_height": null,
            "max_width": null,
            "min_height": null,
            "min_width": null,
            "object_fit": null,
            "object_position": null,
            "order": null,
            "overflow": null,
            "overflow_x": null,
            "overflow_y": null,
            "padding": null,
            "right": null,
            "top": null,
            "visibility": null,
            "width": null
          }
        },
        "3ebafc0083264574867a829a21c6e2f6": {
          "model_module": "@jupyter-widgets/controls",
          "model_name": "DescriptionStyleModel",
          "model_module_version": "1.5.0",
          "state": {
            "_model_module": "@jupyter-widgets/controls",
            "_model_module_version": "1.5.0",
            "_model_name": "DescriptionStyleModel",
            "_view_count": null,
            "_view_module": "@jupyter-widgets/base",
            "_view_module_version": "1.2.0",
            "_view_name": "StyleView",
            "description_width": ""
          }
        },
        "8333affe32fc4e7b808c2be9948ee82c": {
          "model_module": "@jupyter-widgets/base",
          "model_name": "LayoutModel",
          "model_module_version": "1.2.0",
          "state": {
            "_model_module": "@jupyter-widgets/base",
            "_model_module_version": "1.2.0",
            "_model_name": "LayoutModel",
            "_view_count": null,
            "_view_module": "@jupyter-widgets/base",
            "_view_module_version": "1.2.0",
            "_view_name": "LayoutView",
            "align_content": null,
            "align_items": null,
            "align_self": null,
            "border": null,
            "bottom": null,
            "display": null,
            "flex": null,
            "flex_flow": null,
            "grid_area": null,
            "grid_auto_columns": null,
            "grid_auto_flow": null,
            "grid_auto_rows": null,
            "grid_column": null,
            "grid_gap": null,
            "grid_row": null,
            "grid_template_areas": null,
            "grid_template_columns": null,
            "grid_template_rows": null,
            "height": null,
            "justify_content": null,
            "justify_items": null,
            "left": null,
            "margin": null,
            "max_height": null,
            "max_width": null,
            "min_height": null,
            "min_width": null,
            "object_fit": null,
            "object_position": null,
            "order": null,
            "overflow": null,
            "overflow_x": null,
            "overflow_y": null,
            "padding": null,
            "right": null,
            "top": null,
            "visibility": null,
            "width": null
          }
        },
        "21bc7da9fb4c4e3490b42274a49e6ec9": {
          "model_module": "@jupyter-widgets/controls",
          "model_name": "ProgressStyleModel",
          "model_module_version": "1.5.0",
          "state": {
            "_model_module": "@jupyter-widgets/controls",
            "_model_module_version": "1.5.0",
            "_model_name": "ProgressStyleModel",
            "_view_count": null,
            "_view_module": "@jupyter-widgets/base",
            "_view_module_version": "1.2.0",
            "_view_name": "StyleView",
            "bar_color": null,
            "description_width": ""
          }
        },
        "a83667858cfa4d93b08a631ea650b245": {
          "model_module": "@jupyter-widgets/base",
          "model_name": "LayoutModel",
          "model_module_version": "1.2.0",
          "state": {
            "_model_module": "@jupyter-widgets/base",
            "_model_module_version": "1.2.0",
            "_model_name": "LayoutModel",
            "_view_count": null,
            "_view_module": "@jupyter-widgets/base",
            "_view_module_version": "1.2.0",
            "_view_name": "LayoutView",
            "align_content": null,
            "align_items": null,
            "align_self": null,
            "border": null,
            "bottom": null,
            "display": null,
            "flex": null,
            "flex_flow": null,
            "grid_area": null,
            "grid_auto_columns": null,
            "grid_auto_flow": null,
            "grid_auto_rows": null,
            "grid_column": null,
            "grid_gap": null,
            "grid_row": null,
            "grid_template_areas": null,
            "grid_template_columns": null,
            "grid_template_rows": null,
            "height": null,
            "justify_content": null,
            "justify_items": null,
            "left": null,
            "margin": null,
            "max_height": null,
            "max_width": null,
            "min_height": null,
            "min_width": null,
            "object_fit": null,
            "object_position": null,
            "order": null,
            "overflow": null,
            "overflow_x": null,
            "overflow_y": null,
            "padding": null,
            "right": null,
            "top": null,
            "visibility": null,
            "width": null
          }
        },
        "df1a86ab211b418ea6e1698ba0e69ea5": {
          "model_module": "@jupyter-widgets/controls",
          "model_name": "DescriptionStyleModel",
          "model_module_version": "1.5.0",
          "state": {
            "_model_module": "@jupyter-widgets/controls",
            "_model_module_version": "1.5.0",
            "_model_name": "DescriptionStyleModel",
            "_view_count": null,
            "_view_module": "@jupyter-widgets/base",
            "_view_module_version": "1.2.0",
            "_view_name": "StyleView",
            "description_width": ""
          }
        },
        "10e1c92d8e154f4b8bfb2dd9cf7857d0": {
          "model_module": "@jupyter-widgets/controls",
          "model_name": "HBoxModel",
          "model_module_version": "1.5.0",
          "state": {
            "_dom_classes": [],
            "_model_module": "@jupyter-widgets/controls",
            "_model_module_version": "1.5.0",
            "_model_name": "HBoxModel",
            "_view_count": null,
            "_view_module": "@jupyter-widgets/controls",
            "_view_module_version": "1.5.0",
            "_view_name": "HBoxView",
            "box_style": "",
            "children": [
              "IPY_MODEL_5dde5c91a4334a6e93a8456ae220e9a4",
              "IPY_MODEL_2fd30be796064ade86ccf6586c767565",
              "IPY_MODEL_9ce2317c6a22435c99fdf5bd1c1bddde"
            ],
            "layout": "IPY_MODEL_e10cf3167567411bab53fb9535b3690e"
          }
        },
        "5dde5c91a4334a6e93a8456ae220e9a4": {
          "model_module": "@jupyter-widgets/controls",
          "model_name": "HTMLModel",
          "model_module_version": "1.5.0",
          "state": {
            "_dom_classes": [],
            "_model_module": "@jupyter-widgets/controls",
            "_model_module_version": "1.5.0",
            "_model_name": "HTMLModel",
            "_view_count": null,
            "_view_module": "@jupyter-widgets/controls",
            "_view_module_version": "1.5.0",
            "_view_name": "HTMLView",
            "description": "",
            "description_tooltip": null,
            "layout": "IPY_MODEL_28c16a0ecdca46058234448ec4e26f9c",
            "placeholder": "​",
            "style": "IPY_MODEL_8069e9b7790842feb713fa350ec22ebc",
            "value": "data/ca_test-00000-of-00001.parquet: 100%"
          }
        },
        "2fd30be796064ade86ccf6586c767565": {
          "model_module": "@jupyter-widgets/controls",
          "model_name": "FloatProgressModel",
          "model_module_version": "1.5.0",
          "state": {
            "_dom_classes": [],
            "_model_module": "@jupyter-widgets/controls",
            "_model_module_version": "1.5.0",
            "_model_name": "FloatProgressModel",
            "_view_count": null,
            "_view_module": "@jupyter-widgets/controls",
            "_view_module_version": "1.5.0",
            "_view_name": "ProgressView",
            "bar_style": "success",
            "description": "",
            "description_tooltip": null,
            "layout": "IPY_MODEL_580b198754144cbe8dfeaa7edbb8cddb",
            "max": 6121191,
            "min": 0,
            "orientation": "horizontal",
            "style": "IPY_MODEL_c22b089cce0b4708957582ef969294df",
            "value": 6121191
          }
        },
        "9ce2317c6a22435c99fdf5bd1c1bddde": {
          "model_module": "@jupyter-widgets/controls",
          "model_name": "HTMLModel",
          "model_module_version": "1.5.0",
          "state": {
            "_dom_classes": [],
            "_model_module": "@jupyter-widgets/controls",
            "_model_module_version": "1.5.0",
            "_model_name": "HTMLModel",
            "_view_count": null,
            "_view_module": "@jupyter-widgets/controls",
            "_view_module_version": "1.5.0",
            "_view_name": "HTMLView",
            "description": "",
            "description_tooltip": null,
            "layout": "IPY_MODEL_a0df65b8631842d0bd3fce730901335a",
            "placeholder": "​",
            "style": "IPY_MODEL_91975ba2b9314a2884e5e2a73d417396",
            "value": " 6.12M/6.12M [00:00&lt;00:00, 14.6MB/s]"
          }
        },
        "e10cf3167567411bab53fb9535b3690e": {
          "model_module": "@jupyter-widgets/base",
          "model_name": "LayoutModel",
          "model_module_version": "1.2.0",
          "state": {
            "_model_module": "@jupyter-widgets/base",
            "_model_module_version": "1.2.0",
            "_model_name": "LayoutModel",
            "_view_count": null,
            "_view_module": "@jupyter-widgets/base",
            "_view_module_version": "1.2.0",
            "_view_name": "LayoutView",
            "align_content": null,
            "align_items": null,
            "align_self": null,
            "border": null,
            "bottom": null,
            "display": null,
            "flex": null,
            "flex_flow": null,
            "grid_area": null,
            "grid_auto_columns": null,
            "grid_auto_flow": null,
            "grid_auto_rows": null,
            "grid_column": null,
            "grid_gap": null,
            "grid_row": null,
            "grid_template_areas": null,
            "grid_template_columns": null,
            "grid_template_rows": null,
            "height": null,
            "justify_content": null,
            "justify_items": null,
            "left": null,
            "margin": null,
            "max_height": null,
            "max_width": null,
            "min_height": null,
            "min_width": null,
            "object_fit": null,
            "object_position": null,
            "order": null,
            "overflow": null,
            "overflow_x": null,
            "overflow_y": null,
            "padding": null,
            "right": null,
            "top": null,
            "visibility": null,
            "width": null
          }
        },
        "28c16a0ecdca46058234448ec4e26f9c": {
          "model_module": "@jupyter-widgets/base",
          "model_name": "LayoutModel",
          "model_module_version": "1.2.0",
          "state": {
            "_model_module": "@jupyter-widgets/base",
            "_model_module_version": "1.2.0",
            "_model_name": "LayoutModel",
            "_view_count": null,
            "_view_module": "@jupyter-widgets/base",
            "_view_module_version": "1.2.0",
            "_view_name": "LayoutView",
            "align_content": null,
            "align_items": null,
            "align_self": null,
            "border": null,
            "bottom": null,
            "display": null,
            "flex": null,
            "flex_flow": null,
            "grid_area": null,
            "grid_auto_columns": null,
            "grid_auto_flow": null,
            "grid_auto_rows": null,
            "grid_column": null,
            "grid_gap": null,
            "grid_row": null,
            "grid_template_areas": null,
            "grid_template_columns": null,
            "grid_template_rows": null,
            "height": null,
            "justify_content": null,
            "justify_items": null,
            "left": null,
            "margin": null,
            "max_height": null,
            "max_width": null,
            "min_height": null,
            "min_width": null,
            "object_fit": null,
            "object_position": null,
            "order": null,
            "overflow": null,
            "overflow_x": null,
            "overflow_y": null,
            "padding": null,
            "right": null,
            "top": null,
            "visibility": null,
            "width": null
          }
        },
        "8069e9b7790842feb713fa350ec22ebc": {
          "model_module": "@jupyter-widgets/controls",
          "model_name": "DescriptionStyleModel",
          "model_module_version": "1.5.0",
          "state": {
            "_model_module": "@jupyter-widgets/controls",
            "_model_module_version": "1.5.0",
            "_model_name": "DescriptionStyleModel",
            "_view_count": null,
            "_view_module": "@jupyter-widgets/base",
            "_view_module_version": "1.2.0",
            "_view_name": "StyleView",
            "description_width": ""
          }
        },
        "580b198754144cbe8dfeaa7edbb8cddb": {
          "model_module": "@jupyter-widgets/base",
          "model_name": "LayoutModel",
          "model_module_version": "1.2.0",
          "state": {
            "_model_module": "@jupyter-widgets/base",
            "_model_module_version": "1.2.0",
            "_model_name": "LayoutModel",
            "_view_count": null,
            "_view_module": "@jupyter-widgets/base",
            "_view_module_version": "1.2.0",
            "_view_name": "LayoutView",
            "align_content": null,
            "align_items": null,
            "align_self": null,
            "border": null,
            "bottom": null,
            "display": null,
            "flex": null,
            "flex_flow": null,
            "grid_area": null,
            "grid_auto_columns": null,
            "grid_auto_flow": null,
            "grid_auto_rows": null,
            "grid_column": null,
            "grid_gap": null,
            "grid_row": null,
            "grid_template_areas": null,
            "grid_template_columns": null,
            "grid_template_rows": null,
            "height": null,
            "justify_content": null,
            "justify_items": null,
            "left": null,
            "margin": null,
            "max_height": null,
            "max_width": null,
            "min_height": null,
            "min_width": null,
            "object_fit": null,
            "object_position": null,
            "order": null,
            "overflow": null,
            "overflow_x": null,
            "overflow_y": null,
            "padding": null,
            "right": null,
            "top": null,
            "visibility": null,
            "width": null
          }
        },
        "c22b089cce0b4708957582ef969294df": {
          "model_module": "@jupyter-widgets/controls",
          "model_name": "ProgressStyleModel",
          "model_module_version": "1.5.0",
          "state": {
            "_model_module": "@jupyter-widgets/controls",
            "_model_module_version": "1.5.0",
            "_model_name": "ProgressStyleModel",
            "_view_count": null,
            "_view_module": "@jupyter-widgets/base",
            "_view_module_version": "1.2.0",
            "_view_name": "StyleView",
            "bar_color": null,
            "description_width": ""
          }
        },
        "a0df65b8631842d0bd3fce730901335a": {
          "model_module": "@jupyter-widgets/base",
          "model_name": "LayoutModel",
          "model_module_version": "1.2.0",
          "state": {
            "_model_module": "@jupyter-widgets/base",
            "_model_module_version": "1.2.0",
            "_model_name": "LayoutModel",
            "_view_count": null,
            "_view_module": "@jupyter-widgets/base",
            "_view_module_version": "1.2.0",
            "_view_name": "LayoutView",
            "align_content": null,
            "align_items": null,
            "align_self": null,
            "border": null,
            "bottom": null,
            "display": null,
            "flex": null,
            "flex_flow": null,
            "grid_area": null,
            "grid_auto_columns": null,
            "grid_auto_flow": null,
            "grid_auto_rows": null,
            "grid_column": null,
            "grid_gap": null,
            "grid_row": null,
            "grid_template_areas": null,
            "grid_template_columns": null,
            "grid_template_rows": null,
            "height": null,
            "justify_content": null,
            "justify_items": null,
            "left": null,
            "margin": null,
            "max_height": null,
            "max_width": null,
            "min_height": null,
            "min_width": null,
            "object_fit": null,
            "object_position": null,
            "order": null,
            "overflow": null,
            "overflow_x": null,
            "overflow_y": null,
            "padding": null,
            "right": null,
            "top": null,
            "visibility": null,
            "width": null
          }
        },
        "91975ba2b9314a2884e5e2a73d417396": {
          "model_module": "@jupyter-widgets/controls",
          "model_name": "DescriptionStyleModel",
          "model_module_version": "1.5.0",
          "state": {
            "_model_module": "@jupyter-widgets/controls",
            "_model_module_version": "1.5.0",
            "_model_name": "DescriptionStyleModel",
            "_view_count": null,
            "_view_module": "@jupyter-widgets/base",
            "_view_module_version": "1.2.0",
            "_view_name": "StyleView",
            "description_width": ""
          }
        },
        "6c303419cb0e4836ab6c96db43696553": {
          "model_module": "@jupyter-widgets/controls",
          "model_name": "HBoxModel",
          "model_module_version": "1.5.0",
          "state": {
            "_dom_classes": [],
            "_model_module": "@jupyter-widgets/controls",
            "_model_module_version": "1.5.0",
            "_model_name": "HBoxModel",
            "_view_count": null,
            "_view_module": "@jupyter-widgets/controls",
            "_view_module_version": "1.5.0",
            "_view_name": "HBoxView",
            "box_style": "",
            "children": [
              "IPY_MODEL_c7b0bd4f7f6c4dc38aa320c52a2a71ee",
              "IPY_MODEL_606edc371103416dac422397b46aadb7",
              "IPY_MODEL_d3791a0795d4488caca8175e71871857"
            ],
            "layout": "IPY_MODEL_c5273e15b0c943dbb336363a97169323"
          }
        },
        "c7b0bd4f7f6c4dc38aa320c52a2a71ee": {
          "model_module": "@jupyter-widgets/controls",
          "model_name": "HTMLModel",
          "model_module_version": "1.5.0",
          "state": {
            "_dom_classes": [],
            "_model_module": "@jupyter-widgets/controls",
            "_model_module_version": "1.5.0",
            "_model_name": "HTMLModel",
            "_view_count": null,
            "_view_module": "@jupyter-widgets/controls",
            "_view_module_version": "1.5.0",
            "_view_name": "HTMLView",
            "description": "",
            "description_tooltip": null,
            "layout": "IPY_MODEL_41e38acc402c45d2a1332f0e78c1a5ca",
            "placeholder": "​",
            "style": "IPY_MODEL_0151467417024354ac98ef310b588d65",
            "value": "Generating train split: 100%"
          }
        },
        "606edc371103416dac422397b46aadb7": {
          "model_module": "@jupyter-widgets/controls",
          "model_name": "FloatProgressModel",
          "model_module_version": "1.5.0",
          "state": {
            "_dom_classes": [],
            "_model_module": "@jupyter-widgets/controls",
            "_model_module_version": "1.5.0",
            "_model_name": "FloatProgressModel",
            "_view_count": null,
            "_view_module": "@jupyter-widgets/controls",
            "_view_module_version": "1.5.0",
            "_view_name": "ProgressView",
            "bar_style": "success",
            "description": "",
            "description_tooltip": null,
            "layout": "IPY_MODEL_f0f81c9ece9546b79a7008c1d63b913e",
            "max": 18949,
            "min": 0,
            "orientation": "horizontal",
            "style": "IPY_MODEL_38cdb537ebb348c3bbab39d617521715",
            "value": 18949
          }
        },
        "d3791a0795d4488caca8175e71871857": {
          "model_module": "@jupyter-widgets/controls",
          "model_name": "HTMLModel",
          "model_module_version": "1.5.0",
          "state": {
            "_dom_classes": [],
            "_model_module": "@jupyter-widgets/controls",
            "_model_module_version": "1.5.0",
            "_model_name": "HTMLModel",
            "_view_count": null,
            "_view_module": "@jupyter-widgets/controls",
            "_view_module_version": "1.5.0",
            "_view_name": "HTMLView",
            "description": "",
            "description_tooltip": null,
            "layout": "IPY_MODEL_a61d388bdf504764bd18bb313035df00",
            "placeholder": "​",
            "style": "IPY_MODEL_1cad8d76430347bf869ed84b0de83ed3",
            "value": " 18949/18949 [00:04&lt;00:00, 8160.65 examples/s]"
          }
        },
        "c5273e15b0c943dbb336363a97169323": {
          "model_module": "@jupyter-widgets/base",
          "model_name": "LayoutModel",
          "model_module_version": "1.2.0",
          "state": {
            "_model_module": "@jupyter-widgets/base",
            "_model_module_version": "1.2.0",
            "_model_name": "LayoutModel",
            "_view_count": null,
            "_view_module": "@jupyter-widgets/base",
            "_view_module_version": "1.2.0",
            "_view_name": "LayoutView",
            "align_content": null,
            "align_items": null,
            "align_self": null,
            "border": null,
            "bottom": null,
            "display": null,
            "flex": null,
            "flex_flow": null,
            "grid_area": null,
            "grid_auto_columns": null,
            "grid_auto_flow": null,
            "grid_auto_rows": null,
            "grid_column": null,
            "grid_gap": null,
            "grid_row": null,
            "grid_template_areas": null,
            "grid_template_columns": null,
            "grid_template_rows": null,
            "height": null,
            "justify_content": null,
            "justify_items": null,
            "left": null,
            "margin": null,
            "max_height": null,
            "max_width": null,
            "min_height": null,
            "min_width": null,
            "object_fit": null,
            "object_position": null,
            "order": null,
            "overflow": null,
            "overflow_x": null,
            "overflow_y": null,
            "padding": null,
            "right": null,
            "top": null,
            "visibility": null,
            "width": null
          }
        },
        "41e38acc402c45d2a1332f0e78c1a5ca": {
          "model_module": "@jupyter-widgets/base",
          "model_name": "LayoutModel",
          "model_module_version": "1.2.0",
          "state": {
            "_model_module": "@jupyter-widgets/base",
            "_model_module_version": "1.2.0",
            "_model_name": "LayoutModel",
            "_view_count": null,
            "_view_module": "@jupyter-widgets/base",
            "_view_module_version": "1.2.0",
            "_view_name": "LayoutView",
            "align_content": null,
            "align_items": null,
            "align_self": null,
            "border": null,
            "bottom": null,
            "display": null,
            "flex": null,
            "flex_flow": null,
            "grid_area": null,
            "grid_auto_columns": null,
            "grid_auto_flow": null,
            "grid_auto_rows": null,
            "grid_column": null,
            "grid_gap": null,
            "grid_row": null,
            "grid_template_areas": null,
            "grid_template_columns": null,
            "grid_template_rows": null,
            "height": null,
            "justify_content": null,
            "justify_items": null,
            "left": null,
            "margin": null,
            "max_height": null,
            "max_width": null,
            "min_height": null,
            "min_width": null,
            "object_fit": null,
            "object_position": null,
            "order": null,
            "overflow": null,
            "overflow_x": null,
            "overflow_y": null,
            "padding": null,
            "right": null,
            "top": null,
            "visibility": null,
            "width": null
          }
        },
        "0151467417024354ac98ef310b588d65": {
          "model_module": "@jupyter-widgets/controls",
          "model_name": "DescriptionStyleModel",
          "model_module_version": "1.5.0",
          "state": {
            "_model_module": "@jupyter-widgets/controls",
            "_model_module_version": "1.5.0",
            "_model_name": "DescriptionStyleModel",
            "_view_count": null,
            "_view_module": "@jupyter-widgets/base",
            "_view_module_version": "1.2.0",
            "_view_name": "StyleView",
            "description_width": ""
          }
        },
        "f0f81c9ece9546b79a7008c1d63b913e": {
          "model_module": "@jupyter-widgets/base",
          "model_name": "LayoutModel",
          "model_module_version": "1.2.0",
          "state": {
            "_model_module": "@jupyter-widgets/base",
            "_model_module_version": "1.2.0",
            "_model_name": "LayoutModel",
            "_view_count": null,
            "_view_module": "@jupyter-widgets/base",
            "_view_module_version": "1.2.0",
            "_view_name": "LayoutView",
            "align_content": null,
            "align_items": null,
            "align_self": null,
            "border": null,
            "bottom": null,
            "display": null,
            "flex": null,
            "flex_flow": null,
            "grid_area": null,
            "grid_auto_columns": null,
            "grid_auto_flow": null,
            "grid_auto_rows": null,
            "grid_column": null,
            "grid_gap": null,
            "grid_row": null,
            "grid_template_areas": null,
            "grid_template_columns": null,
            "grid_template_rows": null,
            "height": null,
            "justify_content": null,
            "justify_items": null,
            "left": null,
            "margin": null,
            "max_height": null,
            "max_width": null,
            "min_height": null,
            "min_width": null,
            "object_fit": null,
            "object_position": null,
            "order": null,
            "overflow": null,
            "overflow_x": null,
            "overflow_y": null,
            "padding": null,
            "right": null,
            "top": null,
            "visibility": null,
            "width": null
          }
        },
        "38cdb537ebb348c3bbab39d617521715": {
          "model_module": "@jupyter-widgets/controls",
          "model_name": "ProgressStyleModel",
          "model_module_version": "1.5.0",
          "state": {
            "_model_module": "@jupyter-widgets/controls",
            "_model_module_version": "1.5.0",
            "_model_name": "ProgressStyleModel",
            "_view_count": null,
            "_view_module": "@jupyter-widgets/base",
            "_view_module_version": "1.2.0",
            "_view_name": "StyleView",
            "bar_color": null,
            "description_width": ""
          }
        },
        "a61d388bdf504764bd18bb313035df00": {
          "model_module": "@jupyter-widgets/base",
          "model_name": "LayoutModel",
          "model_module_version": "1.2.0",
          "state": {
            "_model_module": "@jupyter-widgets/base",
            "_model_module_version": "1.2.0",
            "_model_name": "LayoutModel",
            "_view_count": null,
            "_view_module": "@jupyter-widgets/base",
            "_view_module_version": "1.2.0",
            "_view_name": "LayoutView",
            "align_content": null,
            "align_items": null,
            "align_self": null,
            "border": null,
            "bottom": null,
            "display": null,
            "flex": null,
            "flex_flow": null,
            "grid_area": null,
            "grid_auto_columns": null,
            "grid_auto_flow": null,
            "grid_auto_rows": null,
            "grid_column": null,
            "grid_gap": null,
            "grid_row": null,
            "grid_template_areas": null,
            "grid_template_columns": null,
            "grid_template_rows": null,
            "height": null,
            "justify_content": null,
            "justify_items": null,
            "left": null,
            "margin": null,
            "max_height": null,
            "max_width": null,
            "min_height": null,
            "min_width": null,
            "object_fit": null,
            "object_position": null,
            "order": null,
            "overflow": null,
            "overflow_x": null,
            "overflow_y": null,
            "padding": null,
            "right": null,
            "top": null,
            "visibility": null,
            "width": null
          }
        },
        "1cad8d76430347bf869ed84b0de83ed3": {
          "model_module": "@jupyter-widgets/controls",
          "model_name": "DescriptionStyleModel",
          "model_module_version": "1.5.0",
          "state": {
            "_model_module": "@jupyter-widgets/controls",
            "_model_module_version": "1.5.0",
            "_model_name": "DescriptionStyleModel",
            "_view_count": null,
            "_view_module": "@jupyter-widgets/base",
            "_view_module_version": "1.2.0",
            "_view_name": "StyleView",
            "description_width": ""
          }
        },
        "b6a6ea378d7949b9a73988c71adab49c": {
          "model_module": "@jupyter-widgets/controls",
          "model_name": "HBoxModel",
          "model_module_version": "1.5.0",
          "state": {
            "_dom_classes": [],
            "_model_module": "@jupyter-widgets/controls",
            "_model_module_version": "1.5.0",
            "_model_name": "HBoxModel",
            "_view_count": null,
            "_view_module": "@jupyter-widgets/controls",
            "_view_module_version": "1.5.0",
            "_view_name": "HBoxView",
            "box_style": "",
            "children": [
              "IPY_MODEL_a84df03cbab74182b105310bc3cede94",
              "IPY_MODEL_0e1154be244a427fa2e2e7d572c3be78",
              "IPY_MODEL_77e7837d9c8840f5bddf184ed140466b"
            ],
            "layout": "IPY_MODEL_5d1b1a75721f42d59335736ea003add0"
          }
        },
        "a84df03cbab74182b105310bc3cede94": {
          "model_module": "@jupyter-widgets/controls",
          "model_name": "HTMLModel",
          "model_module_version": "1.5.0",
          "state": {
            "_dom_classes": [],
            "_model_module": "@jupyter-widgets/controls",
            "_model_module_version": "1.5.0",
            "_model_name": "HTMLModel",
            "_view_count": null,
            "_view_module": "@jupyter-widgets/controls",
            "_view_module_version": "1.5.0",
            "_view_name": "HTMLView",
            "description": "",
            "description_tooltip": null,
            "layout": "IPY_MODEL_ad0e7fa700e746ec8156629a758742bd",
            "placeholder": "​",
            "style": "IPY_MODEL_cdf3c86c6f1b49fa9b4e50008c035d52",
            "value": "Generating test split: 100%"
          }
        },
        "0e1154be244a427fa2e2e7d572c3be78": {
          "model_module": "@jupyter-widgets/controls",
          "model_name": "FloatProgressModel",
          "model_module_version": "1.5.0",
          "state": {
            "_dom_classes": [],
            "_model_module": "@jupyter-widgets/controls",
            "_model_module_version": "1.5.0",
            "_model_name": "FloatProgressModel",
            "_view_count": null,
            "_view_module": "@jupyter-widgets/controls",
            "_view_module_version": "1.5.0",
            "_view_name": "ProgressView",
            "bar_style": "success",
            "description": "",
            "description_tooltip": null,
            "layout": "IPY_MODEL_827f0ff23c46427381c344fc23f70c5d",
            "max": 3269,
            "min": 0,
            "orientation": "horizontal",
            "style": "IPY_MODEL_2e033cb7715b4a0a8b8a9de6c1db816a",
            "value": 3269
          }
        },
        "77e7837d9c8840f5bddf184ed140466b": {
          "model_module": "@jupyter-widgets/controls",
          "model_name": "HTMLModel",
          "model_module_version": "1.5.0",
          "state": {
            "_dom_classes": [],
            "_model_module": "@jupyter-widgets/controls",
            "_model_module_version": "1.5.0",
            "_model_name": "HTMLModel",
            "_view_count": null,
            "_view_module": "@jupyter-widgets/controls",
            "_view_module_version": "1.5.0",
            "_view_name": "HTMLView",
            "description": "",
            "description_tooltip": null,
            "layout": "IPY_MODEL_aa75d55e0a694e46a923bca1873aaf02",
            "placeholder": "​",
            "style": "IPY_MODEL_a4e85728d081441784079199569b79b1",
            "value": " 3269/3269 [00:00&lt;00:00, 5226.18 examples/s]"
          }
        },
        "5d1b1a75721f42d59335736ea003add0": {
          "model_module": "@jupyter-widgets/base",
          "model_name": "LayoutModel",
          "model_module_version": "1.2.0",
          "state": {
            "_model_module": "@jupyter-widgets/base",
            "_model_module_version": "1.2.0",
            "_model_name": "LayoutModel",
            "_view_count": null,
            "_view_module": "@jupyter-widgets/base",
            "_view_module_version": "1.2.0",
            "_view_name": "LayoutView",
            "align_content": null,
            "align_items": null,
            "align_self": null,
            "border": null,
            "bottom": null,
            "display": null,
            "flex": null,
            "flex_flow": null,
            "grid_area": null,
            "grid_auto_columns": null,
            "grid_auto_flow": null,
            "grid_auto_rows": null,
            "grid_column": null,
            "grid_gap": null,
            "grid_row": null,
            "grid_template_areas": null,
            "grid_template_columns": null,
            "grid_template_rows": null,
            "height": null,
            "justify_content": null,
            "justify_items": null,
            "left": null,
            "margin": null,
            "max_height": null,
            "max_width": null,
            "min_height": null,
            "min_width": null,
            "object_fit": null,
            "object_position": null,
            "order": null,
            "overflow": null,
            "overflow_x": null,
            "overflow_y": null,
            "padding": null,
            "right": null,
            "top": null,
            "visibility": null,
            "width": null
          }
        },
        "ad0e7fa700e746ec8156629a758742bd": {
          "model_module": "@jupyter-widgets/base",
          "model_name": "LayoutModel",
          "model_module_version": "1.2.0",
          "state": {
            "_model_module": "@jupyter-widgets/base",
            "_model_module_version": "1.2.0",
            "_model_name": "LayoutModel",
            "_view_count": null,
            "_view_module": "@jupyter-widgets/base",
            "_view_module_version": "1.2.0",
            "_view_name": "LayoutView",
            "align_content": null,
            "align_items": null,
            "align_self": null,
            "border": null,
            "bottom": null,
            "display": null,
            "flex": null,
            "flex_flow": null,
            "grid_area": null,
            "grid_auto_columns": null,
            "grid_auto_flow": null,
            "grid_auto_rows": null,
            "grid_column": null,
            "grid_gap": null,
            "grid_row": null,
            "grid_template_areas": null,
            "grid_template_columns": null,
            "grid_template_rows": null,
            "height": null,
            "justify_content": null,
            "justify_items": null,
            "left": null,
            "margin": null,
            "max_height": null,
            "max_width": null,
            "min_height": null,
            "min_width": null,
            "object_fit": null,
            "object_position": null,
            "order": null,
            "overflow": null,
            "overflow_x": null,
            "overflow_y": null,
            "padding": null,
            "right": null,
            "top": null,
            "visibility": null,
            "width": null
          }
        },
        "cdf3c86c6f1b49fa9b4e50008c035d52": {
          "model_module": "@jupyter-widgets/controls",
          "model_name": "DescriptionStyleModel",
          "model_module_version": "1.5.0",
          "state": {
            "_model_module": "@jupyter-widgets/controls",
            "_model_module_version": "1.5.0",
            "_model_name": "DescriptionStyleModel",
            "_view_count": null,
            "_view_module": "@jupyter-widgets/base",
            "_view_module_version": "1.2.0",
            "_view_name": "StyleView",
            "description_width": ""
          }
        },
        "827f0ff23c46427381c344fc23f70c5d": {
          "model_module": "@jupyter-widgets/base",
          "model_name": "LayoutModel",
          "model_module_version": "1.2.0",
          "state": {
            "_model_module": "@jupyter-widgets/base",
            "_model_module_version": "1.2.0",
            "_model_name": "LayoutModel",
            "_view_count": null,
            "_view_module": "@jupyter-widgets/base",
            "_view_module_version": "1.2.0",
            "_view_name": "LayoutView",
            "align_content": null,
            "align_items": null,
            "align_self": null,
            "border": null,
            "bottom": null,
            "display": null,
            "flex": null,
            "flex_flow": null,
            "grid_area": null,
            "grid_auto_columns": null,
            "grid_auto_flow": null,
            "grid_auto_rows": null,
            "grid_column": null,
            "grid_gap": null,
            "grid_row": null,
            "grid_template_areas": null,
            "grid_template_columns": null,
            "grid_template_rows": null,
            "height": null,
            "justify_content": null,
            "justify_items": null,
            "left": null,
            "margin": null,
            "max_height": null,
            "max_width": null,
            "min_height": null,
            "min_width": null,
            "object_fit": null,
            "object_position": null,
            "order": null,
            "overflow": null,
            "overflow_x": null,
            "overflow_y": null,
            "padding": null,
            "right": null,
            "top": null,
            "visibility": null,
            "width": null
          }
        },
        "2e033cb7715b4a0a8b8a9de6c1db816a": {
          "model_module": "@jupyter-widgets/controls",
          "model_name": "ProgressStyleModel",
          "model_module_version": "1.5.0",
          "state": {
            "_model_module": "@jupyter-widgets/controls",
            "_model_module_version": "1.5.0",
            "_model_name": "ProgressStyleModel",
            "_view_count": null,
            "_view_module": "@jupyter-widgets/base",
            "_view_module_version": "1.2.0",
            "_view_name": "StyleView",
            "bar_color": null,
            "description_width": ""
          }
        },
        "aa75d55e0a694e46a923bca1873aaf02": {
          "model_module": "@jupyter-widgets/base",
          "model_name": "LayoutModel",
          "model_module_version": "1.2.0",
          "state": {
            "_model_module": "@jupyter-widgets/base",
            "_model_module_version": "1.2.0",
            "_model_name": "LayoutModel",
            "_view_count": null,
            "_view_module": "@jupyter-widgets/base",
            "_view_module_version": "1.2.0",
            "_view_name": "LayoutView",
            "align_content": null,
            "align_items": null,
            "align_self": null,
            "border": null,
            "bottom": null,
            "display": null,
            "flex": null,
            "flex_flow": null,
            "grid_area": null,
            "grid_auto_columns": null,
            "grid_auto_flow": null,
            "grid_auto_rows": null,
            "grid_column": null,
            "grid_gap": null,
            "grid_row": null,
            "grid_template_areas": null,
            "grid_template_columns": null,
            "grid_template_rows": null,
            "height": null,
            "justify_content": null,
            "justify_items": null,
            "left": null,
            "margin": null,
            "max_height": null,
            "max_width": null,
            "min_height": null,
            "min_width": null,
            "object_fit": null,
            "object_position": null,
            "order": null,
            "overflow": null,
            "overflow_x": null,
            "overflow_y": null,
            "padding": null,
            "right": null,
            "top": null,
            "visibility": null,
            "width": null
          }
        },
        "a4e85728d081441784079199569b79b1": {
          "model_module": "@jupyter-widgets/controls",
          "model_name": "DescriptionStyleModel",
          "model_module_version": "1.5.0",
          "state": {
            "_model_module": "@jupyter-widgets/controls",
            "_model_module_version": "1.5.0",
            "_model_name": "DescriptionStyleModel",
            "_view_count": null,
            "_view_module": "@jupyter-widgets/base",
            "_view_module_version": "1.2.0",
            "_view_name": "StyleView",
            "description_width": ""
          }
        },
        "771c776f8c0d4d7b91169120855db389": {
          "model_module": "@jupyter-widgets/controls",
          "model_name": "HBoxModel",
          "model_module_version": "1.5.0",
          "state": {
            "_dom_classes": [],
            "_model_module": "@jupyter-widgets/controls",
            "_model_module_version": "1.5.0",
            "_model_name": "HBoxModel",
            "_view_count": null,
            "_view_module": "@jupyter-widgets/controls",
            "_view_module_version": "1.5.0",
            "_view_name": "HBoxView",
            "box_style": "",
            "children": [
              "IPY_MODEL_b2c19513fbf54ea1bba5b1a8d3570f38",
              "IPY_MODEL_713eab24bfcb4543a9b6da2c37b523d7",
              "IPY_MODEL_4fa076a89bc1494b82a5e5635ad46baa"
            ],
            "layout": "IPY_MODEL_e5c2d1aceeea42dd90fabc13bbe99774"
          }
        },
        "b2c19513fbf54ea1bba5b1a8d3570f38": {
          "model_module": "@jupyter-widgets/controls",
          "model_name": "HTMLModel",
          "model_module_version": "1.5.0",
          "state": {
            "_dom_classes": [],
            "_model_module": "@jupyter-widgets/controls",
            "_model_module_version": "1.5.0",
            "_model_name": "HTMLModel",
            "_view_count": null,
            "_view_module": "@jupyter-widgets/controls",
            "_view_module_version": "1.5.0",
            "_view_name": "HTMLView",
            "description": "",
            "description_tooltip": null,
            "layout": "IPY_MODEL_f575e7e5504b40a79359b0cee799957c",
            "placeholder": "​",
            "style": "IPY_MODEL_e4c8069337a54efea5da150a263f731f",
            "value": "Generating ca_test split: 100%"
          }
        },
        "713eab24bfcb4543a9b6da2c37b523d7": {
          "model_module": "@jupyter-widgets/controls",
          "model_name": "FloatProgressModel",
          "model_module_version": "1.5.0",
          "state": {
            "_dom_classes": [],
            "_model_module": "@jupyter-widgets/controls",
            "_model_module_version": "1.5.0",
            "_model_name": "FloatProgressModel",
            "_view_count": null,
            "_view_module": "@jupyter-widgets/controls",
            "_view_module_version": "1.5.0",
            "_view_name": "ProgressView",
            "bar_style": "success",
            "description": "",
            "description_tooltip": null,
            "layout": "IPY_MODEL_c7458e6ed92c42d6afe246eb2427d55d",
            "max": 1237,
            "min": 0,
            "orientation": "horizontal",
            "style": "IPY_MODEL_b31cd47f771b43b99545cda3e2059420",
            "value": 1237
          }
        },
        "4fa076a89bc1494b82a5e5635ad46baa": {
          "model_module": "@jupyter-widgets/controls",
          "model_name": "HTMLModel",
          "model_module_version": "1.5.0",
          "state": {
            "_dom_classes": [],
            "_model_module": "@jupyter-widgets/controls",
            "_model_module_version": "1.5.0",
            "_model_name": "HTMLModel",
            "_view_count": null,
            "_view_module": "@jupyter-widgets/controls",
            "_view_module_version": "1.5.0",
            "_view_name": "HTMLView",
            "description": "",
            "description_tooltip": null,
            "layout": "IPY_MODEL_cd9dc5d07e644c909d3646c5bd1d5da0",
            "placeholder": "​",
            "style": "IPY_MODEL_e800b90ffe4d4ff19ddfcc69b8da1aa5",
            "value": " 1237/1237 [00:00&lt;00:00, 9486.35 examples/s]"
          }
        },
        "e5c2d1aceeea42dd90fabc13bbe99774": {
          "model_module": "@jupyter-widgets/base",
          "model_name": "LayoutModel",
          "model_module_version": "1.2.0",
          "state": {
            "_model_module": "@jupyter-widgets/base",
            "_model_module_version": "1.2.0",
            "_model_name": "LayoutModel",
            "_view_count": null,
            "_view_module": "@jupyter-widgets/base",
            "_view_module_version": "1.2.0",
            "_view_name": "LayoutView",
            "align_content": null,
            "align_items": null,
            "align_self": null,
            "border": null,
            "bottom": null,
            "display": null,
            "flex": null,
            "flex_flow": null,
            "grid_area": null,
            "grid_auto_columns": null,
            "grid_auto_flow": null,
            "grid_auto_rows": null,
            "grid_column": null,
            "grid_gap": null,
            "grid_row": null,
            "grid_template_areas": null,
            "grid_template_columns": null,
            "grid_template_rows": null,
            "height": null,
            "justify_content": null,
            "justify_items": null,
            "left": null,
            "margin": null,
            "max_height": null,
            "max_width": null,
            "min_height": null,
            "min_width": null,
            "object_fit": null,
            "object_position": null,
            "order": null,
            "overflow": null,
            "overflow_x": null,
            "overflow_y": null,
            "padding": null,
            "right": null,
            "top": null,
            "visibility": null,
            "width": null
          }
        },
        "f575e7e5504b40a79359b0cee799957c": {
          "model_module": "@jupyter-widgets/base",
          "model_name": "LayoutModel",
          "model_module_version": "1.2.0",
          "state": {
            "_model_module": "@jupyter-widgets/base",
            "_model_module_version": "1.2.0",
            "_model_name": "LayoutModel",
            "_view_count": null,
            "_view_module": "@jupyter-widgets/base",
            "_view_module_version": "1.2.0",
            "_view_name": "LayoutView",
            "align_content": null,
            "align_items": null,
            "align_self": null,
            "border": null,
            "bottom": null,
            "display": null,
            "flex": null,
            "flex_flow": null,
            "grid_area": null,
            "grid_auto_columns": null,
            "grid_auto_flow": null,
            "grid_auto_rows": null,
            "grid_column": null,
            "grid_gap": null,
            "grid_row": null,
            "grid_template_areas": null,
            "grid_template_columns": null,
            "grid_template_rows": null,
            "height": null,
            "justify_content": null,
            "justify_items": null,
            "left": null,
            "margin": null,
            "max_height": null,
            "max_width": null,
            "min_height": null,
            "min_width": null,
            "object_fit": null,
            "object_position": null,
            "order": null,
            "overflow": null,
            "overflow_x": null,
            "overflow_y": null,
            "padding": null,
            "right": null,
            "top": null,
            "visibility": null,
            "width": null
          }
        },
        "e4c8069337a54efea5da150a263f731f": {
          "model_module": "@jupyter-widgets/controls",
          "model_name": "DescriptionStyleModel",
          "model_module_version": "1.5.0",
          "state": {
            "_model_module": "@jupyter-widgets/controls",
            "_model_module_version": "1.5.0",
            "_model_name": "DescriptionStyleModel",
            "_view_count": null,
            "_view_module": "@jupyter-widgets/base",
            "_view_module_version": "1.2.0",
            "_view_name": "StyleView",
            "description_width": ""
          }
        },
        "c7458e6ed92c42d6afe246eb2427d55d": {
          "model_module": "@jupyter-widgets/base",
          "model_name": "LayoutModel",
          "model_module_version": "1.2.0",
          "state": {
            "_model_module": "@jupyter-widgets/base",
            "_model_module_version": "1.2.0",
            "_model_name": "LayoutModel",
            "_view_count": null,
            "_view_module": "@jupyter-widgets/base",
            "_view_module_version": "1.2.0",
            "_view_name": "LayoutView",
            "align_content": null,
            "align_items": null,
            "align_self": null,
            "border": null,
            "bottom": null,
            "display": null,
            "flex": null,
            "flex_flow": null,
            "grid_area": null,
            "grid_auto_columns": null,
            "grid_auto_flow": null,
            "grid_auto_rows": null,
            "grid_column": null,
            "grid_gap": null,
            "grid_row": null,
            "grid_template_areas": null,
            "grid_template_columns": null,
            "grid_template_rows": null,
            "height": null,
            "justify_content": null,
            "justify_items": null,
            "left": null,
            "margin": null,
            "max_height": null,
            "max_width": null,
            "min_height": null,
            "min_width": null,
            "object_fit": null,
            "object_position": null,
            "order": null,
            "overflow": null,
            "overflow_x": null,
            "overflow_y": null,
            "padding": null,
            "right": null,
            "top": null,
            "visibility": null,
            "width": null
          }
        },
        "b31cd47f771b43b99545cda3e2059420": {
          "model_module": "@jupyter-widgets/controls",
          "model_name": "ProgressStyleModel",
          "model_module_version": "1.5.0",
          "state": {
            "_model_module": "@jupyter-widgets/controls",
            "_model_module_version": "1.5.0",
            "_model_name": "ProgressStyleModel",
            "_view_count": null,
            "_view_module": "@jupyter-widgets/base",
            "_view_module_version": "1.2.0",
            "_view_name": "StyleView",
            "bar_color": null,
            "description_width": ""
          }
        },
        "cd9dc5d07e644c909d3646c5bd1d5da0": {
          "model_module": "@jupyter-widgets/base",
          "model_name": "LayoutModel",
          "model_module_version": "1.2.0",
          "state": {
            "_model_module": "@jupyter-widgets/base",
            "_model_module_version": "1.2.0",
            "_model_name": "LayoutModel",
            "_view_count": null,
            "_view_module": "@jupyter-widgets/base",
            "_view_module_version": "1.2.0",
            "_view_name": "LayoutView",
            "align_content": null,
            "align_items": null,
            "align_self": null,
            "border": null,
            "bottom": null,
            "display": null,
            "flex": null,
            "flex_flow": null,
            "grid_area": null,
            "grid_auto_columns": null,
            "grid_auto_flow": null,
            "grid_auto_rows": null,
            "grid_column": null,
            "grid_gap": null,
            "grid_row": null,
            "grid_template_areas": null,
            "grid_template_columns": null,
            "grid_template_rows": null,
            "height": null,
            "justify_content": null,
            "justify_items": null,
            "left": null,
            "margin": null,
            "max_height": null,
            "max_width": null,
            "min_height": null,
            "min_width": null,
            "object_fit": null,
            "object_position": null,
            "order": null,
            "overflow": null,
            "overflow_x": null,
            "overflow_y": null,
            "padding": null,
            "right": null,
            "top": null,
            "visibility": null,
            "width": null
          }
        },
        "e800b90ffe4d4ff19ddfcc69b8da1aa5": {
          "model_module": "@jupyter-widgets/controls",
          "model_name": "DescriptionStyleModel",
          "model_module_version": "1.5.0",
          "state": {
            "_model_module": "@jupyter-widgets/controls",
            "_model_module_version": "1.5.0",
            "_model_name": "DescriptionStyleModel",
            "_view_count": null,
            "_view_module": "@jupyter-widgets/base",
            "_view_module_version": "1.2.0",
            "_view_name": "StyleView",
            "description_width": ""
          }
        },
        "d45ec2e795ce48429c698a44e7ddaeae": {
          "model_module": "@jupyter-widgets/controls",
          "model_name": "HBoxModel",
          "model_module_version": "1.5.0",
          "state": {
            "_dom_classes": [],
            "_model_module": "@jupyter-widgets/controls",
            "_model_module_version": "1.5.0",
            "_model_name": "HBoxModel",
            "_view_count": null,
            "_view_module": "@jupyter-widgets/controls",
            "_view_module_version": "1.5.0",
            "_view_name": "HBoxView",
            "box_style": "",
            "children": [
              "IPY_MODEL_1ffbae46f7a944509383cbec24c62db4",
              "IPY_MODEL_909b1127bbd34b228d3d945f450042ec",
              "IPY_MODEL_4e8ac7ceb0204d2bbf6f681467165019"
            ],
            "layout": "IPY_MODEL_812b3a720cbe4bea9afd3e6779043f17"
          }
        },
        "1ffbae46f7a944509383cbec24c62db4": {
          "model_module": "@jupyter-widgets/controls",
          "model_name": "HTMLModel",
          "model_module_version": "1.5.0",
          "state": {
            "_dom_classes": [],
            "_model_module": "@jupyter-widgets/controls",
            "_model_module_version": "1.5.0",
            "_model_name": "HTMLModel",
            "_view_count": null,
            "_view_module": "@jupyter-widgets/controls",
            "_view_module_version": "1.5.0",
            "_view_name": "HTMLView",
            "description": "",
            "description_tooltip": null,
            "layout": "IPY_MODEL_eda911085bfb4ed18a40f4b671103c10",
            "placeholder": "​",
            "style": "IPY_MODEL_4b0cdcb3896e4a009afa14163f592f8f",
            "value": "Map: 100%"
          }
        },
        "909b1127bbd34b228d3d945f450042ec": {
          "model_module": "@jupyter-widgets/controls",
          "model_name": "FloatProgressModel",
          "model_module_version": "1.5.0",
          "state": {
            "_dom_classes": [],
            "_model_module": "@jupyter-widgets/controls",
            "_model_module_version": "1.5.0",
            "_model_name": "FloatProgressModel",
            "_view_count": null,
            "_view_module": "@jupyter-widgets/controls",
            "_view_module_version": "1.5.0",
            "_view_name": "ProgressView",
            "bar_style": "success",
            "description": "",
            "description_tooltip": null,
            "layout": "IPY_MODEL_af22ad9242bc492892d68f7f811d8c65",
            "max": 10,
            "min": 0,
            "orientation": "horizontal",
            "style": "IPY_MODEL_f9293b7218db4b9297aee9b5d5b4ce45",
            "value": 10
          }
        },
        "4e8ac7ceb0204d2bbf6f681467165019": {
          "model_module": "@jupyter-widgets/controls",
          "model_name": "HTMLModel",
          "model_module_version": "1.5.0",
          "state": {
            "_dom_classes": [],
            "_model_module": "@jupyter-widgets/controls",
            "_model_module_version": "1.5.0",
            "_model_name": "HTMLModel",
            "_view_count": null,
            "_view_module": "@jupyter-widgets/controls",
            "_view_module_version": "1.5.0",
            "_view_name": "HTMLView",
            "description": "",
            "description_tooltip": null,
            "layout": "IPY_MODEL_7939cce14e0f4ba39fea429f163f2c3c",
            "placeholder": "​",
            "style": "IPY_MODEL_33ad87a531d043409ff7872711aac94d",
            "value": " 10/10 [00:00&lt;00:00, 319.81 examples/s]"
          }
        },
        "812b3a720cbe4bea9afd3e6779043f17": {
          "model_module": "@jupyter-widgets/base",
          "model_name": "LayoutModel",
          "model_module_version": "1.2.0",
          "state": {
            "_model_module": "@jupyter-widgets/base",
            "_model_module_version": "1.2.0",
            "_model_name": "LayoutModel",
            "_view_count": null,
            "_view_module": "@jupyter-widgets/base",
            "_view_module_version": "1.2.0",
            "_view_name": "LayoutView",
            "align_content": null,
            "align_items": null,
            "align_self": null,
            "border": null,
            "bottom": null,
            "display": null,
            "flex": null,
            "flex_flow": null,
            "grid_area": null,
            "grid_auto_columns": null,
            "grid_auto_flow": null,
            "grid_auto_rows": null,
            "grid_column": null,
            "grid_gap": null,
            "grid_row": null,
            "grid_template_areas": null,
            "grid_template_columns": null,
            "grid_template_rows": null,
            "height": null,
            "justify_content": null,
            "justify_items": null,
            "left": null,
            "margin": null,
            "max_height": null,
            "max_width": null,
            "min_height": null,
            "min_width": null,
            "object_fit": null,
            "object_position": null,
            "order": null,
            "overflow": null,
            "overflow_x": null,
            "overflow_y": null,
            "padding": null,
            "right": null,
            "top": null,
            "visibility": null,
            "width": null
          }
        },
        "eda911085bfb4ed18a40f4b671103c10": {
          "model_module": "@jupyter-widgets/base",
          "model_name": "LayoutModel",
          "model_module_version": "1.2.0",
          "state": {
            "_model_module": "@jupyter-widgets/base",
            "_model_module_version": "1.2.0",
            "_model_name": "LayoutModel",
            "_view_count": null,
            "_view_module": "@jupyter-widgets/base",
            "_view_module_version": "1.2.0",
            "_view_name": "LayoutView",
            "align_content": null,
            "align_items": null,
            "align_self": null,
            "border": null,
            "bottom": null,
            "display": null,
            "flex": null,
            "flex_flow": null,
            "grid_area": null,
            "grid_auto_columns": null,
            "grid_auto_flow": null,
            "grid_auto_rows": null,
            "grid_column": null,
            "grid_gap": null,
            "grid_row": null,
            "grid_template_areas": null,
            "grid_template_columns": null,
            "grid_template_rows": null,
            "height": null,
            "justify_content": null,
            "justify_items": null,
            "left": null,
            "margin": null,
            "max_height": null,
            "max_width": null,
            "min_height": null,
            "min_width": null,
            "object_fit": null,
            "object_position": null,
            "order": null,
            "overflow": null,
            "overflow_x": null,
            "overflow_y": null,
            "padding": null,
            "right": null,
            "top": null,
            "visibility": null,
            "width": null
          }
        },
        "4b0cdcb3896e4a009afa14163f592f8f": {
          "model_module": "@jupyter-widgets/controls",
          "model_name": "DescriptionStyleModel",
          "model_module_version": "1.5.0",
          "state": {
            "_model_module": "@jupyter-widgets/controls",
            "_model_module_version": "1.5.0",
            "_model_name": "DescriptionStyleModel",
            "_view_count": null,
            "_view_module": "@jupyter-widgets/base",
            "_view_module_version": "1.2.0",
            "_view_name": "StyleView",
            "description_width": ""
          }
        },
        "af22ad9242bc492892d68f7f811d8c65": {
          "model_module": "@jupyter-widgets/base",
          "model_name": "LayoutModel",
          "model_module_version": "1.2.0",
          "state": {
            "_model_module": "@jupyter-widgets/base",
            "_model_module_version": "1.2.0",
            "_model_name": "LayoutModel",
            "_view_count": null,
            "_view_module": "@jupyter-widgets/base",
            "_view_module_version": "1.2.0",
            "_view_name": "LayoutView",
            "align_content": null,
            "align_items": null,
            "align_self": null,
            "border": null,
            "bottom": null,
            "display": null,
            "flex": null,
            "flex_flow": null,
            "grid_area": null,
            "grid_auto_columns": null,
            "grid_auto_flow": null,
            "grid_auto_rows": null,
            "grid_column": null,
            "grid_gap": null,
            "grid_row": null,
            "grid_template_areas": null,
            "grid_template_columns": null,
            "grid_template_rows": null,
            "height": null,
            "justify_content": null,
            "justify_items": null,
            "left": null,
            "margin": null,
            "max_height": null,
            "max_width": null,
            "min_height": null,
            "min_width": null,
            "object_fit": null,
            "object_position": null,
            "order": null,
            "overflow": null,
            "overflow_x": null,
            "overflow_y": null,
            "padding": null,
            "right": null,
            "top": null,
            "visibility": null,
            "width": null
          }
        },
        "f9293b7218db4b9297aee9b5d5b4ce45": {
          "model_module": "@jupyter-widgets/controls",
          "model_name": "ProgressStyleModel",
          "model_module_version": "1.5.0",
          "state": {
            "_model_module": "@jupyter-widgets/controls",
            "_model_module_version": "1.5.0",
            "_model_name": "ProgressStyleModel",
            "_view_count": null,
            "_view_module": "@jupyter-widgets/base",
            "_view_module_version": "1.2.0",
            "_view_name": "StyleView",
            "bar_color": null,
            "description_width": ""
          }
        },
        "7939cce14e0f4ba39fea429f163f2c3c": {
          "model_module": "@jupyter-widgets/base",
          "model_name": "LayoutModel",
          "model_module_version": "1.2.0",
          "state": {
            "_model_module": "@jupyter-widgets/base",
            "_model_module_version": "1.2.0",
            "_model_name": "LayoutModel",
            "_view_count": null,
            "_view_module": "@jupyter-widgets/base",
            "_view_module_version": "1.2.0",
            "_view_name": "LayoutView",
            "align_content": null,
            "align_items": null,
            "align_self": null,
            "border": null,
            "bottom": null,
            "display": null,
            "flex": null,
            "flex_flow": null,
            "grid_area": null,
            "grid_auto_columns": null,
            "grid_auto_flow": null,
            "grid_auto_rows": null,
            "grid_column": null,
            "grid_gap": null,
            "grid_row": null,
            "grid_template_areas": null,
            "grid_template_columns": null,
            "grid_template_rows": null,
            "height": null,
            "justify_content": null,
            "justify_items": null,
            "left": null,
            "margin": null,
            "max_height": null,
            "max_width": null,
            "min_height": null,
            "min_width": null,
            "object_fit": null,
            "object_position": null,
            "order": null,
            "overflow": null,
            "overflow_x": null,
            "overflow_y": null,
            "padding": null,
            "right": null,
            "top": null,
            "visibility": null,
            "width": null
          }
        },
        "33ad87a531d043409ff7872711aac94d": {
          "model_module": "@jupyter-widgets/controls",
          "model_name": "DescriptionStyleModel",
          "model_module_version": "1.5.0",
          "state": {
            "_model_module": "@jupyter-widgets/controls",
            "_model_module_version": "1.5.0",
            "_model_name": "DescriptionStyleModel",
            "_view_count": null,
            "_view_module": "@jupyter-widgets/base",
            "_view_module_version": "1.2.0",
            "_view_name": "StyleView",
            "description_width": ""
          }
        },
        "8cae0854d88c45b78c0eca6ad9155ba8": {
          "model_module": "@jupyter-widgets/controls",
          "model_name": "HBoxModel",
          "model_module_version": "1.5.0",
          "state": {
            "_dom_classes": [],
            "_model_module": "@jupyter-widgets/controls",
            "_model_module_version": "1.5.0",
            "_model_name": "HBoxModel",
            "_view_count": null,
            "_view_module": "@jupyter-widgets/controls",
            "_view_module_version": "1.5.0",
            "_view_name": "HBoxView",
            "box_style": "",
            "children": [
              "IPY_MODEL_64059ff8106848fb96ac2e5f06dff55f",
              "IPY_MODEL_5d8a3135b0b04adf8c776fbc8db21adc",
              "IPY_MODEL_a6cdf440fb874822b7ca5420cf93d632"
            ],
            "layout": "IPY_MODEL_34d3bedd2dd845ebaef4c4817b0eee2a"
          }
        },
        "64059ff8106848fb96ac2e5f06dff55f": {
          "model_module": "@jupyter-widgets/controls",
          "model_name": "HTMLModel",
          "model_module_version": "1.5.0",
          "state": {
            "_dom_classes": [],
            "_model_module": "@jupyter-widgets/controls",
            "_model_module_version": "1.5.0",
            "_model_name": "HTMLModel",
            "_view_count": null,
            "_view_module": "@jupyter-widgets/controls",
            "_view_module_version": "1.5.0",
            "_view_name": "HTMLView",
            "description": "",
            "description_tooltip": null,
            "layout": "IPY_MODEL_41fb01641d1d4f92bb6966ccdba557ba",
            "placeholder": "​",
            "style": "IPY_MODEL_4277b195474d4888b3c64144662d752a",
            "value": "Creating CSV from Arrow format: 100%"
          }
        },
        "5d8a3135b0b04adf8c776fbc8db21adc": {
          "model_module": "@jupyter-widgets/controls",
          "model_name": "FloatProgressModel",
          "model_module_version": "1.5.0",
          "state": {
            "_dom_classes": [],
            "_model_module": "@jupyter-widgets/controls",
            "_model_module_version": "1.5.0",
            "_model_name": "FloatProgressModel",
            "_view_count": null,
            "_view_module": "@jupyter-widgets/controls",
            "_view_module_version": "1.5.0",
            "_view_name": "ProgressView",
            "bar_style": "success",
            "description": "",
            "description_tooltip": null,
            "layout": "IPY_MODEL_5711bcdda50a46a5b5bd1fa8a2c3f627",
            "max": 1,
            "min": 0,
            "orientation": "horizontal",
            "style": "IPY_MODEL_c6981d092a9e46ae9ec39fb4218917e3",
            "value": 1
          }
        },
        "a6cdf440fb874822b7ca5420cf93d632": {
          "model_module": "@jupyter-widgets/controls",
          "model_name": "HTMLModel",
          "model_module_version": "1.5.0",
          "state": {
            "_dom_classes": [],
            "_model_module": "@jupyter-widgets/controls",
            "_model_module_version": "1.5.0",
            "_model_name": "HTMLModel",
            "_view_count": null,
            "_view_module": "@jupyter-widgets/controls",
            "_view_module_version": "1.5.0",
            "_view_name": "HTMLView",
            "description": "",
            "description_tooltip": null,
            "layout": "IPY_MODEL_700c612dc9024b899be798dd0f2503ff",
            "placeholder": "​",
            "style": "IPY_MODEL_0c8ba57bc1ee4bf692a4187b7b8448b5",
            "value": " 1/1 [00:00&lt;00:00, 41.79ba/s]"
          }
        },
        "34d3bedd2dd845ebaef4c4817b0eee2a": {
          "model_module": "@jupyter-widgets/base",
          "model_name": "LayoutModel",
          "model_module_version": "1.2.0",
          "state": {
            "_model_module": "@jupyter-widgets/base",
            "_model_module_version": "1.2.0",
            "_model_name": "LayoutModel",
            "_view_count": null,
            "_view_module": "@jupyter-widgets/base",
            "_view_module_version": "1.2.0",
            "_view_name": "LayoutView",
            "align_content": null,
            "align_items": null,
            "align_self": null,
            "border": null,
            "bottom": null,
            "display": null,
            "flex": null,
            "flex_flow": null,
            "grid_area": null,
            "grid_auto_columns": null,
            "grid_auto_flow": null,
            "grid_auto_rows": null,
            "grid_column": null,
            "grid_gap": null,
            "grid_row": null,
            "grid_template_areas": null,
            "grid_template_columns": null,
            "grid_template_rows": null,
            "height": null,
            "justify_content": null,
            "justify_items": null,
            "left": null,
            "margin": null,
            "max_height": null,
            "max_width": null,
            "min_height": null,
            "min_width": null,
            "object_fit": null,
            "object_position": null,
            "order": null,
            "overflow": null,
            "overflow_x": null,
            "overflow_y": null,
            "padding": null,
            "right": null,
            "top": null,
            "visibility": null,
            "width": null
          }
        },
        "41fb01641d1d4f92bb6966ccdba557ba": {
          "model_module": "@jupyter-widgets/base",
          "model_name": "LayoutModel",
          "model_module_version": "1.2.0",
          "state": {
            "_model_module": "@jupyter-widgets/base",
            "_model_module_version": "1.2.0",
            "_model_name": "LayoutModel",
            "_view_count": null,
            "_view_module": "@jupyter-widgets/base",
            "_view_module_version": "1.2.0",
            "_view_name": "LayoutView",
            "align_content": null,
            "align_items": null,
            "align_self": null,
            "border": null,
            "bottom": null,
            "display": null,
            "flex": null,
            "flex_flow": null,
            "grid_area": null,
            "grid_auto_columns": null,
            "grid_auto_flow": null,
            "grid_auto_rows": null,
            "grid_column": null,
            "grid_gap": null,
            "grid_row": null,
            "grid_template_areas": null,
            "grid_template_columns": null,
            "grid_template_rows": null,
            "height": null,
            "justify_content": null,
            "justify_items": null,
            "left": null,
            "margin": null,
            "max_height": null,
            "max_width": null,
            "min_height": null,
            "min_width": null,
            "object_fit": null,
            "object_position": null,
            "order": null,
            "overflow": null,
            "overflow_x": null,
            "overflow_y": null,
            "padding": null,
            "right": null,
            "top": null,
            "visibility": null,
            "width": null
          }
        },
        "4277b195474d4888b3c64144662d752a": {
          "model_module": "@jupyter-widgets/controls",
          "model_name": "DescriptionStyleModel",
          "model_module_version": "1.5.0",
          "state": {
            "_model_module": "@jupyter-widgets/controls",
            "_model_module_version": "1.5.0",
            "_model_name": "DescriptionStyleModel",
            "_view_count": null,
            "_view_module": "@jupyter-widgets/base",
            "_view_module_version": "1.2.0",
            "_view_name": "StyleView",
            "description_width": ""
          }
        },
        "5711bcdda50a46a5b5bd1fa8a2c3f627": {
          "model_module": "@jupyter-widgets/base",
          "model_name": "LayoutModel",
          "model_module_version": "1.2.0",
          "state": {
            "_model_module": "@jupyter-widgets/base",
            "_model_module_version": "1.2.0",
            "_model_name": "LayoutModel",
            "_view_count": null,
            "_view_module": "@jupyter-widgets/base",
            "_view_module_version": "1.2.0",
            "_view_name": "LayoutView",
            "align_content": null,
            "align_items": null,
            "align_self": null,
            "border": null,
            "bottom": null,
            "display": null,
            "flex": null,
            "flex_flow": null,
            "grid_area": null,
            "grid_auto_columns": null,
            "grid_auto_flow": null,
            "grid_auto_rows": null,
            "grid_column": null,
            "grid_gap": null,
            "grid_row": null,
            "grid_template_areas": null,
            "grid_template_columns": null,
            "grid_template_rows": null,
            "height": null,
            "justify_content": null,
            "justify_items": null,
            "left": null,
            "margin": null,
            "max_height": null,
            "max_width": null,
            "min_height": null,
            "min_width": null,
            "object_fit": null,
            "object_position": null,
            "order": null,
            "overflow": null,
            "overflow_x": null,
            "overflow_y": null,
            "padding": null,
            "right": null,
            "top": null,
            "visibility": null,
            "width": null
          }
        },
        "c6981d092a9e46ae9ec39fb4218917e3": {
          "model_module": "@jupyter-widgets/controls",
          "model_name": "ProgressStyleModel",
          "model_module_version": "1.5.0",
          "state": {
            "_model_module": "@jupyter-widgets/controls",
            "_model_module_version": "1.5.0",
            "_model_name": "ProgressStyleModel",
            "_view_count": null,
            "_view_module": "@jupyter-widgets/base",
            "_view_module_version": "1.2.0",
            "_view_name": "StyleView",
            "bar_color": null,
            "description_width": ""
          }
        },
        "700c612dc9024b899be798dd0f2503ff": {
          "model_module": "@jupyter-widgets/base",
          "model_name": "LayoutModel",
          "model_module_version": "1.2.0",
          "state": {
            "_model_module": "@jupyter-widgets/base",
            "_model_module_version": "1.2.0",
            "_model_name": "LayoutModel",
            "_view_count": null,
            "_view_module": "@jupyter-widgets/base",
            "_view_module_version": "1.2.0",
            "_view_name": "LayoutView",
            "align_content": null,
            "align_items": null,
            "align_self": null,
            "border": null,
            "bottom": null,
            "display": null,
            "flex": null,
            "flex_flow": null,
            "grid_area": null,
            "grid_auto_columns": null,
            "grid_auto_flow": null,
            "grid_auto_rows": null,
            "grid_column": null,
            "grid_gap": null,
            "grid_row": null,
            "grid_template_areas": null,
            "grid_template_columns": null,
            "grid_template_rows": null,
            "height": null,
            "justify_content": null,
            "justify_items": null,
            "left": null,
            "margin": null,
            "max_height": null,
            "max_width": null,
            "min_height": null,
            "min_width": null,
            "object_fit": null,
            "object_position": null,
            "order": null,
            "overflow": null,
            "overflow_x": null,
            "overflow_y": null,
            "padding": null,
            "right": null,
            "top": null,
            "visibility": null,
            "width": null
          }
        },
        "0c8ba57bc1ee4bf692a4187b7b8448b5": {
          "model_module": "@jupyter-widgets/controls",
          "model_name": "DescriptionStyleModel",
          "model_module_version": "1.5.0",
          "state": {
            "_model_module": "@jupyter-widgets/controls",
            "_model_module_version": "1.5.0",
            "_model_name": "DescriptionStyleModel",
            "_view_count": null,
            "_view_module": "@jupyter-widgets/base",
            "_view_module_version": "1.2.0",
            "_view_name": "StyleView",
            "description_width": ""
          }
        }
      }
    }
  },
  "nbformat": 4,
  "nbformat_minor": 5
}